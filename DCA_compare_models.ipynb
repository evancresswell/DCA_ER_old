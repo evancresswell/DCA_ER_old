{
 "cells": [
  {
   "cell_type": "markdown",
   "metadata": {},
   "source": [
    "# Compare Inference models for Protein Contacts using DCA\n",
    "The purpose of this python notebook is to concisely compare several inferences models which all use Direct Coupling Analysis (DCA) to infer contact information for Multiple Sequence Alignments (MSA) of homologous protein families.\n",
    "\n",
    "### Methods\n",
    "* Mean Field (mfDCA)\n",
    "* Pseudoliklihood (plmDCA)\n",
    "* Expectation Reflection (erDCA)"
   ]
  },
  {
   "cell_type": "code",
   "execution_count": 1,
   "metadata": {},
   "outputs": [
    {
     "data": {
      "text/html": [
       "\n",
       "        <script>\n",
       "            function code_toggle_4423141494673149559() {\n",
       "                $('div.cell.code_cell.rendered.selected').find('div.input').toggle();\n",
       "            }\n",
       "\n",
       "            \n",
       "        </script>\n",
       "\n",
       "        <a href=\"javascript:code_toggle_4423141494673149559()\">Toggle show/hide</a>\n",
       "    "
      ],
      "text/plain": [
       "<IPython.core.display.HTML object>"
      ]
     },
     "execution_count": 1,
     "metadata": {},
     "output_type": "execute_result"
    }
   ],
   "source": [
    "import ecc_tools as tools\n",
    "import numpy as np\n",
    "import pandas as pd\n",
    "from scipy import linalg\n",
    "from sklearn.preprocessing import OneHotEncoder\n",
    "#import emachine as EM\n",
    "from direct_info import direct_info\n",
    "from direct_info import sort_di\n",
    "import data_processing as dp\n",
    "\n",
    "import Bio.PDB, warnings\n",
    "pdb_list = Bio.PDB.PDBList()\n",
    "pdb_parser = Bio.PDB.PDBParser()\n",
    "from scipy.spatial import distance_matrix\n",
    "from Bio import BiopythonWarning\n",
    "warnings.simplefilter('ignore', BiopythonWarning)\n",
    "\n",
    "from scipy.sparse import csr_matrix\n",
    "from joblib import Parallel, delayed\n",
    "import timeit\n",
    "\n",
    "import matplotlib.pyplot as plt\n",
    "%matplotlib inline\n",
    "\n",
    "import sys\n",
    "import numpy as np\n",
    "from scipy import linalg\n",
    "from sklearn.preprocessing import OneHotEncoder\n",
    "import expectation_reflection as ER\n",
    "from direct_info import direct_info\n",
    "from joblib import Parallel, delayed\n",
    "\n",
    "# import inference_dca for mfDCA\n",
    "from inference_dca import direct_info_dca\n",
    "\n",
    "# import pydca for plmDCA\n",
    "from pydca.plmdca import plmdca\n",
    "from pydca.meanfield_dca import meanfield_dca\n",
    "from pydca.sequence_backmapper import sequence_backmapper\n",
    "from pydca.msa_trimmer import msa_trimmer\n",
    "from pydca.contact_visualizer import contact_visualizer\n",
    "from pydca.dca_utilities import dca_utilities\n",
    "\n",
    "tools.hide_toggle()"
   ]
  },
  {
   "cell_type": "markdown",
   "metadata": {},
   "source": [
    "## Read In Protein Structure"
   ]
  },
  {
   "cell_type": "code",
   "execution_count": 2,
   "metadata": {},
   "outputs": [
    {
     "name": "stdout",
     "output_type": "stream",
     "text": [
      "number of pdb structures: 52\n",
      "        PF   seq          id uniprot_start uniprot_start pdb_id chain  \\\n",
      "0  PF00010  1028  MAD1_HUMAN            57           109   1NLW     A   \n",
      "1  PF00010  1028  MAD1_HUMAN            57           109   1NLW     D   \n",
      "2  PF00010  2675  PHO4_YEAST           251           307   1A0A     A   \n",
      "3  PF00010  2675  PHO4_YEAST           251           307   1A0A     B   \n",
      "4  PF00010  9479  NDF1_MOUSE           102           154   2QL2     D   \n",
      "\n",
      "  pdb_start pdb_end  \n",
      "0         2      54  \n",
      "1       502     554  \n",
      "2         1      57  \n",
      "3         1      57  \n",
      "4       102     154  \n",
      "seq: 1028\n",
      "tpdb is now  927\n"
     ]
    },
    {
     "data": {
      "text/html": [
       "\n",
       "        <script>\n",
       "            function code_toggle_7508125628843177565() {\n",
       "                $('div.cell.code_cell.rendered.selected').find('div.input').toggle();\n",
       "            }\n",
       "\n",
       "            \n",
       "        </script>\n",
       "\n",
       "        <a href=\"javascript:code_toggle_7508125628843177565()\">Toggle show/hide</a>\n",
       "    "
      ],
      "text/plain": [
       "<IPython.core.display.HTML object>"
      ]
     },
     "execution_count": 2,
     "metadata": {},
     "output_type": "execute_result"
    }
   ],
   "source": [
    "# Read in Protein structure\n",
    "data_path = '../Pfam-A.full'\n",
    "pfam_id = 'PF00186'\n",
    "pfam_id = 'PF04542'\n",
    "pfam_id = \"PF00011\"\n",
    "pfam_id = \"PF00010\"\n",
    "\n",
    "\n",
    "pdb = np.load('%s/%s/pdb_refs.npy'%(data_path,pfam_id))\n",
    "\n",
    "# Pre-Process Structure Data\n",
    "# delete 'b' in front of letters (python 2 --> python 3)\n",
    "pdb = np.array([pdb[t,i].decode('UTF-8') for t in range(pdb.shape[0]) \\\n",
    "         for i in range(pdb.shape[1])]).reshape(pdb.shape[0],pdb.shape[1])\n",
    "\n",
    "# Print number of pdb structures in Protein ID folder\n",
    "npdb = pdb.shape[0]\n",
    "print('number of pdb structures:',npdb)\n",
    "\n",
    "# Create pandas dataframe for protein structure\n",
    "df = pd.DataFrame(pdb,columns = ['PF','seq','id','uniprot_start','uniprot_start',\\\n",
    "                                 'pdb_id','chain','pdb_start','pdb_end'])\n",
    "print(df.head())\n",
    "\n",
    "ipdb = 0\n",
    "print('seq:',int(pdb[ipdb,1]))\n",
    "\n",
    "\n",
    "\n",
    "# Read in Sequence Data\n",
    "processing = True\n",
    "if processing:\n",
    "    # data processing\n",
    "    s0,cols_removed,s_index,s_ipdb = dp.data_processing(data_path,pfam_id,ipdb,\\\n",
    "                    gap_seqs=0.2,gap_cols=0.2,prob_low=0.004,conserved_cols=0.9)\n",
    "    # Save processed data\n",
    "    msa_outfile, ref_outfile = dp.write_FASTA(s0,pfam_id,s_ipdb)\n",
    "else:\n",
    "    msa_outfile, ref_outfile = dp.create_unprocessed_FASTA(pdb,data_path,pfam_id,ipdb)\n",
    "    \n",
    "    # create MSATrimmer instance \n",
    "    trimmer = msa_trimmer.MSATrimmer(\n",
    "        msa_outfile, biomolecule='protein', \n",
    "        refseq_file=ref_outfile,\n",
    "    )\n",
    "\n",
    "    trimmed_data = trimmer.get_msa_trimmed_by_refseq(remove_all_gaps=True)\n",
    "    print (\"trimmed_data:\\n\",trimmed_data)\n",
    "\n",
    "    #write trimmed msa to file in FASTA format\n",
    "    trimmed_data_outfile = 'MSA_'+pfam_id+'_Trimmed.fa'\n",
    "    with open(trimmed_data_outfile, 'w') as fh:\n",
    "        for seqid, seq in trimmed_data:\n",
    "            fh.write('>{}\\n{}\\n'.format(seqid, seq))\n",
    "            \n",
    "            \n",
    "#----------------CGCUUCAUAUAAUCCUAAUGAUAUGGUUUGGGAGUUUCUACCAAGAG-CCUUAAA-CUCUUGAUUAUGAAGUG-------------\n",
    "#CGCUUCAUAUAAUCCUAAUGAUAUGGUUUGGGAGUUUCUACCAAGAGCCUUAAACUCUUGAUUAUGAAGUG\n",
    "#UGAAAUUGGAUAACAGUUUUUCGUAUAAUCUCGGGAAU-UGGCCUGAGAGUUUCUACGAGAUCACCGCAAAUGAUCUGGCUACGAAAAAAAGGAACGGUAUC\n",
    "tools.hide_toggle()\n",
    "\n"
   ]
  },
  {
   "cell_type": "markdown",
   "metadata": {},
   "source": [
    "\n",
    "\n",
    "## Expectation Reflection DCA (erDCA)\n",
    "* Generate One-Hot matrix representation of sequence data\n",
    "* Generate and plot Contact Map"
   ]
  },
  {
   "cell_type": "code",
   "execution_count": 4,
   "metadata": {},
   "outputs": [
    {
     "name": "stdout",
     "output_type": "stream",
     "text": [
      "Structure exists: '/home/eclay/DCA_ER/nl/pdb1nlw.ent' \n",
      "(44, 3)\n"
     ]
    },
    {
     "data": {
      "image/png": "[encoded data removed]",
      "text/plain": [
       "<Figure size 432x288 with 2 Axes>"
      ]
     },
     "metadata": {
      "needs_background": "light"
     },
     "output_type": "display_data"
    },
    {
     "data": {
      "text/html": [
       "\n",
       "        <script>\n",
       "            function code_toggle_15926498738812257161() {\n",
       "                $('div.cell.code_cell.rendered.selected').find('div.input').toggle();\n",
       "            }\n",
       "\n",
       "            \n",
       "        </script>\n",
       "\n",
       "        <a href=\"javascript:code_toggle_15926498738812257161()\">Toggle show/hide</a>\n",
       "    "
      ],
      "text/plain": [
       "<IPython.core.display.HTML object>"
      ]
     },
     "execution_count": 4,
     "metadata": {},
     "output_type": "execute_result"
    }
   ],
   "source": [
    "# number of positions\n",
    "n_var = s0.shape[1]\n",
    "\n",
    "# number of aminoacids at each position\n",
    "mx = np.array([len(np.unique(s0[:,i])) for i in range(n_var)])\n",
    "\n",
    "mx_cumsum = np.insert(mx.cumsum(),0,0)\n",
    "i1i2 = np.stack([mx_cumsum[:-1],mx_cumsum[1:]]).T \n",
    "\n",
    "# number of variables\n",
    "mx_sum = mx.sum()\n",
    "\n",
    "# number of bias term\n",
    "n_linear = mx_sum - n_var\n",
    "\n",
    "#---------------------- Generate One-Hot/Contact -------------------#\n",
    "# Generate One-Hot Matrix\n",
    "onehot_encoder = OneHotEncoder(sparse=False,categories='auto')\n",
    "# s is OneHot encoder format, s0 is original sequnce matrix\n",
    "s = onehot_encoder.fit_transform(s0)\n",
    "\n",
    "# Generate Contact Map\n",
    "ct = tools.contact_map(pdb,ipdb,cols_removed,s_index)\n",
    "ct_distal = tools.distance_restr(ct,s_index,make_large=True)\n",
    "#--------------------------------------------------------------------#\n",
    "\n",
    "plt.title('Contact Map')\n",
    "plt.imshow(ct_distal,cmap='rainbow_r',origin='lower')\n",
    "plt.xlabel('i')\n",
    "plt.ylabel('j')\n",
    "plt.colorbar(fraction=0.045, pad=0.05)\n",
    "plt.show()\n",
    "\n",
    "tools.hide_toggle()"
   ]
  },
  {
   "cell_type": "markdown",
   "metadata": {},
   "source": [
    "#### Apply Expectation Reflection"
   ]
  },
  {
   "cell_type": "code",
   "execution_count": 5,
   "metadata": {},
   "outputs": [],
   "source": [
    "# Define wight matrix with variable for each possible amino acid at each sequence position\n",
    "w = np.zeros((mx.sum(),mx.sum())) \n",
    "h0 = np.zeros(mx.sum())"
   ]
  },
  {
   "cell_type": "code",
   "execution_count": 6,
   "metadata": {},
   "outputs": [
    {
     "name": "stdout",
     "output_type": "stream",
     "text": [
      "ER run time: 182.63872293313034\n"
     ]
    },
    {
     "data": {
      "text/html": [
       "\n",
       "        <script>\n",
       "            function code_toggle_15977622422528701835() {\n",
       "                $('div.cell.code_cell.rendered.selected').find('div.input').toggle();\n",
       "            }\n",
       "\n",
       "            \n",
       "        </script>\n",
       "\n",
       "        <a href=\"javascript:code_toggle_15977622422528701835()\">Toggle show/hide</a>\n",
       "    "
      ],
      "text/plain": [
       "<IPython.core.display.HTML object>"
      ]
     },
     "execution_count": 6,
     "metadata": {},
     "output_type": "execute_result"
    }
   ],
   "source": [
    "# Expectation Reflection\n",
    "#=========================================================================================\n",
    "def predict_w(s,i0,i1i2,niter_max,l2):\n",
    "    #print('i0:',i0)\n",
    "    i1,i2 = i1i2[i0,0],i1i2[i0,1]\n",
    "\n",
    "    x = np.hstack([s[:,:i1],s[:,i2:]])\n",
    "    y = s[:,i1:i2]\n",
    "\n",
    "    h01,w1 = ER.fit(x,y,niter_max,l2)\n",
    "\n",
    "    return h01,w1\n",
    "\n",
    "#-------------------------------\n",
    "# parallel\n",
    "start_time = timeit.default_timer()\n",
    "res = Parallel(n_jobs = 32)(delayed(predict_w)\\\n",
    "        (s,i0,i1i2,niter_max=10,l2=100.0)\\\n",
    "        for i0 in range(n_var))\n",
    "\n",
    "run_time = timeit.default_timer() - start_time\n",
    "print('ER run time:',run_time)\n",
    "\n",
    "#-------------------------------\n",
    "\n",
    "for i0 in range(n_var):\n",
    "    i1,i2 = i1i2[i0,0],i1i2[i0,1]\n",
    "\n",
    "    h01 = res[i0][0]\n",
    "    w1 = res[i0][1]\n",
    "\n",
    "    h0[i1:i2] = h01\n",
    "    w[:i1,i1:i2] = w1[:i1,:]\n",
    "    w[i2:,i1:i2] = w1[i1:,:]\n",
    "\n",
    "# make w symmetric\n",
    "w = (w + w.T)/2.\n",
    "\n",
    "tools.hide_toggle()"
   ]
  },
  {
   "cell_type": "markdown",
   "metadata": {},
   "source": [
    "#### Calculate Direct Info from erDCA"
   ]
  },
  {
   "cell_type": "code",
   "execution_count": 7,
   "metadata": {},
   "outputs": [
    {
     "name": "stdout",
     "output_type": "stream",
     "text": [
      "Print top 10 pairs\n",
      "((1, 0), 0.23888593331991925)\n",
      "((0, 1), 0.23888593331991925)\n",
      "((1, 2), 0.22896739262326174)\n",
      "((2, 1), 0.22896739262326174)\n",
      "((40, 39), 0.14002882899319746)\n",
      "((39, 40), 0.14002882899319746)\n",
      "((1, 7), 0.13890569143910225)\n",
      "((7, 1), 0.13890569143910225)\n",
      "((42, 43), 0.13580984910939126)\n",
      "((43, 42), 0.13580984910939126)\n",
      "\n",
      "Print top 10 Non-Redundant pairs\n",
      "((1, 0), 0.23888593331991925)\n",
      "((1, 2), 0.22896739262326174)\n",
      "((40, 39), 0.14002882899319746)\n",
      "((1, 7), 0.13890569143910225)\n",
      "((42, 43), 0.13580984910939126)\n",
      "((24, 23), 0.10906461215744846)\n",
      "((23, 22), 0.10717260208553586)\n",
      "((7, 5), 0.10604898384627312)\n",
      "((31, 28), 0.10504859647460132)\n",
      "((2, 3), 0.0968721056519036)\n"
     ]
    }
   ],
   "source": [
    "#print(w[:10,-10:])\n",
    "di_er = direct_info(s0,w)\n",
    "#sorted_DI_er = sorted_DI_er[::2]\n",
    "sorted_DI_ER_redundant = sort_di(di_er)\n",
    "print(\"Print top 10 pairs\")\n",
    "for x in sorted_DI_ER_redundant[:10]:\n",
    "    print(x)\n",
    "\n",
    "from data_processing import delete_sorted_DI_duplicates # newly generated for this python notebook.\n",
    "sorted_DI_er = delete_sorted_DI_duplicates(sorted_DI_ER_redundant)\n",
    "\n",
    "sorted_DI_er_dr = tools.distance_restr_sortedDI(sorted_DI_er)\n",
    "\n",
    "print(\"\\nPrint top 10 Non-Redundant pairs\")\n",
    "for x in sorted_DI_er[:10]:\n",
    "    print(x)"
   ]
  },
  {
   "cell_type": "markdown",
   "metadata": {},
   "source": [
    "## Mean Field DCA (mfDCA)"
   ]
  },
  {
   "cell_type": "code",
   "execution_count": 8,
   "metadata": {},
   "outputs": [
    {
     "name": "stdout",
     "output_type": "stream",
     "text": [
      "MF run time: 11.772300959099084\n",
      "sorted_DI (list) has shape:  (946, 2) \n",
      "Rows: all combinations of sequence postitions ie sequence len choose 2 \n",
      "num sequences = 16328 , sequences len = 44\n",
      "\n",
      "\n",
      "Print top 10 pairs\n",
      "(1, 7) 0.3063931367504865\n",
      "(1, 2) 0.17966933763998644\n",
      "(2, 4) 0.15367373841142348\n",
      "(11, 29) 0.13216762107758465\n",
      "(0, 1) 0.125833162905454\n",
      "(4, 7) 0.11510885754000032\n",
      "(1, 4) 0.11362024532314871\n",
      "(28, 31) 0.10664854506731408\n",
      "(39, 40) 0.08580040304042078\n",
      "(2, 3) 0.08303361291986891\n",
      "\n",
      "Print top 10 pairs (Distance Restraint)\n",
      "(1, 7) 0.3063931367504865\n",
      "(11, 29) 0.13216762107758465\n",
      "(7, 30) 0.07807924288227419\n",
      "(7, 13) 0.07683172040813831\n",
      "(4, 30) 0.07538129000962786\n",
      "(2, 13) 0.07355111761744539\n",
      "(10, 33) 0.07227351379527105\n",
      "(9, 34) 0.07092200013809812\n",
      "(1, 21) 0.07080529892763741\n",
      "(13, 30) 0.06910658970931122\n",
      "Calculated DI: (shape, matrix)\n",
      " (44, 44) \n",
      " [[0.         0.12583316 0.07354844 ... 0.01022479 0.01327294 0.0024278 ]\n",
      " [0.12583316 0.         0.17966934 ... 0.00784702 0.00754893 0.01293804]\n",
      " [0.07354844 0.17966934 0.         ... 0.01019662 0.01144472 0.00338583]\n",
      " ...\n",
      " [0.01022479 0.00784702 0.01019662 ... 0.         0.04943041 0.0207896 ]\n",
      " [0.01327294 0.00754893 0.01144472 ... 0.04943041 0.         0.06687384]\n",
      " [0.0024278  0.01293804 0.00338583 ... 0.0207896  0.06687384 0.        ]]\n"
     ]
    },
    {
     "data": {
      "text/html": [
       "\n",
       "        <script>\n",
       "            function code_toggle_17895954564202110451() {\n",
       "                $('div.cell.code_cell.rendered.selected').find('div.input').toggle();\n",
       "            }\n",
       "\n",
       "            \n",
       "        </script>\n",
       "\n",
       "        <a href=\"javascript:code_toggle_17895954564202110451()\">Toggle show/hide</a>\n",
       "    "
      ],
      "text/plain": [
       "<IPython.core.display.HTML object>"
      ]
     },
     "execution_count": 8,
     "metadata": {},
     "output_type": "execute_result"
    }
   ],
   "source": [
    "\n",
    "#create mean-field DCA instance \n",
    "mfdca_inst = meanfield_dca.MeanFieldDCA(\n",
    "    msa_outfile,\n",
    "    'protein',\n",
    "    pseudocount = 0.5,\n",
    "    seqid = 0.8,\n",
    "\n",
    ")\n",
    "\n",
    "#start_time = timeit.default_timer()\n",
    "#di_mf = direct_info_dca(s0)\n",
    "#run_time = timeit.default_timer() - start_time\n",
    "#print('MF run time:',run_time)\n",
    "\n",
    "# Compute DCA scores using Mean Field DCA\n",
    "start_time = timeit.default_timer()\n",
    "sorted_DI_mf = mfdca_inst.compute_sorted_DI()\n",
    "run_time = timeit.default_timer() - start_time\n",
    "print('MF run time:',run_time)\n",
    "\n",
    "N = mfdca_inst.sequences_len\n",
    "B = mfdca_inst.num_sequences\n",
    "print(\"sorted_DI (list) has shape: \",np.array(sorted_DI_mf).shape,\"\\nRows: all combinations of sequence postitions ie sequence len choose 2 \")\n",
    "print(\"num sequences = %d , sequences len = %d\\n\\n\"%(B,N))\n",
    "\n",
    "\n",
    "\n",
    "print(\"Print top 10 pairs\")\n",
    "for site_pair, score in sorted_DI_mf[:10]:\n",
    "    print(site_pair, score)\n",
    "\n",
    "print(\"\\nPrint top 10 pairs (Distance Restraint)\")\n",
    "sorted_DI_mf_dr = tools.distance_restr_sortedDI(sorted_DI_mf)\n",
    "for site_pair, score in sorted_DI_mf_dr[:10]:\n",
    "    print(site_pair, score)\n",
    "    \n",
    "# Generate Direct Information matrix\n",
    "di_mf = np.zeros((N,N))\n",
    "DI_ver= np.array(sorted_DI_mf)\n",
    "\n",
    "for coupling in sorted_DI_mf:\n",
    "    di_mf[coupling[0][0],coupling[0][1]] = coupling[1]\n",
    "    di_mf[coupling[0][1],coupling[0][0]] = coupling[1]\n",
    "\n",
    "print(\"Calculated DI: (shape, matrix)\\n\",di_mf.shape,\"\\n\",di_mf)\n",
    "np.save(\"mfDCA_DI_%s.npy\"%(pfam_id),di_mf)\n",
    "\n",
    "\n",
    "tools.hide_toggle()"
   ]
  },
  {
   "cell_type": "markdown",
   "metadata": {},
   "source": [
    "## Pseudoliklihood DCA (plmDCA)"
   ]
  },
  {
   "cell_type": "code",
   "execution_count": 10,
   "metadata": {
    "scrolled": true
   },
   "outputs": [
    {
     "name": "stdout",
     "output_type": "stream",
     "text": [
      "PLM run time: 53.76999727007933\n",
      "sorted_DI (list) has shape:  (946, 2) \n",
      "Rows: all combinations of sequence postitions ie sequence len choose 2 \n",
      "num sequences = 35426 , sequences len = 44\n",
      "\n",
      "\n",
      "Print top 10 pairs\n",
      "(11, 29) 0.024947091306974655\n",
      "(1, 7) 0.024426510063460034\n",
      "(28, 31) 0.0211471008130647\n",
      "(1, 4) 0.020477044590441553\n",
      "(2, 4) 0.019080751511633763\n",
      "(35, 38) 0.016071215219251055\n",
      "(26, 28) 0.014905942425521877\n",
      "(6, 33) 0.013725290241455112\n",
      "(10, 33) 0.013519678512770044\n",
      "(9, 34) 0.013505822872896627\n",
      "\n",
      "Print top 10 pairs (Distance Restraint)\n"
     ]
    },
    {
     "ename": "NameError",
     "evalue": "name 'sorted_DI_mf_plm' is not defined",
     "output_type": "error",
     "traceback": [
      "\u001b[0;31m---------------------------------------------------------------------------\u001b[0m",
      "\u001b[0;31mNameError\u001b[0m                                 Traceback (most recent call last)",
      "\u001b[0;32m<ipython-input-10-5e2f37d9ce5a>\u001b[0m in \u001b[0;36m<module>\u001b[0;34m\u001b[0m\n\u001b[1;32m     27\u001b[0m \u001b[0mprint\u001b[0m\u001b[0;34m(\u001b[0m\u001b[0;34m\"\\nPrint top 10 pairs (Distance Restraint)\"\u001b[0m\u001b[0;34m)\u001b[0m\u001b[0;34m\u001b[0m\u001b[0;34m\u001b[0m\u001b[0m\n\u001b[1;32m     28\u001b[0m \u001b[0msorted_DI_plm_dr\u001b[0m \u001b[0;34m=\u001b[0m \u001b[0mtools\u001b[0m\u001b[0;34m.\u001b[0m\u001b[0mdistance_restr_sortedDI\u001b[0m\u001b[0;34m(\u001b[0m\u001b[0msorted_DI_plm\u001b[0m\u001b[0;34m)\u001b[0m\u001b[0;34m\u001b[0m\u001b[0;34m\u001b[0m\u001b[0m\n\u001b[0;32m---> 29\u001b[0;31m \u001b[0;32mfor\u001b[0m \u001b[0msite_pair\u001b[0m\u001b[0;34m,\u001b[0m \u001b[0mscore\u001b[0m \u001b[0;32min\u001b[0m \u001b[0msorted_DI_mf_plm\u001b[0m\u001b[0;34m[\u001b[0m\u001b[0;34m:\u001b[0m\u001b[0;36m10\u001b[0m\u001b[0;34m]\u001b[0m\u001b[0;34m:\u001b[0m\u001b[0;34m\u001b[0m\u001b[0;34m\u001b[0m\u001b[0m\n\u001b[0m\u001b[1;32m     30\u001b[0m     \u001b[0mprint\u001b[0m\u001b[0;34m(\u001b[0m\u001b[0msite_pair\u001b[0m\u001b[0;34m,\u001b[0m \u001b[0mscore\u001b[0m\u001b[0;34m)\u001b[0m\u001b[0;34m\u001b[0m\u001b[0;34m\u001b[0m\u001b[0m\n\u001b[1;32m     31\u001b[0m \u001b[0;34m\u001b[0m\u001b[0m\n",
      "\u001b[0;31mNameError\u001b[0m: name 'sorted_DI_mf_plm' is not defined"
     ]
    }
   ],
   "source": [
    "# DCA scores using Pseudolikelihood maximization algorithm        \n",
    "plmdca_inst = plmdca.PlmDCA(\n",
    "    msa_outfile,\n",
    "    'protein',\n",
    "    seqid = 0.8,\n",
    "    lambda_h = 1.0,\n",
    "    lambda_J = 20.0,\n",
    "    num_threads = 10,\n",
    "    max_iterations = 500,\n",
    ")\n",
    "\n",
    "# Compute DCA scores using Pseudolikelihood maximization algorithm\n",
    "start_time = timeit.default_timer()\n",
    "sorted_DI_plm = plmdca_inst.compute_sorted_DI()\n",
    "run_time = timeit.default_timer() - start_time\n",
    "print('PLM run time:',run_time)\n",
    "\n",
    "N = plmdca_inst.sequences_len\n",
    "B = plmdca_inst.num_sequences\n",
    "print(\"sorted_DI (list) has shape: \",np.array(sorted_DI_plm).shape,\"\\nRows: all combinations of sequence postitions ie sequence len choose 2 \")\n",
    "print(\"num sequences = %d , sequences len = %d\\n\\n\"%(B,N))\n",
    "\n",
    "print(\"Print top 10 pairs\")\n",
    "for site_pair, score in sorted_DI_plm[:10]:\n",
    "    print(site_pair, score)\n",
    "\n",
    "print(\"\\nPrint top 10 pairs (Distance Restraint)\")\n",
    "sorted_DI_plm_dr = tools.distance_restr_sortedDI(sorted_DI_plm)\n",
    "for site_pair, score in sorted_DI_mf_plm[:10]:\n",
    "    print(site_pair, score)\n",
    "    \n",
    "tools.hide_toggle()"
   ]
  },
  {
   "cell_type": "code",
   "execution_count": null,
   "metadata": {},
   "outputs": [],
   "source": [
    "# Generate Direct Information matrix\n",
    "di_plm = np.zeros((N,N))\n",
    "DI_ver= np.array(sorted_DI_plm)\n",
    "\n",
    "\n",
    "for coupling in sorted_DI_er:\n",
    "    di_plm[coupling[0][0],coupling[0][1]] = coupling[1]\n",
    "    di_plm[coupling[0][1],coupling[0][0]] = coupling[1]\n",
    "print(\"Calculated DI: (shape, matrix)\\n\",di_plm.shape,\"\\n\",di_plm)\n",
    "np.save(\"plmDCA_DI_%s.npy\"%(pfam_id),di_plm)"
   ]
  },
  {
   "cell_type": "markdown",
   "metadata": {},
   "source": [
    "## Plot ROC, AUC, and Precision for all Methods\n",
    "* Vary contact threshold for each method to find optimal contact prediction for each model\n",
    "* Plot resulting ROC, AUC, and Precision"
   ]
  },
  {
   "cell_type": "code",
   "execution_count": null,
   "metadata": {},
   "outputs": [],
   "source": [
    "# DCA_di = direct_info_dca(s0)\n",
    "# #sorted_DI_er = sorted_DI_er[::2]\n",
    "# sorted_DI_mf = sort_di(DCA_di)\n",
    "# print(\"Print top 10 pairs\")\n",
    "# for site_pair, score in sorted_DI_mf[:10]:\n",
    "#     print(site_pair, score)"
   ]
  },
  {
   "cell_type": "code",
   "execution_count": null,
   "metadata": {},
   "outputs": [],
   "source": [
    "print(\"di_er shape = \",di_er.shape)\n",
    "print(\"di_mf shape = \",di_mf.shape)\n",
    "print(\"di_plm shape = \",di_plm.shape)\n",
    "\n",
    "plt.subplot2grid((1,3),(0,0))\n",
    "plt.title('(ER)')\n",
    "plt.imshow(di_er,cmap='rainbow',origin='lower')\n",
    "plt.xlabel('i')\n",
    "plt.ylabel('j')\n",
    "plt.clim(0,0.01)\n",
    "plt.colorbar(fraction=0.045, pad=0.05)\n",
    "plt.subplot2grid((1,3),(0,1))\n",
    "plt.title('(MF)')\n",
    "plt.imshow(di_mf,cmap='rainbow',origin='lower')\n",
    "plt.xlabel('i')\n",
    "plt.ylabel('j')\n",
    "plt.clim(0,0.01)\n",
    "plt.colorbar(fraction=0.045, pad=0.05)\n",
    "plt.subplot2grid((1,3),(0,2))\n",
    "plt.title('(PLM)')\n",
    "plt.imshow(di_plm,cmap='rainbow',origin='lower')\n",
    "plt.xlabel('i')\n",
    "plt.ylabel('j')\n",
    "plt.clim(0,0.01)\n",
    "plt.colorbar(fraction=0.045, pad=0.05)\n",
    "plt.show()\n",
    "\n",
    "distance_enforced = True\n",
    "if distance_enforced:\n",
    "    #di_er_dr = tools.distance_restr(di_er,s_index,make_large=False)\n",
    "    #di_mf_dr = tools.distance_restr(di_mf,s_index,make_large=False)\n",
    "    #di_plm_dr = tools.distance_restr(di_plm,s_index,make_large=False)\n",
    "    for coupling in sorted_DI_er_dr:\n",
    "        di_er_dr[coupling[0][0],coupling[0][1]] = coupling[1]\n",
    "        di_er_dr[coupling[0][1],coupling[0][0]] = coupling[1]\n",
    "    for coupling in sorted_DI_mf_dr:\n",
    "        di_mf_dr[coupling[0][0],coupling[0][1]] = coupling[1]\n",
    "        di_mf_dr[coupling[0][1],coupling[0][0]] = coupling[1]\n",
    "    for coupling in sorted_DI_plm_dr:\n",
    "        di_plm_dr[coupling[0][0],coupling[0][1]] = coupling[1]\n",
    "        di_plm_dr[coupling[0][1],coupling[0][0]] = coupling[1]\n",
    "        \n",
    "\n",
    "plt.subplot2grid((1,3),(0,0))\n",
    "plt.title('(ER)')\n",
    "plt.imshow(di_er_dr,cmap='rainbow',origin='lower')\n",
    "plt.xlabel('i')\n",
    "plt.ylabel('j')\n",
    "plt.clim(0,0.01)\n",
    "plt.colorbar(fraction=0.045, pad=0.05)\n",
    "plt.subplot2grid((1,3),(0,1))\n",
    "plt.title('(MF)')\n",
    "plt.imshow(di_mf_dr,cmap='rainbow',origin='lower')\n",
    "plt.xlabel('i')\n",
    "plt.ylabel('j')\n",
    "plt.clim(0,0.01)\n",
    "plt.colorbar(fraction=0.045, pad=0.05)\n",
    "plt.subplot2grid((1,3),(0,2))\n",
    "plt.title('(PLM)')\n",
    "plt.imshow(di_plm_dr,cmap='rainbow',origin='lower')\n",
    "plt.xlabel('i')\n",
    "plt.ylabel('j')\n",
    "plt.clim(0,0.01)\n",
    "plt.colorbar(fraction=0.045, pad=0.05)\n",
    "plt.show()\n",
    "\n",
    "# find optimal threshold of distance for both DCA and ER\n",
    "ct_thres = np.linspace(1.5,10.,18,endpoint=True)\n",
    "n = ct_thres.shape[0]\n",
    "\n",
    "auc_mf = np.zeros(n)\n",
    "auc_er = np.zeros(n)\n",
    "auc_plm = np.zeros(n)\n",
    "\n",
    "for i in range(n):\n",
    "    p,tp,fp = tools.roc_curve(ct_distal,di_mf_dr,ct_thres[i])\n",
    "    auc_mf[i] = tp.sum()/tp.shape[0]\n",
    "    \n",
    "    p,tp,fp = tools.roc_curve(ct_distal,di_er_dr,ct_thres[i])\n",
    "    auc_er[i] = tp.sum()/tp.shape[0]\n",
    "    \n",
    "    p,tp,fp = tools.roc_curve(ct_distal,di_plm,ct_thres[i])\n",
    "    auc_plm[i] = tp.sum()/tp.shape[0]\n",
    "    \n",
    "i0_mf = np.argmax(auc_mf)\n",
    "i0_er = np.argmax(auc_er)\n",
    "i0_plm = np.argmax(auc_plm)\n",
    "\n",
    "\n",
    "p0_mf,tp0_mf,fp0_mf = tools.roc_curve(ct_distal,di_mf_dr,ct_thres[i0_mf])\n",
    "p0_er,tp0_er,fp0_er = tools.roc_curve(ct_distal,di_er_dr,ct_thres[i0_er])\n",
    "p0_plm,tp0_plm,fp0_plm = tools.roc_curve(ct_distal,di_plm,ct_thres[i0_plm])\n",
    "\n",
    "tools.hide_toggle()"
   ]
  },
  {
   "cell_type": "code",
   "execution_count": null,
   "metadata": {},
   "outputs": [],
   "source": [
    "# Plot ROC for optimal DCA vs optimal ER\n",
    "print(\"Optimal Contact threshold for (mf, er, plm) = (%f, %f, %f)\"%(ct_thres[i0_mf],ct_thres[i0_er],ct_thres[i0_plm]))\n",
    "print(\"Maximal AUC for (mf, er, plm) = (%f, %f, %f)\"%(auc_mf[i0_mf], auc_er[i0_er], auc_plm[i0_plm]))\n",
    "\n",
    "\n",
    "plt.subplot2grid((1,3),(0,0))\n",
    "plt.title('ROC ')\n",
    "plt.plot(fp0_er,tp0_er,'b-',label=\"er\")\n",
    "plt.plot(fp0_mf,tp0_mf,'r-',label=\"mf\")\n",
    "plt.plot(fp0_plm,tp0_plm,'g-',label=\"plm\")\n",
    "plt.plot([0,1],[0,1],'k--')\n",
    "plt.xlim([0,1])\n",
    "plt.ylim([0,1])\n",
    "plt.xlabel('False Positive Rate')\n",
    "plt.ylabel('True Positive Rate')\n",
    "plt.legend()\n",
    "\n",
    "# Plot AUC for DCA and ER\n",
    "plt.subplot2grid((1,3),(0,1))\n",
    "plt.title('AUC')\n",
    "plt.plot([ct_thres.min(),ct_thres.max()],[0.5,0.5],'k--')\n",
    "plt.plot(ct_thres,auc_er,'b-',label=\"er\")\n",
    "plt.plot(ct_thres,auc_mf,'r-',label=\"mf\")\n",
    "plt.plot(ct_thres,auc_plm,'g-',label=\"plm\")\n",
    "plt.ylim([min(auc_er.min(),auc_mf.min(),auc_plm.min())-0.05,max(auc_er.max(),auc_mf.max(),auc_plm.max())+0.05])\n",
    "plt.xlim([ct_thres.min(),ct_thres.max()])\n",
    "plt.xlabel('distance threshold')\n",
    "plt.ylabel('AUC')\n",
    "plt.legend()\n",
    "\n",
    "# Plot Precision of optimal DCA and ER\n",
    "plt.subplot2grid((1,3),(0,2))\n",
    "plt.title('Precision')\n",
    "plt.plot( p0_er,tp0_er / (tp0_er + fp0_er),'b-',label='er')\n",
    "plt.plot( p0_mf,tp0_mf / (tp0_mf + fp0_mf),'r-',label='mf')\n",
    "plt.plot( p0_plm,tp0_plm / (tp0_plm + fp0_plm),'g-',label='plm')\n",
    "plt.plot([0,1],[0,1],'k--')\n",
    "plt.xlim([0,1])\n",
    "#plt.ylim([0,1])\n",
    "plt.ylim([.4,.8])\n",
    "plt.xlabel('Recall (Sensitivity - P)')\n",
    "plt.ylabel('Precision (PPV)')\n",
    "plt.legend()\n",
    "\n",
    "plt.tight_layout(h_pad=1, w_pad=1.5)\n",
    "\n",
    "\n",
    "tools.hide_toggle()"
   ]
  },
  {
   "cell_type": "code",
   "execution_count": null,
   "metadata": {},
   "outputs": [],
   "source": [
    "# Using PYDCA contact mapping module\n",
    "print(\"Dimensions of DI Pairs:\")\n",
    "print(\"ER: \",len(sorted_DI_er))\n",
    "print(\"PLM: \",len(sorted_DI_plm))\n",
    "print(\"MF: \",len(sorted_DI_mf))\n",
    "\n",
    "\n",
    "erdca_visualizer = contact_visualizer.DCAVisualizer('protein', pdb[ipdb,6], pdb[ipdb,5],\n",
    "    refseq_file = ref_outfile,\n",
    "    sorted_dca_scores = sorted_DI_er,\n",
    "    linear_dist = 4,\n",
    "    contact_dist = 8.0,\n",
    ")\n",
    "\n",
    "mfdca_visualizer = contact_visualizer.DCAVisualizer('protein', pdb[ipdb,6], pdb[ipdb,5],\n",
    "    refseq_file = ref_outfile,\n",
    "    sorted_dca_scores = sorted_DI_mf,\n",
    "    linear_dist = 4,\n",
    "    contact_dist = 8.0,\n",
    ")\n",
    "\n",
    "plmdca_visualizer = contact_visualizer.DCAVisualizer('protein', pdb[ipdb,6], pdb[ipdb,5],\n",
    "    refseq_file = ref_outfile,\n",
    "    sorted_dca_scores = sorted_DI_plm,\n",
    "    linear_dist = 4,\n",
    "    contact_dist = 8.0,\n",
    ")\n",
    "\n",
    "er_contact_map_data = erdca_visualizer.plot_contact_map()\n",
    "mf_contact_map_data = mfdca_visualizer.plot_contact_map()\n",
    "plm_contact_map_data = plmdca_visualizer.plot_contact_map()\n",
    "\n",
    "er_tp_rate_data = erdca_visualizer.plot_true_positive_rates()\n",
    "mf_tp_rate_data = mfdca_visualizer.plot_true_positive_rates()\n",
    "plm_tp_rate_data = plmdca_visualizer.plot_true_positive_rates()"
   ]
  },
  {
   "cell_type": "code",
   "execution_count": null,
   "metadata": {},
   "outputs": [],
   "source": []
  },
  {
   "cell_type": "code",
   "execution_count": null,
   "metadata": {},
   "outputs": [],
   "source": []
  }
 ],
 "metadata": {
  "kernelspec": {
   "display_name": "Python 3",
   "language": "python",
   "name": "python3"
  },
  "language_info": {
   "codemirror_mode": {
    "name": "ipython",
    "version": 3
   },
   "file_extension": ".py",
   "mimetype": "text/x-python",
   "name": "python",
   "nbconvert_exporter": "python",
   "pygments_lexer": "ipython3",
   "version": "3.7.4"
  }
 },
 "nbformat": 4,
 "nbformat_minor": 2
}
