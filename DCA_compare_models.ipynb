{
 "cells": [
  {
   "cell_type": "markdown",
   "metadata": {},
   "source": [
    "# Compare Inference models for Protein Contacts using DCA\n",
    "The purpose of this python notebook is to concisely compare several inferences models which all use Direct Coupling Analysis (DCA) to infer contact information for Multiple Sequence Alignments (MSA) of homologous protein families.\n",
    "\n",
    "### Methods\n",
    "* Mean Field (mfDCA)\n",
    "* Pseudoliklihood (plmDCA)\n",
    "* Expectation Reflection (erDCA)"
   ]
  },
  {
   "cell_type": "code",
   "execution_count": 1,
   "metadata": {},
   "outputs": [
    {
     "data": {
      "text/html": [
       "\n",
       "        <script>\n",
       "            function code_toggle_6167560162679933234() {\n",
       "                $('div.cell.code_cell.rendered.selected').find('div.input').toggle();\n",
       "            }\n",
       "\n",
       "            \n",
       "        </script>\n",
       "\n",
       "        <a href=\"javascript:code_toggle_6167560162679933234()\">Toggle show/hide</a>\n",
       "    "
      ],
      "text/plain": [
       "<IPython.core.display.HTML object>"
      ]
     },
     "execution_count": 1,
     "metadata": {},
     "output_type": "execute_result"
    }
   ],
   "source": [
    "import ecc_tools as tools\n",
    "import numpy as np\n",
    "import pandas as pd\n",
    "from scipy import linalg\n",
    "from sklearn.preprocessing import OneHotEncoder\n",
    "#import emachine as EM\n",
    "from direct_info import direct_info\n",
    "from direct_info import sort_di\n",
    "import data_processing as dp\n",
    "\n",
    "import Bio.PDB, warnings\n",
    "pdb_list = Bio.PDB.PDBList()\n",
    "pdb_parser = Bio.PDB.PDBParser()\n",
    "from scipy.spatial import distance_matrix\n",
    "from Bio import BiopythonWarning\n",
    "warnings.simplefilter('ignore', BiopythonWarning)\n",
    "\n",
    "from scipy.sparse import csr_matrix\n",
    "from joblib import Parallel, delayed\n",
    "import timeit\n",
    "\n",
    "import matplotlib.pyplot as plt\n",
    "%matplotlib inline\n",
    "\n",
    "import sys\n",
    "import numpy as np\n",
    "from scipy import linalg\n",
    "from sklearn.preprocessing import OneHotEncoder\n",
    "import expectation_reflection as ER\n",
    "from direct_info import direct_info\n",
    "from joblib import Parallel, delayed\n",
    "\n",
    "# import inference_dca for mfDCA\n",
    "from inference_dca import direct_info_dca\n",
    "\n",
    "# import pydca for plmDCA\n",
    "from pydca.plmdca import plmdca\n",
    "from pydca.meanfield_dca import meanfield_dca\n",
    "from pydca.sequence_backmapper import sequence_backmapper\n",
    "from pydca.msa_trimmer import msa_trimmer\n",
    "from pydca.contact_visualizer import contact_visualizer\n",
    "from pydca.dca_utilities import dca_utilities\n",
    "\n",
    "tools.hide_toggle()"
   ]
  },
  {
   "cell_type": "markdown",
   "metadata": {},
   "source": [
    "## Read In Protein Structure"
   ]
  },
  {
   "cell_type": "code",
   "execution_count": 2,
   "metadata": {},
   "outputs": [
    {
     "name": "stdout",
     "output_type": "stream",
     "text": [
      "number of pdb structures: 100\n",
      "        PF   seq           id uniprot_start uniprot_start pdb_id chain  \\\n",
      "0  PF00011  1834  HS16B_WHEAT            47           150   2BYU     L   \n",
      "1  PF00011  1834  HS16B_WHEAT            47           150   2BYU     D   \n",
      "2  PF00011  1834  HS16B_WHEAT            47           150   2BYU     G   \n",
      "3  PF00011  1834  HS16B_WHEAT            47           150   2BYU     B   \n",
      "4  PF00011  1834  HS16B_WHEAT            47           150   2BYU     A   \n",
      "\n",
      "  pdb_start pdb_end  \n",
      "0        47     150  \n",
      "1        47     150  \n",
      "2        47     150  \n",
      "3        47     150  \n",
      "4        47     150  \n",
      "seq: 1834\n",
      "tpdb is now  1513\n"
     ]
    },
    {
     "data": {
      "text/html": [
       "\n",
       "        <script>\n",
       "            function code_toggle_8307026218478872506() {\n",
       "                $('div.cell.code_cell.rendered.selected').find('div.input').toggle();\n",
       "            }\n",
       "\n",
       "            \n",
       "        </script>\n",
       "\n",
       "        <a href=\"javascript:code_toggle_8307026218478872506()\">Toggle show/hide</a>\n",
       "    "
      ],
      "text/plain": [
       "<IPython.core.display.HTML object>"
      ]
     },
     "execution_count": 2,
     "metadata": {},
     "output_type": "execute_result"
    }
   ],
   "source": [
    "# Read in Protein structure\n",
    "data_path = '../Pfam-A.full'\n",
    "pfam_id = 'PF00186'\n",
    "pfam_id = 'PF04542'\n",
    "pfam_id = \"PF00011\"\n",
    "\n",
    "\n",
    "pdb = np.load('%s/%s/pdb_refs.npy'%(data_path,pfam_id))\n",
    "\n",
    "# Pre-Process Structure Data\n",
    "# delete 'b' in front of letters (python 2 --> python 3)\n",
    "pdb = np.array([pdb[t,i].decode('UTF-8') for t in range(pdb.shape[0]) \\\n",
    "         for i in range(pdb.shape[1])]).reshape(pdb.shape[0],pdb.shape[1])\n",
    "\n",
    "# Print number of pdb structures in Protein ID folder\n",
    "npdb = pdb.shape[0]\n",
    "print('number of pdb structures:',npdb)\n",
    "\n",
    "# Create pandas dataframe for protein structure\n",
    "df = pd.DataFrame(pdb,columns = ['PF','seq','id','uniprot_start','uniprot_start',\\\n",
    "                                 'pdb_id','chain','pdb_start','pdb_end'])\n",
    "print(df.head())\n",
    "\n",
    "ipdb = 0\n",
    "print('seq:',int(pdb[ipdb,1]))\n",
    "\n",
    "\n",
    "\n",
    "# Read in Sequence Data\n",
    "processing = True\n",
    "if processing:\n",
    "    # data processing\n",
    "    s0,cols_removed,s_index,s_ipdb = dp.data_processing(data_path,pfam_id,ipdb,\\\n",
    "                    gap_seqs=0.2,gap_cols=0.2,prob_low=0.004,conserved_cols=0.9)\n",
    "    # Save processed data\n",
    "    msa_outfile, ref_outfile = dp.write_FASTA(s0,pfam_id,s_ipdb)\n",
    "else:\n",
    "    msa_outfile, ref_outfile = dp.create_unprocessed_FASTA(pdb,data_path,pfam_id,ipdb)\n",
    "    \n",
    "    # create MSATrimmer instance \n",
    "    trimmer = msa_trimmer.MSATrimmer(\n",
    "        msa_outfile, biomolecule='protein', \n",
    "        refseq_file=ref_outfile,\n",
    "    )\n",
    "\n",
    "    trimmed_data = trimmer.get_msa_trimmed_by_refseq(remove_all_gaps=True)\n",
    "    print (\"trimmed_data:\\n\",trimmed_data)\n",
    "\n",
    "    #write trimmed msa to file in FASTA format\n",
    "    trimmed_data_outfile = 'MSA_'+pfam_id+'_Trimmed.fa'\n",
    "    with open(trimmed_data_outfile, 'w') as fh:\n",
    "        for seqid, seq in trimmed_data:\n",
    "            fh.write('>{}\\n{}\\n'.format(seqid, seq))\n",
    "            \n",
    "            \n",
    "#----------------CGCUUCAUAUAAUCCUAAUGAUAUGGUUUGGGAGUUUCUACCAAGAG-CCUUAAA-CUCUUGAUUAUGAAGUG-------------\n",
    "#CGCUUCAUAUAAUCCUAAUGAUAUGGUUUGGGAGUUUCUACCAAGAGCCUUAAACUCUUGAUUAUGAAGUG\n",
    "#UGAAAUUGGAUAACAGUUUUUCGUAUAAUCUCGGGAAU-UGGCCUGAGAGUUUCUACGAGAUCACCGCAAAUGAUCUGGCUACGAAAAAAAGGAACGGUAUC\n",
    "tools.hide_toggle()\n",
    "\n"
   ]
  },
  {
   "cell_type": "markdown",
   "metadata": {},
   "source": [
    "\n",
    "\n",
    "## Expectation Reflection DCA (erDCA)\n",
    "* Generate One-Hot matrix representation of sequence data\n",
    "* Generate and plot Contact Map"
   ]
  },
  {
   "cell_type": "code",
   "execution_count": 3,
   "metadata": {},
   "outputs": [
    {
     "name": "stdout",
     "output_type": "stream",
     "text": [
      "Structure exists: '/home/eclay/DCA_ER/by/pdb2byu.ent' \n",
      "(92, 3)\n"
     ]
    },
    {
     "data": {
      "image/png": "[encoded data removed]",
      "text/plain": [
       "<Figure size 432x288 with 2 Axes>"
      ]
     },
     "metadata": {
      "needs_background": "light"
     },
     "output_type": "display_data"
    },
    {
     "data": {
      "text/html": [
       "\n",
       "        <script>\n",
       "            function code_toggle_17330833474798848071() {\n",
       "                $('div.cell.code_cell.rendered.selected').find('div.input').toggle();\n",
       "            }\n",
       "\n",
       "            \n",
       "        </script>\n",
       "\n",
       "        <a href=\"javascript:code_toggle_17330833474798848071()\">Toggle show/hide</a>\n",
       "    "
      ],
      "text/plain": [
       "<IPython.core.display.HTML object>"
      ]
     },
     "execution_count": 3,
     "metadata": {},
     "output_type": "execute_result"
    }
   ],
   "source": [
    "# number of positions\n",
    "n_var = s0.shape[1]\n",
    "\n",
    "# number of aminoacids at each position\n",
    "mx = np.array([len(np.unique(s0[:,i])) for i in range(n_var)])\n",
    "\n",
    "mx_cumsum = np.insert(mx.cumsum(),0,0)\n",
    "i1i2 = np.stack([mx_cumsum[:-1],mx_cumsum[1:]]).T \n",
    "\n",
    "# number of variables\n",
    "mx_sum = mx.sum()\n",
    "\n",
    "# number of bias term\n",
    "n_linear = mx_sum - n_var\n",
    "\n",
    "#---------------------- Generate One-Hot/Contact -------------------#\n",
    "# Generate One-Hot Matrix\n",
    "onehot_encoder = OneHotEncoder(sparse=False,categories='auto')\n",
    "# s is OneHot encoder format, s0 is original sequnce matrix\n",
    "s = onehot_encoder.fit_transform(s0)\n",
    "\n",
    "# Generate Contact Map\n",
    "ct = tools.contact_map(pdb,ipdb,cols_removed,s_index)\n",
    "ct_distal = tools.distance_restr(ct,s_index,make_large=True)\n",
    "#--------------------------------------------------------------------#\n",
    "\n",
    "plt.title('Contact Map')\n",
    "plt.imshow(ct_distal,cmap='rainbow_r',origin='lower')\n",
    "plt.xlabel('i')\n",
    "plt.ylabel('j')\n",
    "plt.colorbar(fraction=0.045, pad=0.05)\n",
    "plt.show()\n",
    "\n",
    "tools.hide_toggle()"
   ]
  },
  {
   "cell_type": "markdown",
   "metadata": {},
   "source": [
    "#### Apply Expectation Reflection"
   ]
  },
  {
   "cell_type": "code",
   "execution_count": 4,
   "metadata": {},
   "outputs": [],
   "source": [
    "# Define wight matrix with variable for each possible amino acid at each sequence position\n",
    "w = np.zeros((mx.sum(),mx.sum())) \n",
    "h0 = np.zeros(mx.sum())"
   ]
  },
  {
   "cell_type": "code",
   "execution_count": 5,
   "metadata": {},
   "outputs": [
    {
     "name": "stdout",
     "output_type": "stream",
     "text": [
      "ER run time: 397.84062245098175\n"
     ]
    },
    {
     "data": {
      "text/html": [
       "\n",
       "        <script>\n",
       "            function code_toggle_9224445425181556513() {\n",
       "                $('div.cell.code_cell.rendered.selected').find('div.input').toggle();\n",
       "            }\n",
       "\n",
       "            \n",
       "        </script>\n",
       "\n",
       "        <a href=\"javascript:code_toggle_9224445425181556513()\">Toggle show/hide</a>\n",
       "    "
      ],
      "text/plain": [
       "<IPython.core.display.HTML object>"
      ]
     },
     "execution_count": 5,
     "metadata": {},
     "output_type": "execute_result"
    }
   ],
   "source": [
    "# Expectation Reflection\n",
    "#=========================================================================================\n",
    "def predict_w(s,i0,i1i2,niter_max,l2):\n",
    "    #print('i0:',i0)\n",
    "    i1,i2 = i1i2[i0,0],i1i2[i0,1]\n",
    "\n",
    "    x = np.hstack([s[:,:i1],s[:,i2:]])\n",
    "    y = s[:,i1:i2]\n",
    "\n",
    "    h01,w1 = ER.fit(x,y,niter_max,l2)\n",
    "\n",
    "    return h01,w1\n",
    "\n",
    "#-------------------------------\n",
    "# parallel\n",
    "start_time = timeit.default_timer()\n",
    "res = Parallel(n_jobs = 32)(delayed(predict_w)\\\n",
    "        (s,i0,i1i2,niter_max=10,l2=100.0)\\\n",
    "        for i0 in range(n_var))\n",
    "\n",
    "run_time = timeit.default_timer() - start_time\n",
    "print('ER run time:',run_time)\n",
    "\n",
    "#-------------------------------\n",
    "\n",
    "for i0 in range(n_var):\n",
    "    i1,i2 = i1i2[i0,0],i1i2[i0,1]\n",
    "\n",
    "    h01 = res[i0][0]\n",
    "    w1 = res[i0][1]\n",
    "\n",
    "    h0[i1:i2] = h01\n",
    "    w[:i1,i1:i2] = w1[:i1,:]\n",
    "    w[i2:,i1:i2] = w1[i1:,:]\n",
    "\n",
    "# make w symmetric\n",
    "w = (w + w.T)/2.\n",
    "\n",
    "tools.hide_toggle()"
   ]
  },
  {
   "cell_type": "markdown",
   "metadata": {},
   "source": [
    "#### Calculate Direct Info from erDCA"
   ]
  },
  {
   "cell_type": "code",
   "execution_count": 6,
   "metadata": {},
   "outputs": [
    {
     "name": "stdout",
     "output_type": "stream",
     "text": [
      "Print top 10 pairs\n",
      "((91, 90), 0.2310022268178999)\n",
      "((90, 91), 0.2310022268178999)\n",
      "((87, 86), 0.20026051744602086)\n",
      "((86, 87), 0.20026051744602086)\n",
      "((89, 90), 0.18468412365206874)\n",
      "((90, 89), 0.18468412365206874)\n",
      "((32, 53), 0.15005327201879962)\n",
      "((53, 32), 0.15005327201879962)\n",
      "((89, 88), 0.14106721304656503)\n",
      "((88, 89), 0.14106721304656503)\n",
      "\n",
      "Print top 10 Non-Redundant pairs\n",
      "((91, 90), 0.2310022268178999)\n",
      "((87, 86), 0.20026051744602086)\n",
      "((89, 90), 0.18468412365206874)\n",
      "((32, 53), 0.15005327201879962)\n",
      "((89, 88), 0.14106721304656503)\n",
      "((48, 47), 0.13995235777739007)\n",
      "((0, 1), 0.1301749050974569)\n",
      "((88, 87), 0.12504659150875427)\n",
      "((47, 55), 0.12458855671164065)\n",
      "((19, 11), 0.12026218641265621)\n"
     ]
    }
   ],
   "source": [
    "#print(w[:10,-10:])\n",
    "di_er = direct_info(s0,w)\n",
    "#sorted_DI_er = sorted_DI_er[::2]\n",
    "sorted_DI_ER_redundant = sort_di(di_er)\n",
    "print(\"Print top 10 pairs\")\n",
    "for x in sorted_DI_ER_redundant[:10]:\n",
    "    print(x)\n",
    "\n",
    "from data_processing import delete_sorted_DI_duplicates # newly generated for this python notebook.\n",
    "sorted_DI_er = delete_sorted_DI_duplicates(sorted_DI_ER_redundant)\n",
    "\n",
    "sorted_DI_er_dr = tools.distance_restr_sortedDI(sorted_DI_er)\n",
    "\n",
    "print(\"\\nPrint top 10 Non-Redundant pairs\")\n",
    "for x in sorted_DI_er[:10]:\n",
    "    print(x)"
   ]
  },
  {
   "cell_type": "markdown",
   "metadata": {},
   "source": [
    "## Mean Field DCA (mfDCA)"
   ]
  },
  {
   "cell_type": "code",
   "execution_count": 7,
   "metadata": {},
   "outputs": [
    {
     "name": "stdout",
     "output_type": "stream",
     "text": [
      "MF run time: 20.86252656200668\n",
      "sorted_DI (list) has shape:  (4186, 2) \n",
      "Rows: all combinations of sequence postitions ie sequence len choose 2 \n",
      "num sequences = 18023 , sequences len = 92\n",
      "\n",
      "\n",
      "Print top 10 pairs\n",
      "(47, 55) 0.2093494285901497\n",
      "(47, 48) 0.17285767760044907\n",
      "(86, 87) 0.1560871633308812\n",
      "(32, 53) 0.15412734120436986\n",
      "(0, 81) 0.1406935601311321\n",
      "(90, 91) 0.12140751689885385\n",
      "(10, 48) 0.11998011733286434\n",
      "(11, 19) 0.11730771104872266\n",
      "(12, 13) 0.11539068116739021\n",
      "(87, 88) 0.11471249788126729\n",
      "\n",
      "Print top 10 pairs (Distance Restraint)\n",
      "(47, 55) 0.2093494285901497\n",
      "(32, 53) 0.15412734120436986\n",
      "(0, 81) 0.1406935601311321\n",
      "(10, 48) 0.11998011733286434\n",
      "(11, 19) 0.11730771104872266\n",
      "(27, 58) 0.08032167051781947\n",
      "(12, 70) 0.07465877799850745\n",
      "(13, 70) 0.07105144917702759\n",
      "(4, 78) 0.06938205323210155\n",
      "(32, 51) 0.06741126738534761\n",
      "Calculated DI: (shape, matrix)\n",
      " (92, 92) \n",
      " [[0.         0.07582571 0.0641272  ... 0.00100515 0.00252749 0.00257624]\n",
      " [0.07582571 0.         0.05208704 ... 0.00285497 0.00134775 0.00385607]\n",
      " [0.0641272  0.05208704 0.         ... 0.0022482  0.00212303 0.00442698]\n",
      " ...\n",
      " [0.00100515 0.00285497 0.0022482  ... 0.         0.11331086 0.10340548]\n",
      " [0.00252749 0.00134775 0.00212303 ... 0.11331086 0.         0.12140752]\n",
      " [0.00257624 0.00385607 0.00442698 ... 0.10340548 0.12140752 0.        ]]\n"
     ]
    },
    {
     "data": {
      "text/html": [
       "\n",
       "        <script>\n",
       "            function code_toggle_3202066323706708371() {\n",
       "                $('div.cell.code_cell.rendered.selected').find('div.input').toggle();\n",
       "            }\n",
       "\n",
       "            \n",
       "        </script>\n",
       "\n",
       "        <a href=\"javascript:code_toggle_3202066323706708371()\">Toggle show/hide</a>\n",
       "    "
      ],
      "text/plain": [
       "<IPython.core.display.HTML object>"
      ]
     },
     "execution_count": 7,
     "metadata": {},
     "output_type": "execute_result"
    }
   ],
   "source": [
    "\n",
    "#create mean-field DCA instance \n",
    "mfdca_inst = meanfield_dca.MeanFieldDCA(\n",
    "    msa_outfile,\n",
    "    'protein',\n",
    "    pseudocount = 0.5,\n",
    "    seqid = 0.8,\n",
    "\n",
    ")\n",
    "\n",
    "#start_time = timeit.default_timer()\n",
    "#di_mf = direct_info_dca(s0)\n",
    "#run_time = timeit.default_timer() - start_time\n",
    "#print('MF run time:',run_time)\n",
    "\n",
    "# Compute DCA scores using Mean Field DCA\n",
    "start_time = timeit.default_timer()\n",
    "sorted_DI_mf = mfdca_inst.compute_sorted_DI()\n",
    "run_time = timeit.default_timer() - start_time\n",
    "print('MF run time:',run_time)\n",
    "\n",
    "N = mfdca_inst.sequences_len\n",
    "B = mfdca_inst.num_sequences\n",
    "print(\"sorted_DI (list) has shape: \",np.array(sorted_DI_mf).shape,\"\\nRows: all combinations of sequence postitions ie sequence len choose 2 \")\n",
    "print(\"num sequences = %d , sequences len = %d\\n\\n\"%(B,N))\n",
    "\n",
    "\n",
    "\n",
    "print(\"Print top 10 pairs\")\n",
    "for site_pair, score in sorted_DI_mf[:10]:\n",
    "    print(site_pair, score)\n",
    "\n",
    "print(\"\\nPrint top 10 pairs (Distance Restraint)\")\n",
    "sorted_DI_mf_dr = tools.distance_restr_sortedDI(sorted_DI_mf)\n",
    "for site_pair, score in sorted_DI_mf_dr[:10]:\n",
    "    print(site_pair, score)\n",
    "    \n",
    "# Generate Direct Information matrix\n",
    "di_mf = np.zeros((N,N))\n",
    "DI_ver= np.array(sorted_DI_mf)\n",
    "\n",
    "for coupling in sorted_DI_mf:\n",
    "    di_mf[coupling[0][0],coupling[0][1]] = coupling[1]\n",
    "    di_mf[coupling[0][1],coupling[0][0]] = coupling[1]\n",
    "\n",
    "print(\"Calculated DI: (shape, matrix)\\n\",di_mf.shape,\"\\n\",di_mf)\n",
    "np.save(\"mfDCA_DI_%s.npy\"%(pfam_id),di_mf)\n",
    "\n",
    "\n",
    "tools.hide_toggle()"
   ]
  },
  {
   "cell_type": "markdown",
   "metadata": {},
   "source": [
    "## Pseudoliklihood DCA (plmDCA)"
   ]
  },
  {
   "cell_type": "code",
   "execution_count": 8,
   "metadata": {
    "scrolled": true
   },
   "outputs": [
    {
     "name": "stdout",
     "output_type": "stream",
     "text": [
      "PLM run time: 398.25439437897876\n",
      "sorted_DI (list) has shape:  (4186, 2) \n",
      "Rows: all combinations of sequence postitions ie sequence len choose 2 \n",
      "num sequences = 18987 , sequences len = 92\n",
      "\n",
      "\n",
      "Print top 10 pairs\n",
      "(15, 17) 0.0559562275560817\n",
      "(32, 53) 0.05432551229429072\n",
      "(47, 55) 0.04996552424276757\n",
      "(0, 81) 0.049788605547757325\n",
      "(10, 48) 0.049592554648394696\n",
      "(64, 67) 0.048647410468389586\n",
      "(33, 35) 0.04185646053281306\n",
      "(4, 78) 0.040148415820674736\n",
      "(20, 89) 0.0396326575009838\n",
      "(73, 74) 0.03417039350884262\n",
      "\n",
      "Print top 10 pairs (Distance Restraint)\n"
     ]
    },
    {
     "ename": "AttributeError",
     "evalue": "module 'ecc_tools' has no attribute 'restr_sortedDI'",
     "output_type": "error",
     "traceback": [
      "\u001b[0;31m---------------------------------------------------------------------------\u001b[0m",
      "\u001b[0;31mAttributeError\u001b[0m                            Traceback (most recent call last)",
      "\u001b[0;32m<ipython-input-8-cd3b7e3481a0>\u001b[0m in \u001b[0;36m<module>\u001b[0;34m\u001b[0m\n\u001b[1;32m     26\u001b[0m \u001b[0;34m\u001b[0m\u001b[0m\n\u001b[1;32m     27\u001b[0m \u001b[0mprint\u001b[0m\u001b[0;34m(\u001b[0m\u001b[0;34m\"\\nPrint top 10 pairs (Distance Restraint)\"\u001b[0m\u001b[0;34m)\u001b[0m\u001b[0;34m\u001b[0m\u001b[0;34m\u001b[0m\u001b[0m\n\u001b[0;32m---> 28\u001b[0;31m \u001b[0msorted_DI_plm_dr\u001b[0m \u001b[0;34m=\u001b[0m \u001b[0mtools\u001b[0m\u001b[0;34m.\u001b[0m\u001b[0mrestr_sortedDI\u001b[0m\u001b[0;34m(\u001b[0m\u001b[0msorted_DI_plm\u001b[0m\u001b[0;34m)\u001b[0m\u001b[0;34m\u001b[0m\u001b[0;34m\u001b[0m\u001b[0m\n\u001b[0m\u001b[1;32m     29\u001b[0m \u001b[0;32mfor\u001b[0m \u001b[0msite_pair\u001b[0m\u001b[0;34m,\u001b[0m \u001b[0mscore\u001b[0m \u001b[0;32min\u001b[0m \u001b[0msorted_DI_mf_plm\u001b[0m\u001b[0;34m[\u001b[0m\u001b[0;34m:\u001b[0m\u001b[0;36m10\u001b[0m\u001b[0;34m]\u001b[0m\u001b[0;34m:\u001b[0m\u001b[0;34m\u001b[0m\u001b[0;34m\u001b[0m\u001b[0m\n\u001b[1;32m     30\u001b[0m     \u001b[0mprint\u001b[0m\u001b[0;34m(\u001b[0m\u001b[0msite_pair\u001b[0m\u001b[0;34m,\u001b[0m \u001b[0mscore\u001b[0m\u001b[0;34m)\u001b[0m\u001b[0;34m\u001b[0m\u001b[0;34m\u001b[0m\u001b[0m\n",
      "\u001b[0;31mAttributeError\u001b[0m: module 'ecc_tools' has no attribute 'restr_sortedDI'"
     ]
    }
   ],
   "source": [
    "# DCA scores using Pseudolikelihood maximization algorithm        \n",
    "plmdca_inst = plmdca.PlmDCA(\n",
    "    msa_outfile,\n",
    "    'protein',\n",
    "    seqid = 0.8,\n",
    "    lambda_h = 1.0,\n",
    "    lambda_J = 20.0,\n",
    "    num_threads = 10,\n",
    "    max_iterations = 500,\n",
    ")\n",
    "\n",
    "# Compute DCA scores using Pseudolikelihood maximization algorithm\n",
    "start_time = timeit.default_timer()\n",
    "sorted_DI_plm = plmdca_inst.compute_sorted_DI()\n",
    "run_time = timeit.default_timer() - start_time\n",
    "print('PLM run time:',run_time)\n",
    "\n",
    "N = plmdca_inst.sequences_len\n",
    "B = plmdca_inst.num_sequences\n",
    "print(\"sorted_DI (list) has shape: \",np.array(sorted_DI_plm).shape,\"\\nRows: all combinations of sequence postitions ie sequence len choose 2 \")\n",
    "print(\"num sequences = %d , sequences len = %d\\n\\n\"%(B,N))\n",
    "\n",
    "print(\"Print top 10 pairs\")\n",
    "for site_pair, score in sorted_DI_plm[:10]:\n",
    "    print(site_pair, score)\n",
    "\n",
    "print(\"\\nPrint top 10 pairs (Distance Restraint)\")\n",
    "sorted_DI_plm_dr = tools.restr_sortedDI(sorted_DI_plm)\n",
    "for site_pair, score in sorted_DI_mf_plm[:10]:\n",
    "    print(site_pair, score)\n",
    "    \n",
    "tools.hide_toggle()"
   ]
  },
  {
   "cell_type": "code",
   "execution_count": null,
   "metadata": {},
   "outputs": [],
   "source": [
    "# Generate Direct Information matrix\n",
    "di_plm = np.zeros((N,N))\n",
    "DI_ver= np.array(sorted_DI_plm)\n",
    "\n",
    "\n",
    "for coupling in sorted_DI_er:\n",
    "    di_plm[coupling[0][0],coupling[0][1]] = coupling[1]\n",
    "    di_plm[coupling[0][1],coupling[0][0]] = coupling[1]\n",
    "print(\"Calculated DI: (shape, matrix)\\n\",di_plm.shape,\"\\n\",di_plm)\n",
    "np.save(\"plmDCA_DI_%s.npy\"%(pfam_id),di_plm)"
   ]
  },
  {
   "cell_type": "markdown",
   "metadata": {},
   "source": [
    "## Plot ROC, AUC, and Precision for all Methods\n",
    "* Vary contact threshold for each method to find optimal contact prediction for each model\n",
    "* Plot resulting ROC, AUC, and Precision"
   ]
  },
  {
   "cell_type": "code",
   "execution_count": null,
   "metadata": {},
   "outputs": [],
   "source": [
    "# DCA_di = direct_info_dca(s0)\n",
    "# #sorted_DI_er = sorted_DI_er[::2]\n",
    "# sorted_DI_mf = sort_di(DCA_di)\n",
    "# print(\"Print top 10 pairs\")\n",
    "# for site_pair, score in sorted_DI_mf[:10]:\n",
    "#     print(site_pair, score)"
   ]
  },
  {
   "cell_type": "code",
   "execution_count": null,
   "metadata": {},
   "outputs": [],
   "source": [
    "print(\"di_er shape = \",di_er.shape)\n",
    "print(\"di_mf shape = \",di_mf.shape)\n",
    "print(\"di_plm shape = \",di_plm.shape)\n",
    "\n",
    "plt.subplot2grid((1,3),(0,0))\n",
    "plt.title('(ER)')\n",
    "plt.imshow(di_er,cmap='rainbow',origin='lower')\n",
    "plt.xlabel('i')\n",
    "plt.ylabel('j')\n",
    "plt.clim(0,0.01)\n",
    "plt.colorbar(fraction=0.045, pad=0.05)\n",
    "plt.subplot2grid((1,3),(0,1))\n",
    "plt.title('(MF)')\n",
    "plt.imshow(di_mf,cmap='rainbow',origin='lower')\n",
    "plt.xlabel('i')\n",
    "plt.ylabel('j')\n",
    "plt.clim(0,0.01)\n",
    "plt.colorbar(fraction=0.045, pad=0.05)\n",
    "plt.subplot2grid((1,3),(0,2))\n",
    "plt.title('(PLM)')\n",
    "plt.imshow(di_plm,cmap='rainbow',origin='lower')\n",
    "plt.xlabel('i')\n",
    "plt.ylabel('j')\n",
    "plt.clim(0,0.01)\n",
    "plt.colorbar(fraction=0.045, pad=0.05)\n",
    "plt.show()\n",
    "\n",
    "distance_enforced = True\n",
    "if distance_enforced:\n",
    "    #di_er_dr = tools.distance_restr(di_er,s_index,make_large=False)\n",
    "    #di_mf_dr = tools.distance_restr(di_mf,s_index,make_large=False)\n",
    "    #di_plm_dr = tools.distance_restr(di_plm,s_index,make_large=False)\n",
    "    for coupling in sorted_DI_er_dr:\n",
    "        di_er_dr[coupling[0][0],coupling[0][1]] = coupling[1]\n",
    "        di_er_dr[coupling[0][1],coupling[0][0]] = coupling[1]\n",
    "    for coupling in sorted_DI_mf_dr:\n",
    "        di_mf_dr[coupling[0][0],coupling[0][1]] = coupling[1]\n",
    "        di_mf_dr[coupling[0][1],coupling[0][0]] = coupling[1]\n",
    "    for coupling in sorted_DI_plm_dr:\n",
    "        di_plm_dr[coupling[0][0],coupling[0][1]] = coupling[1]\n",
    "        di_plm_dr[coupling[0][1],coupling[0][0]] = coupling[1]\n",
    "        \n",
    "\n",
    "plt.subplot2grid((1,3),(0,0))\n",
    "plt.title('(ER)')\n",
    "plt.imshow(di_er_dr,cmap='rainbow',origin='lower')\n",
    "plt.xlabel('i')\n",
    "plt.ylabel('j')\n",
    "plt.clim(0,0.01)\n",
    "plt.colorbar(fraction=0.045, pad=0.05)\n",
    "plt.subplot2grid((1,3),(0,1))\n",
    "plt.title('(MF)')\n",
    "plt.imshow(di_mf_dr,cmap='rainbow',origin='lower')\n",
    "plt.xlabel('i')\n",
    "plt.ylabel('j')\n",
    "plt.clim(0,0.01)\n",
    "plt.colorbar(fraction=0.045, pad=0.05)\n",
    "plt.subplot2grid((1,3),(0,2))\n",
    "plt.title('(PLM)')\n",
    "plt.imshow(di_plm_dr,cmap='rainbow',origin='lower')\n",
    "plt.xlabel('i')\n",
    "plt.ylabel('j')\n",
    "plt.clim(0,0.01)\n",
    "plt.colorbar(fraction=0.045, pad=0.05)\n",
    "plt.show()\n",
    "\n",
    "# find optimal threshold of distance for both DCA and ER\n",
    "ct_thres = np.linspace(1.5,10.,18,endpoint=True)\n",
    "n = ct_thres.shape[0]\n",
    "\n",
    "auc_mf = np.zeros(n)\n",
    "auc_er = np.zeros(n)\n",
    "auc_plm = np.zeros(n)\n",
    "\n",
    "for i in range(n):\n",
    "    p,tp,fp = tools.roc_curve(ct_distal,di_mf_dr,ct_thres[i])\n",
    "    auc_mf[i] = tp.sum()/tp.shape[0]\n",
    "    \n",
    "    p,tp,fp = tools.roc_curve(ct_distal,di_er_dr,ct_thres[i])\n",
    "    auc_er[i] = tp.sum()/tp.shape[0]\n",
    "    \n",
    "    p,tp,fp = tools.roc_curve(ct_distal,di_plm,ct_thres[i])\n",
    "    auc_plm[i] = tp.sum()/tp.shape[0]\n",
    "    \n",
    "i0_mf = np.argmax(auc_mf)\n",
    "i0_er = np.argmax(auc_er)\n",
    "i0_plm = np.argmax(auc_plm)\n",
    "\n",
    "\n",
    "p0_mf,tp0_mf,fp0_mf = tools.roc_curve(ct_distal,di_mf_dr,ct_thres[i0_mf])\n",
    "p0_er,tp0_er,fp0_er = tools.roc_curve(ct_distal,di_er_dr,ct_thres[i0_er])\n",
    "p0_plm,tp0_plm,fp0_plm = tools.roc_curve(ct_distal,di_plm,ct_thres[i0_plm])\n",
    "\n",
    "tools.hide_toggle()"
   ]
  },
  {
   "cell_type": "code",
   "execution_count": null,
   "metadata": {},
   "outputs": [],
   "source": [
    "# Plot ROC for optimal DCA vs optimal ER\n",
    "print(\"Optimal Contact threshold for (mf, er, plm) = (%f, %f, %f)\"%(ct_thres[i0_mf],ct_thres[i0_er],ct_thres[i0_plm]))\n",
    "print(\"Maximal AUC for (mf, er, plm) = (%f, %f, %f)\"%(auc_mf[i0_mf], auc_er[i0_er], auc_plm[i0_plm]))\n",
    "\n",
    "\n",
    "plt.subplot2grid((1,3),(0,0))\n",
    "plt.title('ROC ')\n",
    "plt.plot(fp0_er,tp0_er,'b-',label=\"er\")\n",
    "plt.plot(fp0_mf,tp0_mf,'r-',label=\"mf\")\n",
    "plt.plot(fp0_plm,tp0_plm,'g-',label=\"plm\")\n",
    "plt.plot([0,1],[0,1],'k--')\n",
    "plt.xlim([0,1])\n",
    "plt.ylim([0,1])\n",
    "plt.xlabel('False Positive Rate')\n",
    "plt.ylabel('True Positive Rate')\n",
    "plt.legend()\n",
    "\n",
    "# Plot AUC for DCA and ER\n",
    "plt.subplot2grid((1,3),(0,1))\n",
    "plt.title('AUC')\n",
    "plt.plot([ct_thres.min(),ct_thres.max()],[0.5,0.5],'k--')\n",
    "plt.plot(ct_thres,auc_er,'b-',label=\"er\")\n",
    "plt.plot(ct_thres,auc_mf,'r-',label=\"mf\")\n",
    "plt.plot(ct_thres,auc_plm,'g-',label=\"plm\")\n",
    "plt.ylim([min(auc_er.min(),auc_mf.min(),auc_plm.min())-0.05,max(auc_er.max(),auc_mf.max(),auc_plm.max())+0.05])\n",
    "plt.xlim([ct_thres.min(),ct_thres.max()])\n",
    "plt.xlabel('distance threshold')\n",
    "plt.ylabel('AUC')\n",
    "plt.legend()\n",
    "\n",
    "# Plot Precision of optimal DCA and ER\n",
    "plt.subplot2grid((1,3),(0,2))\n",
    "plt.title('Precision')\n",
    "plt.plot( p0_er,tp0_er / (tp0_er + fp0_er),'b-',label='er')\n",
    "plt.plot( p0_mf,tp0_mf / (tp0_mf + fp0_mf),'r-',label='mf')\n",
    "plt.plot( p0_plm,tp0_plm / (tp0_plm + fp0_plm),'g-',label='plm')\n",
    "plt.plot([0,1],[0,1],'k--')\n",
    "plt.xlim([0,1])\n",
    "#plt.ylim([0,1])\n",
    "plt.ylim([.4,.8])\n",
    "plt.xlabel('Recall (Sensitivity - P)')\n",
    "plt.ylabel('Precision (PPV)')\n",
    "plt.legend()\n",
    "\n",
    "plt.tight_layout(h_pad=1, w_pad=1.5)\n",
    "\n",
    "\n",
    "tools.hide_toggle()"
   ]
  },
  {
   "cell_type": "code",
   "execution_count": null,
   "metadata": {},
   "outputs": [],
   "source": [
    "# Using PYDCA contact mapping module\n",
    "print(\"Dimensions of DI Pairs:\")\n",
    "print(\"ER: \",len(sorted_DI_er))\n",
    "print(\"PLM: \",len(sorted_DI_plm))\n",
    "print(\"MF: \",len(sorted_DI_mf))\n",
    "\n",
    "\n",
    "erdca_visualizer = contact_visualizer.DCAVisualizer('protein', pdb[ipdb,6], pdb[ipdb,5],\n",
    "    refseq_file = ref_outfile,\n",
    "    sorted_dca_scores = sorted_DI_er,\n",
    "    linear_dist = 4,\n",
    "    contact_dist = 8.0,\n",
    ")\n",
    "\n",
    "mfdca_visualizer = contact_visualizer.DCAVisualizer('protein', pdb[ipdb,6], pdb[ipdb,5],\n",
    "    refseq_file = ref_outfile,\n",
    "    sorted_dca_scores = sorted_DI_mf,\n",
    "    linear_dist = 4,\n",
    "    contact_dist = 8.0,\n",
    ")\n",
    "\n",
    "plmdca_visualizer = contact_visualizer.DCAVisualizer('protein', pdb[ipdb,6], pdb[ipdb,5],\n",
    "    refseq_file = ref_outfile,\n",
    "    sorted_dca_scores = sorted_DI_plm,\n",
    "    linear_dist = 4,\n",
    "    contact_dist = 8.0,\n",
    ")\n",
    "\n",
    "er_contact_map_data = erdca_visualizer.plot_contact_map()\n",
    "mf_contact_map_data = mfdca_visualizer.plot_contact_map()\n",
    "plm_contact_map_data = plmdca_visualizer.plot_contact_map()\n",
    "\n",
    "er_tp_rate_data = erdca_visualizer.plot_true_positive_rates()\n",
    "mf_tp_rate_data = mfdca_visualizer.plot_true_positive_rates()\n",
    "plm_tp_rate_data = plmdca_visualizer.plot_true_positive_rates()"
   ]
  },
  {
   "cell_type": "code",
   "execution_count": null,
   "metadata": {},
   "outputs": [],
   "source": []
  }
 ],
 "metadata": {
  "kernelspec": {
   "display_name": "Python 3",
   "language": "python",
   "name": "python3"
  },
  "language_info": {
   "codemirror_mode": {
    "name": "ipython",
    "version": 3
   },
   "file_extension": ".py",
   "mimetype": "text/x-python",
   "name": "python",
   "nbconvert_exporter": "python",
   "pygments_lexer": "ipython3",
   "version": "3.7.4"
  }
 },
 "nbformat": 4,
 "nbformat_minor": 2
}
