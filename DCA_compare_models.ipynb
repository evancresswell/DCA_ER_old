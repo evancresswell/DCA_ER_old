{
 "cells": [
  {
   "cell_type": "markdown",
   "metadata": {},
   "source": [
    "# Compare Inference models for Protein Contacts using DCA\n",
    "The purpose of this python notebook is to concisely compare several inferences models which all use Direct Coupling Analysis (DCA) to infer contact information for Multiple Sequence Alignments (MSA) of homologous protein families.\n",
    "\n",
    "### Methods\n",
    "* Mean Field (mfDCA)\n",
    "* Pseudoliklihood (plmDCA)\n",
    "* Expectation Reflection (erDCA)"
   ]
  },
  {
   "cell_type": "code",
   "execution_count": 1,
   "metadata": {},
   "outputs": [
    {
     "data": {
      "text/html": [
       "\n",
       "        <script>\n",
       "            function code_toggle_11619024257416953201() {\n",
       "                $('div.cell.code_cell.rendered.selected').find('div.input').toggle();\n",
       "            }\n",
       "\n",
       "            \n",
       "        </script>\n",
       "\n",
       "        <a href=\"javascript:code_toggle_11619024257416953201()\">Toggle show/hide</a>\n",
       "    "
      ],
      "text/plain": [
       "<IPython.core.display.HTML object>"
      ]
     },
     "execution_count": 1,
     "metadata": {},
     "output_type": "execute_result"
    }
   ],
   "source": [
    "import ecc_tools as tools\n",
    "import numpy as np\n",
    "import pandas as pd\n",
    "from scipy import linalg\n",
    "from sklearn.preprocessing import OneHotEncoder\n",
    "#import emachine as EM\n",
    "from direct_info import direct_info\n",
    "import data_processing as dp\n",
    "\n",
    "import Bio.PDB, warnings\n",
    "pdb_list = Bio.PDB.PDBList()\n",
    "pdb_parser = Bio.PDB.PDBParser()\n",
    "from scipy.spatial import distance_matrix\n",
    "from Bio import BiopythonWarning\n",
    "warnings.simplefilter('ignore', BiopythonWarning)\n",
    "\n",
    "from scipy.sparse import csr_matrix\n",
    "from joblib import Parallel, delayed\n",
    "import timeit\n",
    "\n",
    "import matplotlib.pyplot as plt\n",
    "%matplotlib inline\n",
    "\n",
    "import sys\n",
    "import numpy as np\n",
    "from scipy import linalg\n",
    "from sklearn.preprocessing import OneHotEncoder\n",
    "import expectation_reflection as ER\n",
    "from direct_info import direct_info\n",
    "from joblib import Parallel, delayed\n",
    "\n",
    "# import inference_dca for mfDCA\n",
    "from inference_dca import direct_info_dca\n",
    "\n",
    "# import pydca for plmDCA\n",
    "from pydca.plmdca import plmdca\n",
    "from pydca.meanfield_dca import meanfield_dca\n",
    "from pydca.sequence_backmapper import sequence_backmapper\n",
    "from pydca.msa_trimmer import msa_trimmer\n",
    "from pydca.contact_visualizer import contact_visualizer\n",
    "from pydca.dca_utilities import dca_utilities\n",
    "\n",
    "tools.hide_toggle()"
   ]
  },
  {
   "cell_type": "markdown",
   "metadata": {},
   "source": [
    "## Read In Protein Structure"
   ]
  },
  {
   "cell_type": "code",
   "execution_count": 2,
   "metadata": {},
   "outputs": [
    {
     "name": "stdout",
     "output_type": "stream",
     "text": [
      "number of pdb structures: 372\n",
      "        PF seq            id uniprot_start uniprot_start pdb_id chain  \\\n",
      "0  PF00186  69  Q5KZ26_GEOKA             1           160   1ZDR     B   \n",
      "1  PF00186  69  Q5KZ26_GEOKA             1           160   1ZDR     A   \n",
      "2  PF00186  83  Q81R22_BACAN             2           160   3JWK     B   \n",
      "3  PF00186  83  Q81R22_BACAN             2           160   3S9U     B   \n",
      "4  PF00186  83  Q81R22_BACAN             2           160   3FL9     H   \n",
      "\n",
      "  pdb_start pdb_end  \n",
      "0         1     160  \n",
      "1         1     160  \n",
      "2         2     160  \n",
      "3         2     160  \n",
      "4         2     160  \n",
      "seq: 69\n",
      "tpdb is now  56\n",
      "Reference Sequence number:  56\n",
      "Reference Sequence (shape= (137,) ):\n",
      " ['I' 'S' 'H' 'I' 'V' 'M' 'D' 'E' 'N' 'R' 'V' 'K' 'D' 'N' 'R' 'L' 'P' 'H'\n",
      " 'L' 'P' 'A' 'D' 'L' 'A' 'Y' 'K' 'R' 'V' 'M' 'G' 'H' 'A' 'I' 'V' 'K' 'F'\n",
      " 'E' 'A' 'I' 'G' 'R' 'P' 'P' 'G' 'D' 'N' 'V' 'V' 'V' 'T' 'R' 'N' 'R' 'S'\n",
      " 'F' 'R' 'P' 'E' 'G' 'C' 'L' 'V' 'L' 'H' 'S' 'L' 'E' 'E' 'V' 'K' 'Q' 'W'\n",
      " 'I' 'A' 'S' 'R' 'D' 'E' 'V' 'F' 'I' 'I' 'A' 'E' 'L' 'F' 'R' 'A' 'T' 'M'\n",
      " 'P' 'I' 'V' 'D' 'R' 'L' 'Y' 'V' 'K' 'I' 'F' 'A' 'S' 'F' 'P' 'G' 'T' 'F'\n",
      " 'Y' 'P' 'I' 'S' 'D' 'D' 'E' 'W' 'E' 'I' 'V' 'S' 'Y' 'T' 'P' 'G' 'G' 'E'\n",
      " 'K' 'N' 'P' 'Y' 'E' 'H' 'A' 'F' 'I' 'I' 'Y']\n",
      "Writing processed MSA (shape= (6734, 137) ) to FASTA files:\n",
      " [['I' 'S' 'F' ... 'E' 'K' 'W']\n",
      " ['L' 'A' 'L' ... 'V' 'V' 'Y']\n",
      " ['-' '-' 'V' ... '-' '-' '-']\n",
      " ...\n",
      " ['V' 'S' 'L' ... 'N' 'V' 'Y']\n",
      " ['V' 'S' 'A' ... 'K' 'V' 'Y']\n",
      " ['F' 'S' 'I' ... 'I' 'I' 'Y']]\n"
     ]
    },
    {
     "data": {
      "text/html": [
       "\n",
       "        <script>\n",
       "            function code_toggle_888859526663494566() {\n",
       "                $('div.cell.code_cell.rendered.selected').find('div.input').toggle();\n",
       "            }\n",
       "\n",
       "            \n",
       "        </script>\n",
       "\n",
       "        <a href=\"javascript:code_toggle_888859526663494566()\">Toggle show/hide</a>\n",
       "    "
      ],
      "text/plain": [
       "<IPython.core.display.HTML object>"
      ]
     },
     "execution_count": 2,
     "metadata": {},
     "output_type": "execute_result"
    }
   ],
   "source": [
    "# Read in Protein structure\n",
    "data_path = '../Pfam-A.full'\n",
    "pfam_id = 'PF04542'\n",
    "pfam_id = 'PF00186'\n",
    "pdb = np.load('%s/%s/pdb_refs.npy'%(data_path,pfam_id))\n",
    "\n",
    "# Pre-Process Structure Data\n",
    "# delete 'b' in front of letters (python 2 --> python 3)\n",
    "pdb = np.array([pdb[t,i].decode('UTF-8') for t in range(pdb.shape[0]) \\\n",
    "         for i in range(pdb.shape[1])]).reshape(pdb.shape[0],pdb.shape[1])\n",
    "\n",
    "# Print number of pdb structures in Protein ID folder\n",
    "npdb = pdb.shape[0]\n",
    "print('number of pdb structures:',npdb)\n",
    "\n",
    "# Create pandas dataframe for protein structure\n",
    "df = pd.DataFrame(pdb,columns = ['PF','seq','id','uniprot_start','uniprot_start',\\\n",
    "                                 'pdb_id','chain','pdb_start','pdb_end'])\n",
    "print(df.head())\n",
    "\n",
    "ipdb = 0\n",
    "print('seq:',int(pdb[ipdb,1]))\n",
    "\n",
    "\n",
    "\n",
    "# Read in Sequence Data\n",
    "processing = True\n",
    "if processing:\n",
    "    # data processing\n",
    "    s0,cols_removed,s_index,s_ipdb = dp.data_processing(data_path,pfam_id,ipdb,\\\n",
    "                    gap_seqs=0.2,gap_cols=0.2,prob_low=0.004,conserved_cols=0.9)\n",
    "    # Save processed data\n",
    "    msa_outfile, ref_outfile = dp.write_FASTA(s0,pfam_id,s_ipdb)\n",
    "else:\n",
    "    msa_outfile, ref_outfile = dp.create_unprocessed_FASTA(pdb,data_path,pfam_id,ipdb)\n",
    "    \n",
    "    # create MSATrimmer instance \n",
    "    trimmer = msa_trimmer.MSATrimmer(\n",
    "        msa_outfile, biomolecule='protein', \n",
    "        refseq_file=ref_outfile,\n",
    "    )\n",
    "\n",
    "    trimmed_data = trimmer.get_msa_trimmed_by_refseq(remove_all_gaps=True)\n",
    "    print (\"trimmed_data:\\n\",trimmed_data)\n",
    "\n",
    "    #write trimmed msa to file in FASTA format\n",
    "    trimmed_data_outfile = 'MSA_'+pfam_id+'_Trimmed.fa'\n",
    "    with open(trimmed_data_outfile, 'w') as fh:\n",
    "        for seqid, seq in trimmed_data:\n",
    "            fh.write('>{}\\n{}\\n'.format(seqid, seq))\n",
    "            \n",
    "            \n",
    "#----------------CGCUUCAUAUAAUCCUAAUGAUAUGGUUUGGGAGUUUCUACCAAGAG-CCUUAAA-CUCUUGAUUAUGAAGUG-------------\n",
    "#CGCUUCAUAUAAUCCUAAUGAUAUGGUUUGGGAGUUUCUACCAAGAGCCUUAAACUCUUGAUUAUGAAGUG\n",
    "#UGAAAUUGGAUAACAGUUUUUCGUAUAAUCUCGGGAAU-UGGCCUGAGAGUUUCUACGAGAUCACCGCAAAUGAUCUGGCUACGAAAAAAAGGAACGGUAUC\n",
    "tools.hide_toggle()\n",
    "\n"
   ]
  },
  {
   "cell_type": "markdown",
   "metadata": {},
   "source": [
    "\n",
    "\n",
    "## Expectation Reflection DCA (erDCA)\n",
    "* Generate One-Hot matrix representation of sequence data\n",
    "* Generate and plot Contact Map"
   ]
  },
  {
   "cell_type": "code",
   "execution_count": 3,
   "metadata": {},
   "outputs": [
    {
     "name": "stdout",
     "output_type": "stream",
     "text": [
      "Structure exists: '/home/eclay/DCA_ER/zd/pdb1zdr.ent' \n"
     ]
    },
    {
     "data": {
      "image/png": "[encoded data removed]",
      "text/plain": [
       "<Figure size 432x288 with 2 Axes>"
      ]
     },
     "metadata": {
      "needs_background": "light"
     },
     "output_type": "display_data"
    },
    {
     "data": {
      "text/html": [
       "\n",
       "        <script>\n",
       "            function code_toggle_3964732533887094135() {\n",
       "                $('div.cell.code_cell.rendered.selected').find('div.input').toggle();\n",
       "            }\n",
       "\n",
       "            \n",
       "        </script>\n",
       "\n",
       "        <a href=\"javascript:code_toggle_3964732533887094135()\">Toggle show/hide</a>\n",
       "    "
      ],
      "text/plain": [
       "<IPython.core.display.HTML object>"
      ]
     },
     "execution_count": 3,
     "metadata": {},
     "output_type": "execute_result"
    }
   ],
   "source": [
    "# number of positions\n",
    "n_var = s0.shape[1]\n",
    "\n",
    "# number of aminoacids at each position\n",
    "mx = np.array([len(np.unique(s0[:,i])) for i in range(n_var)])\n",
    "\n",
    "mx_cumsum = np.insert(mx.cumsum(),0,0)\n",
    "i1i2 = np.stack([mx_cumsum[:-1],mx_cumsum[1:]]).T \n",
    "\n",
    "# number of variables\n",
    "mx_sum = mx.sum()\n",
    "\n",
    "# number of bias term\n",
    "n_linear = mx_sum - n_var\n",
    "\n",
    "#---------------------- Generate One-Hot/Contact -------------------#\n",
    "# Generate One-Hot Matrix\n",
    "onehot_encoder = OneHotEncoder(sparse=False,categories='auto')\n",
    "# s is OneHot encoder format, s0 is original sequnce matrix\n",
    "s = onehot_encoder.fit_transform(s0)\n",
    "\n",
    "# Generate Contact Map\n",
    "ct = tools.contact_map(pdb,ipdb,cols_removed,s_index)\n",
    "ct_distal = tools.distance_restr(ct,s_index,make_large=True)\n",
    "#--------------------------------------------------------------------#\n",
    "\n",
    "plt.title('Contact Map')\n",
    "plt.imshow(ct_distal,cmap='rainbow_r',origin='lower')\n",
    "plt.xlabel('i')\n",
    "plt.ylabel('j')\n",
    "plt.colorbar(fraction=0.045, pad=0.05)\n",
    "plt.show()\n",
    "\n",
    "tools.hide_toggle()"
   ]
  },
  {
   "cell_type": "markdown",
   "metadata": {},
   "source": [
    "#### Apply Expectation Reflection"
   ]
  },
  {
   "cell_type": "code",
   "execution_count": 4,
   "metadata": {},
   "outputs": [],
   "source": [
    "# Define wight matrix with variable for each possible amino acid at each sequence position\n",
    "w = np.zeros((mx.sum(),mx.sum())) \n",
    "h0 = np.zeros(mx.sum())"
   ]
  },
  {
   "cell_type": "code",
   "execution_count": 5,
   "metadata": {},
   "outputs": [
    {
     "name": "stdout",
     "output_type": "stream",
     "text": [
      "ER run time: 426.113531074021\n"
     ]
    },
    {
     "data": {
      "text/html": [
       "\n",
       "        <script>\n",
       "            function code_toggle_15432035921998924795() {\n",
       "                $('div.cell.code_cell.rendered.selected').find('div.input').toggle();\n",
       "            }\n",
       "\n",
       "            \n",
       "        </script>\n",
       "\n",
       "        <a href=\"javascript:code_toggle_15432035921998924795()\">Toggle show/hide</a>\n",
       "    "
      ],
      "text/plain": [
       "<IPython.core.display.HTML object>"
      ]
     },
     "execution_count": 5,
     "metadata": {},
     "output_type": "execute_result"
    }
   ],
   "source": [
    "# Expectation Reflection\n",
    "#=========================================================================================\n",
    "def predict_w(s,i0,i1i2,niter_max,l2):\n",
    "    #print('i0:',i0)\n",
    "    i1,i2 = i1i2[i0,0],i1i2[i0,1]\n",
    "\n",
    "    x = np.hstack([s[:,:i1],s[:,i2:]])\n",
    "    y = s[:,i1:i2]\n",
    "\n",
    "    h01,w1 = ER.fit(x,y,niter_max,l2)\n",
    "\n",
    "    return h01,w1\n",
    "\n",
    "#-------------------------------\n",
    "# parallel\n",
    "start_time = timeit.default_timer()\n",
    "res = Parallel(n_jobs = 32)(delayed(predict_w)\\\n",
    "        (s,i0,i1i2,niter_max=10,l2=100.0)\\\n",
    "        for i0 in range(n_var))\n",
    "\n",
    "run_time = timeit.default_timer() - start_time\n",
    "print('ER run time:',run_time)\n",
    "\n",
    "#-------------------------------\n",
    "\n",
    "for i0 in range(n_var):\n",
    "    i1,i2 = i1i2[i0,0],i1i2[i0,1]\n",
    "\n",
    "    h01 = res[i0][0]\n",
    "    w1 = res[i0][1]\n",
    "\n",
    "    h0[i1:i2] = h01\n",
    "    w[:i1,i1:i2] = w1[:i1,:]\n",
    "    w[i2:,i1:i2] = w1[i1:,:]\n",
    "\n",
    "# make w symmetric\n",
    "w = (w + w.T)/2.\n",
    "\n",
    "tools.hide_toggle()"
   ]
  },
  {
   "cell_type": "markdown",
   "metadata": {},
   "source": [
    "#### Calculate Direct Info from erDCA"
   ]
  },
  {
   "cell_type": "code",
   "execution_count": 6,
   "metadata": {},
   "outputs": [],
   "source": [
    "di_er = direct_info(s0,w)"
   ]
  },
  {
   "cell_type": "markdown",
   "metadata": {},
   "source": [
    "## Mean Field DCA (mfDCA)"
   ]
  },
  {
   "cell_type": "code",
   "execution_count": 7,
   "metadata": {},
   "outputs": [
    {
     "name": "stdout",
     "output_type": "stream",
     "text": [
      "MF run time: 125.94857137801591\n"
     ]
    },
    {
     "data": {
      "text/html": [
       "\n",
       "        <script>\n",
       "            function code_toggle_15997585465145543038() {\n",
       "                $('div.cell.code_cell.rendered.selected').find('div.input').toggle();\n",
       "            }\n",
       "\n",
       "            \n",
       "        </script>\n",
       "\n",
       "        <a href=\"javascript:code_toggle_15997585465145543038()\">Toggle show/hide</a>\n",
       "    "
      ],
      "text/plain": [
       "<IPython.core.display.HTML object>"
      ]
     },
     "execution_count": 7,
     "metadata": {},
     "output_type": "execute_result"
    }
   ],
   "source": [
    "start_time = timeit.default_timer()\n",
    "di_mf = direct_info_dca(s0)\n",
    "run_time = timeit.default_timer() - start_time\n",
    "print('MF run time:',run_time)\n",
    "\n",
    "tools.hide_toggle()"
   ]
  },
  {
   "cell_type": "markdown",
   "metadata": {},
   "source": [
    "## Pseudoliklihood DCA (plmDCA)"
   ]
  },
  {
   "cell_type": "code",
   "execution_count": 8,
   "metadata": {
    "scrolled": true
   },
   "outputs": [
    {
     "name": "stdout",
     "output_type": "stream",
     "text": [
      "PLM run time: 11.668625899008475\n",
      "sorted_DI (list) has shape:  (9316, 2) \n",
      "Rows: all combinations of sequence postitions ie sequence len choose 2 \n",
      "num sequences = 1 , sequences len = 137\n",
      "\n",
      "\n",
      "Print top 10 pairs\n",
      "(62, 85) 1.8606168631482263e-05\n",
      "(27, 62) 1.860616345266929e-05\n",
      "(32, 62) 1.860616345266929e-05\n",
      "(27, 85) 1.8606163380617552e-05\n",
      "(32, 85) 1.8606163380617552e-05\n",
      "(35, 62) 1.8606163100646695e-05\n",
      "(35, 85) 1.860616303149872e-05\n",
      "(62, 66) 1.8606160648450412e-05\n",
      "(62, 68) 1.8606160648450357e-05\n",
      "(52, 62) 1.860616064828537e-05\n"
     ]
    },
    {
     "data": {
      "text/html": [
       "\n",
       "        <script>\n",
       "            function code_toggle_10689233865879526664() {\n",
       "                $('div.cell.code_cell.rendered.selected').find('div.input').toggle();\n",
       "            }\n",
       "\n",
       "            \n",
       "        </script>\n",
       "\n",
       "        <a href=\"javascript:code_toggle_10689233865879526664()\">Toggle show/hide</a>\n",
       "    "
      ],
      "text/plain": [
       "<IPython.core.display.HTML object>"
      ]
     },
     "execution_count": 8,
     "metadata": {},
     "output_type": "execute_result"
    }
   ],
   "source": [
    "# DCA scores using Pseudolikelihood maximization algorithm\n",
    "\n",
    "FASTA_data_outfile = 'MSA_PF00186.fa'\n",
    "        \n",
    "plmdca_inst = plmdca.PlmDCA(\n",
    "    FASTA_data_outfile,\n",
    "    'protein',\n",
    "    seqid = 0.8,\n",
    "    lambda_h = 1.0,\n",
    "    lambda_J = 20.0,\n",
    "    num_threads = 10,\n",
    "    max_iterations = 500,\n",
    ")\n",
    "\n",
    "# Compute DCA scores using Pseudolikelihood maximization algorithm\n",
    "start_time = timeit.default_timer()\n",
    "sorted_DI = plmdca_inst.compute_sorted_DI()\n",
    "run_time = timeit.default_timer() - start_time\n",
    "print('PLM run time:',run_time)\n",
    "\n",
    "N = plmdca_inst.sequences_len\n",
    "B = plmdca_inst.num_sequences\n",
    "print(\"sorted_DI (list) has shape: \",np.array(sorted_DI).shape,\"\\nRows: all combinations of sequence postitions ie sequence len choose 2 \")\n",
    "print(\"num sequences = %d , sequences len = %d\\n\\n\"%(B,N))\n",
    "\n",
    "print(\"Print top 10 pairs\")\n",
    "for site_pair, score in sorted_DI[:10]:\n",
    "    print(site_pair, score)\n",
    "\n",
    "tools.hide_toggle()"
   ]
  },
  {
   "cell_type": "code",
   "execution_count": 9,
   "metadata": {},
   "outputs": [
    {
     "name": "stdout",
     "output_type": "stream",
     "text": [
      "Calculated DI: (shape, matrix)\n",
      " (137, 137) \n",
      " [[0.00000000e+00 1.86058244e-05 1.86056741e-05 ... 1.86056738e-05\n",
      "  1.86056738e-05 1.86058841e-05]\n",
      " [0.00000000e+00 0.00000000e+00 1.86058931e-05 ... 1.86058929e-05\n",
      "  1.86058929e-05 1.86060975e-05]\n",
      " [0.00000000e+00 0.00000000e+00 0.00000000e+00 ... 1.86057342e-05\n",
      "  1.86057342e-05 1.86059472e-05]\n",
      " ...\n",
      " [0.00000000e+00 0.00000000e+00 0.00000000e+00 ... 0.00000000e+00\n",
      "  1.86057339e-05 1.86059470e-05]\n",
      " [0.00000000e+00 0.00000000e+00 0.00000000e+00 ... 0.00000000e+00\n",
      "  0.00000000e+00 1.86059470e-05]\n",
      " [0.00000000e+00 0.00000000e+00 0.00000000e+00 ... 0.00000000e+00\n",
      "  0.00000000e+00 0.00000000e+00]]\n"
     ]
    }
   ],
   "source": [
    "# Generate Direct Information matrix\n",
    "di_plm = np.zeros((N,N))\n",
    "DI_ver= np.array(sorted_DI)\n",
    "for coupling in sorted_DI:\n",
    "    di_plm[coupling[0][0],coupling[0][1]] = coupling[1]\n",
    "print(\"Calculated DI: (shape, matrix)\\n\",di_plm.shape,\"\\n\",di_plm)\n",
    "np.save(\"plmDCA_DI_%s.npy\"%(pfam_id),di_plm)"
   ]
  },
  {
   "cell_type": "markdown",
   "metadata": {},
   "source": [
    "## Plot ROC, AUC, and Precision for all Methods\n",
    "* Vary contact threshold for each method to find optimal contact prediction for each model\n",
    "* Plot resulting ROC, AUC, and Precision"
   ]
  },
  {
   "cell_type": "code",
   "execution_count": 10,
   "metadata": {},
   "outputs": [
    {
     "data": {
      "text/html": [
       "\n",
       "        <script>\n",
       "            function code_toggle_13361307822201004221() {\n",
       "                $('div.cell.code_cell.rendered.selected').find('div.input').toggle();\n",
       "            }\n",
       "\n",
       "            \n",
       "        </script>\n",
       "\n",
       "        <a href=\"javascript:code_toggle_13361307822201004221()\">Toggle show/hide</a>\n",
       "    "
      ],
      "text/plain": [
       "<IPython.core.display.HTML object>"
      ]
     },
     "execution_count": 10,
     "metadata": {},
     "output_type": "execute_result"
    }
   ],
   "source": [
    "distance_enforced = True\n",
    "if distance_enforced:\n",
    "    di_er = tools.distance_restr(di_er,s_index,make_large=False)\n",
    "    di_mf = tools.distance_restr(di_mf,s_index,make_large=False)\n",
    "    di_plm = tools.distance_restr(di_plm,s_index,make_large=False)\n",
    "\n",
    "\n",
    "# find optimal threshold of distance for both DCA and ER\n",
    "ct_thres = np.linspace(1.5,10.,18,endpoint=True)\n",
    "n = ct_thres.shape[0]\n",
    "\n",
    "auc_mf = np.zeros(n)\n",
    "auc_er = np.zeros(n)\n",
    "auc_plm = np.zeros(n)\n",
    "\n",
    "for i in range(n):\n",
    "    p,tp,fp = tools.roc_curve(ct_distal,di_mf,ct_thres[i])\n",
    "    auc_mf[i] = tp.sum()/tp.shape[0]\n",
    "    \n",
    "    p,tp,fp = tools.roc_curve(ct_distal,di_er,ct_thres[i])\n",
    "    auc_er[i] = tp.sum()/tp.shape[0]\n",
    "    \n",
    "    p,tp,fp = tools.roc_curve(ct_distal,di_plm,ct_thres[i])\n",
    "    auc_plm[i] = tp.sum()/tp.shape[0]\n",
    "    \n",
    "i0_mf = np.argmax(auc_mf)\n",
    "i0_er = np.argmax(auc_er)\n",
    "i0_plm = np.argmax(auc_plm)\n",
    "\n",
    "\n",
    "p0_mf,tp0_mf,fp0_mf = tools.roc_curve(ct_distal,di_mf,ct_thres[i0_mf])\n",
    "p0_er,tp0_er,fp0_er = tools.roc_curve(ct_distal,di_er,ct_thres[i0_er])\n",
    "p0_plm,tp0_plm,fp0_plm = tools.roc_curve(ct_distal,di_plm,ct_thres[i0_plm])\n",
    "\n",
    "tools.hide_toggle()"
   ]
  },
  {
   "cell_type": "code",
   "execution_count": 11,
   "metadata": {},
   "outputs": [
    {
     "name": "stdout",
     "output_type": "stream",
     "text": [
      "Optimal Contact threshold for (mf, er, plm) = (1.500000, 4.000000, 1.500000)\n",
      "Maximal AUC for (mf, er, plm) = (0.620735, 0.623992, 0.640460)\n"
     ]
    },
    {
     "data": {
      "text/html": [
       "\n",
       "        <script>\n",
       "            function code_toggle_7186827579929681505() {\n",
       "                $('div.cell.code_cell.rendered.selected').find('div.input').toggle();\n",
       "            }\n",
       "\n",
       "            \n",
       "        </script>\n",
       "\n",
       "        <a href=\"javascript:code_toggle_7186827579929681505()\">Toggle show/hide</a>\n",
       "    "
      ],
      "text/plain": [
       "<IPython.core.display.HTML object>"
      ]
     },
     "execution_count": 11,
     "metadata": {},
     "output_type": "execute_result"
    },
    {
     "data": {
      "image/png": "[encoded data removed]",
      "text/plain": [
       "<Figure size 432x288 with 3 Axes>"
      ]
     },
     "metadata": {
      "needs_background": "light"
     },
     "output_type": "display_data"
    }
   ],
   "source": [
    "# Plot ROC for optimal DCA vs optimal ER\n",
    "print(\"Optimal Contact threshold for (mf, er, plm) = (%f, %f, %f)\"%(ct_thres[i0_mf],ct_thres[i0_er],ct_thres[i0_plm]))\n",
    "print(\"Maximal AUC for (mf, er, plm) = (%f, %f, %f)\"%(auc_mf[i0_mf], auc_er[i0_er], auc_plm[i0_plm]))\n",
    "\n",
    "\n",
    "plt.subplot2grid((1,3),(0,0))\n",
    "plt.title('ROC ')\n",
    "plt.plot(fp0_er,tp0_er,'b-',label=\"er\")\n",
    "plt.plot(fp0_mf,tp0_mf,'r-',label=\"mf\")\n",
    "plt.plot(fp0_plm,tp0_plm,'g-',label=\"plm\")\n",
    "plt.plot([0,1],[0,1],'k--')\n",
    "plt.xlim([0,1])\n",
    "plt.ylim([0,1])\n",
    "plt.xlabel('False Positive Rate')\n",
    "plt.ylabel('True Positive Rate')\n",
    "plt.legend()\n",
    "\n",
    "# Plot AUC for DCA and ER\n",
    "plt.subplot2grid((1,3),(0,1))\n",
    "plt.title('AUC')\n",
    "plt.plot([ct_thres.min(),ct_thres.max()],[0.5,0.5],'k--')\n",
    "plt.plot(ct_thres,auc_er,'b-',label=\"er\")\n",
    "plt.plot(ct_thres,auc_mf,'r-',label=\"mf\")\n",
    "plt.plot(ct_thres,auc_plm,'g-',label=\"plm\")\n",
    "plt.ylim([min(auc_er.min(),auc_mf.min(),auc_plm.min())-0.05,max(auc_er.max(),auc_mf.max(),auc_plm.max())+0.05])\n",
    "plt.xlim([ct_thres.min(),ct_thres.max()])\n",
    "plt.xlabel('distance threshold')\n",
    "plt.ylabel('AUC')\n",
    "plt.legend()\n",
    "\n",
    "# Plot Precision of optimal DCA and ER\n",
    "plt.subplot2grid((1,3),(0,2))\n",
    "plt.title('Precision')\n",
    "plt.plot( p0_er,tp0_er / (tp0_er + fp0_er),'b-',label='er')\n",
    "plt.plot( p0_mf,tp0_mf / (tp0_mf + fp0_mf),'r-',label='mf')\n",
    "plt.plot( p0_plm,tp0_plm / (tp0_plm + fp0_plm),'g-',label='plm')\n",
    "plt.plot([0,1],[0,1],'k--')\n",
    "plt.xlim([0,1])\n",
    "#plt.ylim([0,1])\n",
    "plt.ylim([.4,.8])\n",
    "plt.xlabel('Recall (Sensitivity - P)')\n",
    "plt.ylabel('Precision (PPV)')\n",
    "plt.legend()\n",
    "\n",
    "plt.tight_layout(h_pad=1, w_pad=1.5)\n",
    "\n",
    "\n",
    "tools.hide_toggle()"
   ]
  },
  {
   "cell_type": "code",
   "execution_count": null,
   "metadata": {},
   "outputs": [],
   "source": []
  }
 ],
 "metadata": {
  "kernelspec": {
   "display_name": "Python 3",
   "language": "python",
   "name": "python3"
  },
  "language_info": {
   "codemirror_mode": {
    "name": "ipython",
    "version": 3
   },
   "file_extension": ".py",
   "mimetype": "text/x-python",
   "name": "python",
   "nbconvert_exporter": "python",
   "pygments_lexer": "ipython3",
   "version": "3.7.4"
  }
 },
 "nbformat": 4,
 "nbformat_minor": 2
}
