{
 "cells": [
  {
   "cell_type": "markdown",
   "metadata": {},
   "source": [
    "## From Principal Component (PCA) to Direct Coupling Analysis (DCA) of Coevolution in Proteins\n",
    "\n",
    "* Original code from https://gist.github.com/sameerd/a70e6e10086d9ad152f8a3ade7a1c323\n",
    "\n",
    "This notebook takes a look at a 2013 paper from Simona Cocco, Remi Monasson, Martin Weigt titled\n",
    "**From Principal Component to Direct Coupling Analysis of Coevolution in Proteins: Low-Eigenvalue Modes are Needed for Structure Prediction.** *\\[2013Cocco\\]*\n",
    "\n",
    "Link: https://journals.plos.org/ploscompbiol/article?id=10.1371/journal.pcbi.1003176\n",
    "\n",
    "This paper looks at extracting functional and structural information from Multiple Sequence Alignments (MSA) of homologous proteins. First a covariance matrix of the residues are created from the MSA. Then the paper connects two approaches \n",
    "\n",
    "*  PCA - which identifies correlated groups of residues\n",
    "*  DCA - which identifies residue-residue contacts\n",
    "\n",
    "It shows how these two methods are related in non-intuitive ways using sophisticated statistical-physics models. This connection between the two approaches allows one to perform some sort of \"dimension reduction\" on DCA and to accurately predict residue-residue contacts with a smaller number of parameters. It also shows that the low eigenvalue values, which are discarded by PCA, are actually important to recover contact information. \n",
    "\n",
    "### Sections\n",
    "\n",
    "1. [Multiple Sequence Alignment](#msa)\n",
    "2. [Re-weighting Sequences](#reweight)\n",
    "3. [Compute Single and Double Site marginals](#marginals)\n",
    "4. [Compute the Covariance matrix](#covmat)\n",
    "5. [Maximum Entropy Modeling and Direct Coupling Analysis](#maxent)  \n",
    "6. [Approximations to DCA](#approxdca)\n",
    "7. [PSICOV - Sparse inverse covariance estimation](#2011PSICOV)\n",
    "8. [Correlation Matrix and connection to PCA](#pcaconnect)\n",
    "9. [Results](#2013CoccoResults)\n",
    "    - [Hopfield Potts model](#HopfieldPotts)\n",
    "***\n"
   ]
  },
  {
   "cell_type": "markdown",
   "metadata": {},
   "source": [
    "### Multiple Sequence Alignment (MSA)  <a id=\"msa\"></a>\n",
    "\n",
    "Here we are running a simulated MSA. "
   ]
  },
  {
   "cell_type": "code",
   "execution_count": 1,
   "metadata": {},
   "outputs": [],
   "source": [
    "import numpy as np\n",
    "import pandas as pd\n",
    "from scipy import linalg\n",
    "from sklearn.preprocessing import OneHotEncoder\n",
    "#import emachine as EM\n",
    "from direct_info import direct_info\n",
    "\n",
    "from data_processing import data_processing\n",
    "import Bio.PDB, warnings\n",
    "pdb_list = Bio.PDB.PDBList()\n",
    "pdb_parser = Bio.PDB.PDBParser()\n",
    "from scipy.spatial import distance_matrix\n",
    "from Bio import BiopythonWarning\n",
    "warnings.simplefilter('ignore', BiopythonWarning)\n",
    "\n",
    "from scipy.sparse import csr_matrix\n",
    "from joblib import Parallel, delayed\n",
    "import timeit\n",
    "\n",
    "import matplotlib.pyplot as plt\n",
    "%matplotlib inline\n",
    "import ecc_tools as tools\n",
    "import itertools"
   ]
  },
  {
   "cell_type": "code",
   "execution_count": 2,
   "metadata": {},
   "outputs": [
    {
     "name": "stdout",
     "output_type": "stream",
     "text": [
      "number of pdb structures: 372\n",
      "[['PF00186' '69' 'Q5KZ26_GEOKA' ... 'B' '1' '160']\n",
      " ['PF00186' '69' 'Q5KZ26_GEOKA' ... 'A' '1' '160']\n",
      " ['PF00186' '83' 'Q81R22_BACAN' ... 'B' '2' '160']\n",
      " ...\n",
      " ['PF00186' '6952' 'DYR_MYCTU' ... 'A' '1' '158']\n",
      " ['PF00186' '7457' 'Q834R2_ENTFA' ... 'A' '1' '161']\n",
      " ['PF00186' '7457' 'Q834R2_ENTFA' ... 'A' '1' '161']]\n",
      "['PF00186' '69' 'Q5KZ26_GEOKA' '1' '160' '1ZDR' 'B' '1' '160']\n"
     ]
    },
    {
     "data": {
      "text/html": [
       "<div>\n",
       "<style scoped>\n",
       "    .dataframe tbody tr th:only-of-type {\n",
       "        vertical-align: middle;\n",
       "    }\n",
       "\n",
       "    .dataframe tbody tr th {\n",
       "        vertical-align: top;\n",
       "    }\n",
       "\n",
       "    .dataframe thead th {\n",
       "        text-align: right;\n",
       "    }\n",
       "</style>\n",
       "<table border=\"1\" class=\"dataframe\">\n",
       "  <thead>\n",
       "    <tr style=\"text-align: right;\">\n",
       "      <th></th>\n",
       "      <th>PF</th>\n",
       "      <th>seq</th>\n",
       "      <th>id</th>\n",
       "      <th>uniprot_start</th>\n",
       "      <th>uniprot_start</th>\n",
       "      <th>pdb_id</th>\n",
       "      <th>chain</th>\n",
       "      <th>pdb_start</th>\n",
       "      <th>pdb_end</th>\n",
       "    </tr>\n",
       "  </thead>\n",
       "  <tbody>\n",
       "    <tr>\n",
       "      <td>0</td>\n",
       "      <td>PF00186</td>\n",
       "      <td>69</td>\n",
       "      <td>Q5KZ26_GEOKA</td>\n",
       "      <td>1</td>\n",
       "      <td>160</td>\n",
       "      <td>1ZDR</td>\n",
       "      <td>B</td>\n",
       "      <td>1</td>\n",
       "      <td>160</td>\n",
       "    </tr>\n",
       "    <tr>\n",
       "      <td>1</td>\n",
       "      <td>PF00186</td>\n",
       "      <td>69</td>\n",
       "      <td>Q5KZ26_GEOKA</td>\n",
       "      <td>1</td>\n",
       "      <td>160</td>\n",
       "      <td>1ZDR</td>\n",
       "      <td>A</td>\n",
       "      <td>1</td>\n",
       "      <td>160</td>\n",
       "    </tr>\n",
       "    <tr>\n",
       "      <td>2</td>\n",
       "      <td>PF00186</td>\n",
       "      <td>83</td>\n",
       "      <td>Q81R22_BACAN</td>\n",
       "      <td>2</td>\n",
       "      <td>160</td>\n",
       "      <td>3JWK</td>\n",
       "      <td>B</td>\n",
       "      <td>2</td>\n",
       "      <td>160</td>\n",
       "    </tr>\n",
       "    <tr>\n",
       "      <td>3</td>\n",
       "      <td>PF00186</td>\n",
       "      <td>83</td>\n",
       "      <td>Q81R22_BACAN</td>\n",
       "      <td>2</td>\n",
       "      <td>160</td>\n",
       "      <td>3S9U</td>\n",
       "      <td>B</td>\n",
       "      <td>2</td>\n",
       "      <td>160</td>\n",
       "    </tr>\n",
       "    <tr>\n",
       "      <td>4</td>\n",
       "      <td>PF00186</td>\n",
       "      <td>83</td>\n",
       "      <td>Q81R22_BACAN</td>\n",
       "      <td>2</td>\n",
       "      <td>160</td>\n",
       "      <td>3FL9</td>\n",
       "      <td>H</td>\n",
       "      <td>2</td>\n",
       "      <td>160</td>\n",
       "    </tr>\n",
       "  </tbody>\n",
       "</table>\n",
       "</div>"
      ],
      "text/plain": [
       "        PF seq            id uniprot_start uniprot_start pdb_id chain  \\\n",
       "0  PF00186  69  Q5KZ26_GEOKA             1           160   1ZDR     B   \n",
       "1  PF00186  69  Q5KZ26_GEOKA             1           160   1ZDR     A   \n",
       "2  PF00186  83  Q81R22_BACAN             2           160   3JWK     B   \n",
       "3  PF00186  83  Q81R22_BACAN             2           160   3S9U     B   \n",
       "4  PF00186  83  Q81R22_BACAN             2           160   3FL9     H   \n",
       "\n",
       "  pdb_start pdb_end  \n",
       "0         1     160  \n",
       "1         1     160  \n",
       "2         2     160  \n",
       "3         2     160  \n",
       "4         2     160  "
      ]
     },
     "execution_count": 2,
     "metadata": {},
     "output_type": "execute_result"
    }
   ],
   "source": [
    "import random\n",
    "random.seed(1)\n",
    "\n",
    "# import MSA\n",
    "# Read in Protein structure\n",
    "data_path = '../Pfam-A.full'\n",
    "pfam_id = 'PF00186'\n",
    "pdb = np.load('%s/%s/pdb_refs.npy'%(data_path,pfam_id))\n",
    "\n",
    "# delete 'b' in front of letters (python 2 --> python 3)\n",
    "pdb = np.array([pdb[t,i].decode('UTF-8') for t in range(pdb.shape[0]) \\\n",
    "         for i in range(pdb.shape[1])]).reshape(pdb.shape[0],pdb.shape[1])\n",
    "\n",
    "# Print number of pdb structures in Protein ID folder\n",
    "npdb = pdb.shape[0]\n",
    "print('number of pdb structures:',npdb)\n",
    "\n",
    "# Print PDB array \n",
    "print(pdb)\n",
    "print(pdb[0])\n",
    "\n",
    "# Create pandas dataframe for protein structure\n",
    "df = pd.DataFrame(pdb,columns = ['PF','seq','id','uniprot_start','uniprot_start',\\\n",
    "                                 'pdb_id','chain','pdb_start','pdb_end'])\n",
    "df.head()"
   ]
  },
  {
   "cell_type": "code",
   "execution_count": 3,
   "metadata": {},
   "outputs": [
    {
     "name": "stdout",
     "output_type": "stream",
     "text": [
      "shape = (1000, 8) ,dtype=  |S1\n",
      "Number of sequences : 1000 \n",
      "Sequence Length : 8\n"
     ]
    }
   ],
   "source": [
    "import ecc_tools as tools\n",
    "real_sequence = False\n",
    "if real_sequence:\n",
    "    ipdb = 0\n",
    "    print('seq:',int(pdb[ipdb,1]))\n",
    "\n",
    "    # data processing\n",
    "    s0,cols_removed,s_index = data_processing(data_path,pfam_id,ipdb,\\\n",
    "                    gap_seqs=0.2,gap_cols=0.2,prob_low=0.004,conserved_cols=0.9)\n",
    "\n",
    "    number2letter= {0:'A',1:'C', 2:'D',3:'E',4:'F',5:'G',6:'H',7:'I',8:'K',9:'L',10:'M',11:'N',12:'P',13:'Q',\\\n",
    "                    14:'R',15:'S',16:'T',17:'V',18:'W',19:'Y',20:'-'}\n",
    "                    # Reverse of letter2number = {'A':0, 'C':1, 'D':2, 'E':3, 'F':4, 'G':5, 'H':6, 'I':7, 'K':8,'L':9,\\\n",
    "                    #'M':10, 'N':11, 'P':12, 'Q':13, 'R':14, 'S':15,'T':16, 'V':17, 'W':18, 'Y':19, '-':20}\n",
    "                    #,'B':20, 'Z':21, 'X':22}\n",
    "    l,n = s0.shape\n",
    "    s0_letter = np.array([number2letter[s0[t,i]] for t in range(l) for i in range(n)]).reshape(l,n)\n",
    "\n",
    "    print(\"shape =\", s0.shape)\n",
    "    print(\"shape =\", s0_letter.shape)\n",
    "    print(s0)\n",
    "    print(s0_letter)\n",
    "    \n",
    "    # M is the number of sequences\n",
    "    # L is the length\n",
    "    M, L = s0_letter.shape\n",
    "    print(\"Number of sequences : {} \".format(M))\n",
    "    print(\"Sequence Length : {}\".format(L))\n",
    "else:\n",
    "    random.seed(1)\n",
    "    %run -i simulate_msa.py\n",
    "    # Read all the lines from simulated MSA into array\n",
    "    s0 = np.array([[x for x in line.strip()] for line in MSA], np.dtype(\"S1\"))\n",
    "\n",
    "    print(\"shape =\", s0.shape, \",dtype= \", s0.dtype)\n",
    "    \n",
    "\n",
    "    # M is the number of sequences\n",
    "    # L is the length\n",
    "    M, L = s0.shape\n",
    "    print(\"Number of sequences : {} \".format(M))\n",
    "    print(\"Sequence Length : {}\".format(L))\n",
    "    \n",
    "    # the first sequence\n",
    "    s0[0, :].tostring()\n",
    "    \n",
    "\n",
    "    # the second sequence\n",
    "    s0[1, :].tostring()\n",
    "    \n",
    "    s0_letter = s0\n",
    "\n",
    "\n",
    "\n",
    "\n"
   ]
  },
  {
   "cell_type": "code",
   "execution_count": 4,
   "metadata": {},
   "outputs": [
    {
     "name": "stdout",
     "output_type": "stream",
     "text": [
      "[b'F' b'W' b'A' b'C' b'D' b'K' b'A' b'G']\n"
     ]
    }
   ],
   "source": [
    "# the first sequence\n",
    "print(s0_letter[0,:])"
   ]
  },
  {
   "cell_type": "markdown",
   "metadata": {},
   "source": [
    "We can order the amino acids any way we like. Here is a sorting based on some amino acid properties. \n",
    "https://proteinstructures.com/Structure/Structure/amino-acids.html"
   ]
  },
  {
   "cell_type": "code",
   "execution_count": 5,
   "metadata": {},
   "outputs": [
    {
     "name": "stdout",
     "output_type": "stream",
     "text": [
      "[b'R' b'K' b'D' b'E' b'Q' b'N' b'H' b'S' b'T' b'C' b'Y' b'W' b'A' b'I'\n",
      " b'L' b'M' b'F' b'V' b'P' b'G' b'-']\n"
     ]
    }
   ],
   "source": [
    "AMINO_ACIDS = np.array([aa for aa in \"RKDEQNHSTCYWAILMFVPG-\"], \"S1\")\n",
    "print(AMINO_ACIDS)"
   ]
  },
  {
   "cell_type": "markdown",
   "metadata": {},
   "source": [
    "### Compute the weights of each sequence <a id=\"reweight\"></a>\n",
    "\n",
    "To compute the weight of a sequence, we first compute the hamming distance between this sequence and all the other sequences in the alignment. Then we count the number of these distances that are less than a cutoff. \n",
    "\n",
    "This count is 1 for isolated sequences. It is large for sequences that have many similar sequences in the alignment. The weight is reciprocal of the count. So it is 1 for isolated sequences and close to zero for sequences that have many similar sequences in the MSA. (Eqn 27 in 2013Cocco)\n",
    "\n",
    "$$w_m = \\frac{1}{ \\| \\{ n | 1 \\leq n \\leq M  ; d_H [ (a_1^n, \\ldots, a_L^n), (a_1^m, \\ldots, a_L^m) ] \\leq xL \\} \\| }$$\n",
    "\n"
   ]
  },
  {
   "cell_type": "code",
   "execution_count": 6,
   "metadata": {},
   "outputs": [
    {
     "name": "stdout",
     "output_type": "stream",
     "text": [
      "Hamming Weights:  [0.33333333 0.25       0.5        0.25       0.25       0.5\n",
      " 0.16666667 0.5        0.5        0.16666667 0.16666667 0.25\n",
      " 0.5        0.2        0.33333333 0.33333333 0.2        0.2\n",
      " 0.2        0.25       0.5        0.33333333 0.33333333 0.25\n",
      " 0.5        0.33333333 0.2        1.         0.25       0.16666667\n",
      " 0.16666667 0.16666667 1.         0.25       0.2        0.25\n",
      " 0.5        0.5        0.33333333 1.         0.5        0.5\n",
      " 0.33333333 0.25       0.2        1.         0.5        0.25\n",
      " 0.25       0.25       0.14285714 0.33333333 0.33333333 0.33333333\n",
      " 0.33333333 0.25       0.2        1.         0.25       0.33333333\n",
      " 0.5        0.33333333 0.33333333 0.5        0.2        1.\n",
      " 1.         0.25       0.5        0.33333333 0.5        0.33333333\n",
      " 0.16666667 1.         0.5        0.33333333 0.25       0.33333333\n",
      " 0.25       0.5        0.5        0.5        0.2        0.25\n",
      " 0.33333333 1.         0.33333333 0.25       0.25       0.16666667\n",
      " 0.2        0.2        1.         0.33333333 0.25       0.25\n",
      " 1.         0.33333333 0.33333333 0.5        0.16666667 0.33333333\n",
      " 0.16666667 0.2        0.33333333 0.2        0.33333333 0.5\n",
      " 0.5        0.33333333 0.33333333 0.33333333 0.33333333 1.\n",
      " 0.33333333 0.33333333 0.5        0.25       0.33333333 1.\n",
      " 0.5        0.33333333 0.25       0.5        0.33333333 0.2\n",
      " 0.33333333 0.33333333 0.25       0.2        0.25       0.33333333\n",
      " 0.33333333 0.33333333 0.33333333 1.         0.2        0.33333333\n",
      " 0.33333333 0.25       0.33333333 0.25       0.16666667 1.\n",
      " 0.25       0.14285714 0.16666667 0.25       0.16666667 0.33333333\n",
      " 0.5        0.2        0.25       0.33333333 0.33333333 0.5\n",
      " 0.16666667 1.         0.25       0.5        0.2        0.25\n",
      " 0.2        0.33333333 0.33333333 0.2        0.5        0.33333333\n",
      " 0.33333333 0.5        0.33333333 1.         0.5        0.5\n",
      " 1.         0.2        0.33333333 0.25       1.         0.125\n",
      " 0.33333333 1.         0.2        0.33333333 0.2        0.2\n",
      " 0.25       0.33333333 0.33333333 0.25       0.25       0.33333333\n",
      " 1.         0.33333333 0.5        0.5        0.5        0.25\n",
      " 0.2        0.33333333 0.16666667 0.25       0.16666667 0.25\n",
      " 0.5        0.5        0.2        1.         0.16666667 0.2\n",
      " 0.5        0.5        0.5        1.         0.33333333 0.33333333\n",
      " 0.33333333 0.16666667 1.         0.5        0.16666667 0.25\n",
      " 0.25       0.5        0.33333333 0.33333333 0.2        0.16666667\n",
      " 0.2        0.25       0.25       0.25       0.33333333 0.33333333\n",
      " 0.2        0.2        0.33333333 1.         1.         0.5\n",
      " 0.25       0.2        0.25       0.33333333 0.5        0.33333333\n",
      " 0.25       0.33333333 0.33333333 0.2        0.25       0.25\n",
      " 0.5        0.125      0.2        1.         0.33333333 0.16666667\n",
      " 0.5        0.5        0.33333333 0.33333333 0.16666667 0.33333333\n",
      " 0.5        0.25       0.2        0.5        0.25       0.14285714\n",
      " 0.25       0.25       0.5        0.25       0.5        0.2\n",
      " 0.25       0.25       0.33333333 0.16666667 0.16666667 0.33333333\n",
      " 0.2        0.2        0.25       0.2        0.33333333 1.\n",
      " 1.         0.2        0.2        0.33333333 1.         0.33333333\n",
      " 0.2        0.25       0.33333333 0.25       0.33333333 0.16666667\n",
      " 0.16666667 0.5        0.25       0.25       0.33333333 1.\n",
      " 0.33333333 0.33333333 0.25       0.5        1.         0.2\n",
      " 0.25       0.33333333 0.2        0.16666667 0.33333333 0.25\n",
      " 1.         0.33333333 0.5        0.2        0.33333333 0.25\n",
      " 0.5        0.16666667 0.33333333 0.25       0.33333333 0.25\n",
      " 0.25       0.33333333 0.2        0.33333333 0.5        0.5\n",
      " 0.25       0.5        0.25       0.5        0.5        0.25\n",
      " 0.25       0.5        0.16666667 0.16666667 0.33333333 0.2\n",
      " 0.25       0.33333333 0.5        0.5        0.2        0.25\n",
      " 0.33333333 0.33333333 0.2        0.25       0.5        0.16666667\n",
      " 0.33333333 0.14285714 0.5        0.5        0.33333333 0.5\n",
      " 0.33333333 1.         0.25       0.25       0.33333333 0.5\n",
      " 1.         1.         0.25       0.5        0.2        0.5\n",
      " 0.25       0.33333333 0.5        0.5        0.2        0.5\n",
      " 0.5        0.33333333 0.2        0.25       0.5        0.33333333\n",
      " 0.5        0.2        0.5        0.33333333 0.33333333 1.\n",
      " 0.5        0.25       0.5        0.33333333 0.16666667 0.33333333\n",
      " 0.25       0.33333333 0.16666667 0.5        0.33333333 0.5\n",
      " 0.33333333 0.25       0.16666667 0.2        0.33333333 0.25\n",
      " 1.         0.5        0.33333333 0.5        0.33333333 0.33333333\n",
      " 0.16666667 0.33333333 0.16666667 1.         0.14285714 0.2\n",
      " 0.16666667 0.16666667 1.         0.5        1.         0.33333333\n",
      " 0.2        0.16666667 0.2        0.33333333 0.25       0.5\n",
      " 0.16666667 0.5        0.25       0.5        0.16666667 0.33333333\n",
      " 0.25       0.33333333 0.33333333 0.33333333 0.33333333 0.5\n",
      " 0.25       0.5        0.125      0.2        0.25       1.\n",
      " 0.2        0.5        0.5        0.33333333 0.5        0.16666667\n",
      " 0.33333333 0.25       1.         0.2        0.2        0.16666667\n",
      " 0.25       0.2        0.33333333 0.5        0.33333333 0.5\n",
      " 1.         0.2        0.5        0.2        0.2        0.33333333\n",
      " 0.16666667 0.16666667 1.         0.5        0.5        0.33333333\n",
      " 0.33333333 0.2        0.5        0.5        0.5        0.16666667\n",
      " 0.2        0.5        0.16666667 0.25       0.33333333 0.25\n",
      " 0.14285714 0.25       0.33333333 0.25       0.25       0.25\n",
      " 0.5        0.16666667 0.125      0.5        0.5        0.33333333\n",
      " 0.5        0.5        0.33333333 0.5        0.2        0.33333333\n",
      " 0.25       0.25       0.25       0.14285714 0.5        0.25\n",
      " 0.5        0.5        0.33333333 1.         1.         0.33333333\n",
      " 0.5        0.2        0.5        0.25       0.33333333 0.2\n",
      " 0.2        0.25       1.         0.33333333 1.         0.33333333\n",
      " 0.25       0.33333333 0.5        0.25       0.25       0.5\n",
      " 0.14285714 0.33333333 0.5        0.33333333 0.16666667 0.5\n",
      " 0.25       0.25       0.33333333 0.33333333 0.33333333 0.2\n",
      " 0.2        0.5        1.         0.5        1.         1.\n",
      " 0.125      0.5        0.16666667 0.2        0.5        0.2\n",
      " 0.125      0.25       0.33333333 0.2        0.33333333 0.5\n",
      " 0.33333333 0.33333333 0.25       1.         0.25       1.\n",
      " 0.5        0.2        0.2        1.         1.         0.16666667\n",
      " 0.33333333 0.5        0.2        0.5        0.25       0.25\n",
      " 0.25       0.2        0.33333333 1.         0.125      0.125\n",
      " 0.25       0.5        0.5        0.5        0.16666667 0.33333333\n",
      " 0.16666667 0.16666667 0.16666667 1.         0.5        0.33333333\n",
      " 0.33333333 1.         0.25       0.33333333 0.33333333 0.2\n",
      " 0.33333333 0.25       0.16666667 0.33333333 0.33333333 0.33333333\n",
      " 0.33333333 0.5        0.33333333 0.5        0.33333333 0.25\n",
      " 0.33333333 0.25       0.25       0.5        0.33333333 0.5\n",
      " 0.33333333 0.5        0.2        0.2        0.5        0.25\n",
      " 0.5        0.5        0.5        0.25       0.5        0.16666667\n",
      " 0.16666667 0.25       0.33333333 0.33333333 0.16666667 0.14285714\n",
      " 0.5        0.2        0.25       0.33333333 0.25       0.5\n",
      " 0.33333333 0.125      0.25       0.25       0.16666667 1.\n",
      " 0.16666667 0.16666667 0.5        0.25       0.2        0.5\n",
      " 0.5        0.5        0.33333333 0.125      0.25       0.33333333\n",
      " 0.33333333 0.5        0.25       0.5        0.2        0.33333333\n",
      " 0.2        0.16666667 0.2        0.125      0.5        1.\n",
      " 0.5        0.2        0.2        0.5        0.5        0.2\n",
      " 0.33333333 0.5        0.2        1.         0.2        0.2\n",
      " 0.5        1.         0.25       0.2        0.33333333 0.25\n",
      " 1.         0.2        0.5        0.25       0.5        0.16666667\n",
      " 0.2        0.16666667 1.         0.33333333 1.         0.25\n",
      " 0.25       0.2        0.5        1.         0.5        0.14285714\n",
      " 0.33333333 0.2        0.16666667 0.5        0.25       0.25\n",
      " 0.5        0.2        0.5        0.33333333 0.5        0.33333333\n",
      " 0.125      0.2        1.         0.25       0.5        0.25\n",
      " 1.         0.25       0.33333333 0.2        0.16666667 0.5\n",
      " 0.33333333 0.25       0.33333333 0.5        0.33333333 0.33333333\n",
      " 0.2        0.25       0.5        1.         0.25       0.25\n",
      " 0.33333333 1.         0.2        0.25       0.25       0.25\n",
      " 0.25       0.25       0.33333333 0.33333333 0.2        0.25\n",
      " 0.2        0.33333333 0.2        0.33333333 0.33333333 0.5\n",
      " 0.2        0.5        0.33333333 0.33333333 0.2        0.5\n",
      " 0.33333333 1.         0.16666667 0.5        0.2        0.25\n",
      " 1.         0.25       0.5        0.5        0.25       0.33333333\n",
      " 0.5        0.16666667 0.5        0.25       0.2        0.2\n",
      " 0.33333333 0.33333333 0.14285714 0.5        0.5        1.\n",
      " 0.33333333 0.16666667 0.33333333 0.33333333 0.25       0.33333333\n",
      " 1.         0.33333333 0.5        0.25       0.25       0.25\n",
      " 0.25       0.33333333 0.5        0.5        0.5        0.33333333\n",
      " 0.5        0.2        0.5        0.25       0.33333333 0.5\n",
      " 0.33333333 0.33333333 0.25       0.5        0.33333333 0.33333333\n",
      " 0.33333333 0.5        0.5        1.         0.2        0.5\n",
      " 0.25       0.33333333 0.25       0.5        0.5        0.25\n",
      " 0.33333333 0.16666667 0.5        0.16666667 0.2        0.5\n",
      " 0.5        0.33333333 0.25       0.25       0.5        0.25\n",
      " 0.25       0.33333333 0.2        0.33333333 0.33333333 0.33333333\n",
      " 0.16666667 0.33333333 0.5        0.16666667 0.33333333 0.25\n",
      " 0.25       0.33333333 0.33333333 0.16666667 0.25       0.5\n",
      " 0.25       0.33333333 0.33333333 0.25       0.16666667 0.2\n",
      " 0.2        0.25       0.2        0.25       0.5        0.33333333\n",
      " 1.         0.14285714 0.25       0.25       0.125      0.25\n",
      " 1.         0.5        1.         0.33333333 0.5        0.2\n",
      " 0.25       0.5        0.16666667 0.5        0.2        0.33333333\n",
      " 0.2        0.25       0.33333333 0.25       1.         0.33333333\n",
      " 0.5        0.25       0.33333333 0.2        0.5        0.16666667\n",
      " 1.         0.5        0.25       0.5        0.33333333 0.2\n",
      " 0.33333333 0.33333333 0.5        0.25       0.14285714 0.33333333\n",
      " 0.2        1.         0.5        0.5        0.14285714 0.33333333\n",
      " 0.5        1.         1.         1.         0.33333333 0.5\n",
      " 0.25       0.25       0.14285714 0.2        0.33333333 0.5\n",
      " 0.5        0.33333333 0.33333333 0.2        0.5        0.16666667\n",
      " 0.33333333 0.16666667 0.14285714 0.16666667 0.33333333 0.5\n",
      " 1.         0.25       0.2        0.2        0.5        0.25\n",
      " 0.25       0.2        0.14285714 0.33333333 0.16666667 0.25\n",
      " 1.         0.25       0.5        1.         0.25       0.5\n",
      " 0.33333333 1.         0.2        0.25       0.33333333 0.5\n",
      " 0.25       0.33333333 0.33333333 0.25       0.5        0.2\n",
      " 0.25       1.         0.1        0.5       ]\n"
     ]
    }
   ],
   "source": [
    "hamming_cutoff = 0.2 # This is x in the equation above\n",
    "def compute_weight(index, x=hamming_cutoff, arr=s0_letter):\n",
    "    hamming_distances = np.sum(arr[index, :] != arr, axis=1)\n",
    "    count = np.sum(hamming_distances <= x * arr.shape[1]) # L = arr.shape[1]\n",
    "    return (1.0 / count)\n",
    "\n",
    "\n",
    "weights = np.zeros(M, dtype=np.float64)\n",
    "\n",
    "for i in range(M):\n",
    "    weights[i] = compute_weight(i,hamming_cutoff,s0_letter)\n",
    "    \n",
    "print(\"Hamming Weights: \",weights)\n"
   ]
  },
  {
   "cell_type": "code",
   "execution_count": 7,
   "metadata": {},
   "outputs": [
    {
     "name": "stdout",
     "output_type": "stream",
     "text": [
      "376\n"
     ]
    }
   ],
   "source": [
    "# number of effective sequences # Was 376\n",
    "M_eff = sum(weights) # Eqn 28 in 2013Cocco \n",
    "print(int(round(M_eff)))"
   ]
  },
  {
   "cell_type": "code",
   "execution_count": 8,
   "metadata": {},
   "outputs": [],
   "source": [
    "# q is the alphabet\n",
    "q = len(AMINO_ACIDS)\n",
    "q = 21\n",
    "pseudo_count = round(M_eff)"
   ]
  },
  {
   "cell_type": "markdown",
   "metadata": {},
   "source": [
    "### Compute Weighted Single and Double site marginals <a id=\"marginals\"></a>\n",
    "\n",
    "We first compute the weighted counts for the single site marginals $$\\sum_{m=1}^M w_m \\delta_{a, a_i^m},$$ and then we compute the weighted counts for the double site marginals $$\\sum_{m=1}^M w_m \\delta_{a, a_i^m} \\delta_{b, a_j^m}.$$ The second computation takes a long time since the arrays are too large to compute outer products and broadcast them. \n",
    "\n",
    "To get the actual marignals we need to divide these weighted counts above by the sum of the weights. However, we only do this after adding a pseudocount to regularize the resulting covariance matrix. (Eqns 29 and 30 in 2013Cocco.)\n"
   ]
  },
  {
   "cell_type": "code",
   "execution_count": 9,
   "metadata": {},
   "outputs": [
    {
     "name": "stdout",
     "output_type": "stream",
     "text": [
      "arr_onehot.shape = (1000, 8, 21)\n",
      "f_i_a.shape = (8, 21)\n"
     ]
    }
   ],
   "source": [
    "\n",
    "# We first compute a one-hot matrix of shape (M, L, q)\n",
    "# which is 0/1 in index (m, i, a) depending on whether \n",
    "# Protein *m* has amino acid *a* in position *i* \n",
    "\n",
    "#onehot_encoder = OneHotEncoder(sparse=False,categories='auto')\n",
    "# s is OneHot encoder format, s0 is original sequnce matrix\n",
    "#s = onehot_encoder.fit_transform(s0)\n",
    "#print(\"Amino Acid sequence Matrix\\n\",s0)\n",
    "#print(\"OneHot sequence Matrix\\n\",s)\n",
    "#print(\"An individual element of the OneHot sequence Matrix (size:\",\n",
    "#      s.shape,\") --> \",s[0], \" has length \",s[0].shape)\n",
    "\n",
    "    # Old code\n",
    "arr_onehot = np.zeros(s0_letter.shape + (q,), dtype=np.uint8)\n",
    "for i, a in enumerate(AMINO_ACIDS):\n",
    "    arr_onehot[..., i] = (s0_letter == a)\n",
    "print(\"arr_onehot.shape = {}\".format(arr_onehot.shape))\n",
    "\n",
    "#Multiply Sequences by their corresponding weights Cocco Eq \n",
    "arr_onehot_reorder = np.moveaxis(arr_onehot, 0, 2)\n",
    "weighted_arr_onehot = arr_onehot_reorder * weights\n",
    "\n",
    "\n",
    "# Set up the weighted double site marginals array\n",
    "f_i_j_a_b = np.zeros((L, q, L, q), dtype=weights.dtype)\n",
    "\n",
    "# we cannot use outer products here because our arrays are too big\n",
    "# So we iterate\n",
    "for j, b in itertools.product(range(L), range(q)):\n",
    "    f_i_j_a_b[:, :, j, b] = np.sum((weighted_arr_onehot * arr_onehot_reorder[j, b, :]), axis=-1)\n",
    "\n",
    "# Weighted Single Site Marignals\n",
    "f_i_a = np.sum((arr_onehot_reorder * weights), axis=-1)\n",
    "print(\"f_i_a.shape = {}\".format(f_i_a.shape)) \n",
    "\n",
    "\n",
    "# delete large temporary arrays\n",
    "del weighted_arr_onehot, arr_onehot_reorder, arr_onehot"
   ]
  },
  {
   "cell_type": "code",
   "execution_count": 10,
   "metadata": {},
   "outputs": [],
   "source": [
    "# Add Pseudo count and compute the marginals (Eqn 29 and 30 2013Cocco)\n",
    "pseudo_count_ratio = float(pseudo_count) / (M_eff + pseudo_count)\n",
    "f_i_a = (pseudo_count_ratio / q ) + (1 - pseudo_count_ratio) * f_i_a / M_eff\n",
    "f_i_j_a_b = (pseudo_count_ratio  / (q*q) ) + (1 - pseudo_count_ratio) * f_i_j_a_b / M_eff\n",
    "\n",
    "\n",
    "# The formula for f_i_j_a_b is a little different when i==j\n",
    "# essentially we have f_i_a on the diagonal and zero's everywhere else. \n",
    "site_identity_mask = np.identity(q, dtype=bool)\n",
    "for i in range(L):\n",
    "    f_i_j_a_b[i, :, i, :] = np.diag(f_i_a[i, :])"
   ]
  },
  {
   "cell_type": "markdown",
   "metadata": {},
   "source": [
    "### Compute the covariance matrix <a id=\"covmat\"></a>\n",
    "\n"
   ]
  },
  {
   "cell_type": "code",
   "execution_count": 11,
   "metadata": {},
   "outputs": [
    {
     "name": "stdout",
     "output_type": "stream",
     "text": [
      "C_i_j_a_b.shape = (8, 20, 8, 20)\n"
     ]
    }
   ],
   "source": [
    "# Covariance Matrix\n",
    "# We take an outer product of f_i_a with itself using numpy's broadcasting rules. \n",
    "# This gives us a matrix where the (i,a, j, b) index is f[i,a] * f[j,b]\n",
    "C_i_j_a_b = f_i_j_a_b  - f_i_a[:, :, np.newaxis, np.newaxis] * f_i_a[np.newaxis, np.newaxis, :, :] \n",
    "\n",
    "# we project the covariance matrix down the first q-1 elements\n",
    "# Since the frequencies add up to 1 we can discard amino-acid value (a = q) for each site\n",
    "# without losing any information\n",
    "C_i_j_a_b = C_i_j_a_b[:, :(q-1), :, :(q-1)]\n",
    "print(\"C_i_j_a_b.shape = {}\".format(C_i_j_a_b.shape)) \n",
    "\n",
    "# delete the frequency matrices now that we have a covariance matrix.\n",
    "del f_i_a, f_i_j_a_b"
   ]
  },
  {
   "cell_type": "markdown",
   "metadata": {},
   "source": [
    "### Maximum Entropy Modeling and Direct Coupling Analysis<a id=\"maxent\"></a>\n",
    "\n",
    "It is hard to infer contact information from this covariance matrix as a non-zero covariance between two sites does not imply that they directly interact or are in contact. If we have site $i$ interacting  with $j$ and site $j$ interacting with $k$, then $i$ and $k$ will show correlations even though they do not directly interact. \n",
    "\n",
    "So we decide to look for a (protein family specific) probability model $\\bf P$ on the level of sequences that satisfies three conditions. \n",
    "1. The single site marginals of $\\bf P$ are equal to $f_i(a)$.   \n",
    "In other words, the sum of probabilities of all proteins with a in the $i$-th position is equal to the value of $f_i(a)$.\n",
    "2. The double site marginals of $\\bf P$ are equal to $f_{ij}(a,b)$.  \n",
    "In other words, the sum of probabilities of all proteins with $a$ in the $i$-th position and $b$ in the $j$-th position is equal to $f_{ij}(a,b)$.\n",
    "3. $\\bf P$ has the **maximum possible entropy** so we maximize\n",
    "$$ H[{\\bf P}] = - \\sum_{\\text{all sequences of length L}} P \\log P$$\n",
    "\n",
    "Condition 1 gives us $Lq$ constraints and Condition 2 gives us $\\frac{L(L-1)}{2} q^2$ additional constraints. This allows us to do a gigantic constrained optimization using Lagrange Multipliers and come up with an analytic form for $\\bf P$.\n",
    "$$ P(a_1, \\ldots, a_L) = \\frac{1}{Z} \\exp{ \\bigg\\{ \\frac{1}{2} \\sum_{i,j} e_{ij}(a_i, a_j) + \\sum_{i} h_i(a_i) \\bigg\\} }$$\n",
    "\n",
    "Here $Z$ is a normalization constant that makes sure that all the probabilities add up to $1$. The parameters $e_{ij}(a,b)$ are the direct couplings and $h_i(a)$ are the local fields acting on single sites. These values have to be determined so that Conditions 1 and 2 are satisfied. \n",
    "\n",
    "It is not possible to compute these parameters exactly for reasonably sized proteins as calculating $Z$ and the marginals require summations over all $q^L$ possible amino-acid sequences. \n",
    "\n",
    "\n",
    "We can also view the Maximum Entropy model via its dual Maximum Likelihood problem. i.e. Assume that $P$ has the form above and maximize $$\\mathcal{L} \\big[ \\{e_{ij}(a,b), h_i(a) \\} \\big\\lvert \\text{MSA} \\big] = \\frac{1}{M} \\sum_{m=1}^{M} \\log P(a_1^M, \\ldots, a_L^m)$$ \n",
    "\n"
   ]
  },
  {
   "cell_type": "markdown",
   "metadata": {},
   "source": [
    "### Approximations to DCA <a id=\"dcaapprox\"></a>\n",
    "There are [several approximations](https://en.wikipedia.org/wiki/Direct_coupling_analysis) to estimate the parameters above\n",
    "\n",
    "* Boltzmann Machine Learning (BM)\n",
    "* Message passing / belief propagation (mpDCA)\n",
    "* Mean Field Approximation (mfDCA)\n",
    "* Gaussian Approximation (gaussDCA)\n",
    "* Pseudolikelihoods Maximization (PLM)\n",
    "* Adaptive Cluster Expansion (ACE)"
   ]
  },
  {
   "cell_type": "markdown",
   "metadata": {},
   "source": [
    "### Mean Field Approximation <a id=\"meanfield\"></a>\n",
    "This is an approximation in statistical physics to help solve this intractable problem. We expand the exponential of the sum of the direct couplings using a Taylor Series expansion and then only keep the linear terms. With this approximation the values for the direct couplings are $$e_{ij}(a,b) = (C^{-1})_{ij}(a,b) \\qquad \\forall i,j, \\enspace \\forall a,b=1, \\ldots, q-1$$ and $$e_{ij}(a,q) = e_{ij}(q,a) = 0 \\qquad \\forall a = 1, \\ldots, q,$$ and $$ h_i(q) = 0.$$\n",
    "\n",
    "This approximation approach is known as **mean field direct coupling analysis (mfDCA)**. Once the direct couplings have been calculated, they can be used to predict contacts between residues. This post processing prediction step will be covered later. "
   ]
  },
  {
   "cell_type": "code",
   "execution_count": 12,
   "metadata": {},
   "outputs": [
    {
     "name": "stdout",
     "output_type": "stream",
     "text": [
      "Number of eigenvalues: 160\n",
      "Number of eigenvalues non-positive: 0\n"
     ]
    }
   ],
   "source": [
    "# Our Covariance matrix is now invertible\n",
    "cov = C_i_j_a_b.reshape((L*(q-1), L*(q-1)))\n",
    "eigvals = np.linalg.eigvalsh(cov)\n",
    "\n",
    "print(\"Number of eigenvalues: {}\".format(eigvals.size))\n",
    "print(\"Number of eigenvalues non-positive: {}\".format(np.sum(eigvals <= 0)))"
   ]
  },
  {
   "cell_type": "markdown",
   "metadata": {},
   "source": [
    "### PSICOV - Sparse inverse covariance estimation <a id=\"2011PSICOV\"></a>\n",
    "\n",
    "The 2011 paper *PSICOV - precise structural contact prediction using sparse inverse covariance estimation* (**2011PSICOV**) deals with extracting information directly by inverting the unprojected covariance matrix $C_{ij}(a, b)$. \n",
    "\n",
    "This inversion gives a matrix $\\Theta$ of partial correlations (i.e correlation between two sites controlling for the effect of all other sites). The covariance matrix is singular and so **2011PSICOV** regularizes the matrix in addition to asking for sparse solutions for the inverse via LASSO. \n",
    "\n",
    "This matrix $\\Theta$ is used to predict contacts in the following way. The L1 norm of the submatrix of $\\Theta$ which consists of 20x20 amino acids (the gap is ignored)  at i and j is calculated. \n",
    "$$S_{ij}^{\\text{contact}} = \\sum_{ab} |\\Theta_{ij}(a,b)|.$$\n",
    "\n",
    "This score is then corrected for averages across sites called an *Average Product correction* (APC) to give a final PSICOV score for pairs of sites $i$ and $j$. $$PC_{ij} = S_{ij}^{\\text{contact}} - \\frac{\\bar{S}_{i-}^{\\text{contact}} \\bar{S}_{-j}^{\\text{contact}}}{\\bar{S}_{--}^{\\text{contact}}}$$\n",
    "\n",
    "Also, this somewhat coincides with the mean field approximation under DCA. \n"
   ]
  },
  {
   "cell_type": "markdown",
   "metadata": {},
   "source": [
    "### Correlation Matrix and connection to PCA <a id=\"pcaconnect\"></a>\n",
    "\n",
    "We construct the Pearson Correlation Matrix $\\Gamma$ through the relationship $$\\Gamma_{ij}(a,b) = \\sum_{c,d = 1}^{q-1} (D_i)^{-1} (a, c) C_{ij}(c,d) (D_j)^{-1}(d,b),$$ where the matrices $D_i$ are the square roots of the single-site correlation matrices, i.e. $$C_{ii}(a, b) = \\sum_{c=1}^{q-1} D_i(a,c)D_i(c, b).$$\n",
    "\n",
    "$\\Gamma$ is normalized and on each site is a $(q-1) \\times (q-1)$ identity matrix. $$\\Gamma_{ij}(a,b) = \\delta_{ab}.$$\n",
    "\n",
    "#### Eigenvalues and Eigenvectors <a id=\"eigen\"></a>\n",
    "Once we have the correlation matrix we can find the eigenvalues and the eigenvectors. $\\mu = 1, \\ldots, L(q-1)$\n",
    "\n",
    "$$\\sum_{j=1}^L \\sum_{b=1}^{q-1} \\Gamma_{ij}(a,b) v^{\\mu}_{jb} = \\lambda_{\\mu} v^{\\mu}_{ia},$$ where the eigenvalues are ordered in decreasing order and the eigenvectors are chosen to form an ortho-normal basis. Also, only the top eigenvalues are chosen and all other eigenvalues are discarded. "
   ]
  },
  {
   "cell_type": "code",
   "execution_count": 13,
   "metadata": {},
   "outputs": [],
   "source": [
    "C_ii = np.zeros_like(C_i_j_a_b)\n",
    "for i in range(L):\n",
    "    C_ii[i, :, i, :] = C_i_j_a_b[i, :, i, :]\n",
    "C_ii_mat = C_ii.reshape(L*(q-1), L*(q-1))"
   ]
  },
  {
   "cell_type": "code",
   "execution_count": 14,
   "metadata": {},
   "outputs": [],
   "source": [
    "w, v = np.linalg.eigh(C_ii_mat)\n",
    "D_ii = (v * np.sqrt(w)).dot(v.conj().T)"
   ]
  },
  {
   "cell_type": "code",
   "execution_count": 15,
   "metadata": {},
   "outputs": [],
   "source": [
    "D_ii_inv = np.linalg.inv(D_ii)\n",
    "Gij = D_ii_inv @ cov @ D_ii_inv"
   ]
  },
  {
   "cell_type": "markdown",
   "metadata": {},
   "source": [
    "#### Other places PCA has been used <a id=\"otherpca\"></a>\n",
    "PCA has been used on MSA data to identity functional sites as well as sectors (culsters of evolutionarily correlated sites). \n",
    "\n",
    "**Specificity-determing positions** PCA was used by Casari et al. to identity functional sites specific to subfamilies. Here, PCA was used on a Comparison matrix $C(m, m')$ which counts the number of identical resides between each pair of sequences $(m, m'=1, \\ldots, M)$. This is a very different matrix from $\\Gamma$.\n",
    "\n",
    "**Statistical Coupling Analysis** This approach was used by Ranganathan et al. Here, a modified residue covariance matrix is defined : $$\\tilde{C}^{SCA}_{ij}(a,b) = w_i^a C_{ij}(a,b) w_j^b,$$ where the weights $w_i^a$ favor positions $i$ and resides $a$ of high conservation. Then an effective covariance matrix is defined between positions only $$\\tilde{C}^{SCA}_{ij} = \\sqrt{\\sum_{a,b} \\tilde{C}^{SCA}(a,b)^2}.$$\n",
    "\n",
    "Principal component analysis is then applied to the $L$-dimensional $\\tilde{C}^{SCA}$ matrix and used to define sectors (i.e. clusters of evolutionaily correlated sites)"
   ]
  },
  {
   "cell_type": "markdown",
   "metadata": {},
   "source": [
    "### Results in this paper <a id=\"2013CoccoResults\"></a>\n",
    "\n",
    "The coupling matrix $e_{ij}(a,b)$ has dimension $L(q-1) \\times L(q-1)$ and the paper wants to find low rank versions of this coupling matrix which offers a way to reduce the number of parameters much below that of the mean field approximation. Also the solutions that they get are connected to the eigenvalues and eigenvectors of the correlation matrix $\\Gamma$. This establishes a connection between DCA and PCA. The connection is a little counter-intuitive because the low eigenvalues of $\\Gamma$ are actually important for determining the the low rank coupling matrix. \n",
    "\n",
    "At first glance, it does not look like this connection has much to do with SCA or finding sectors."
   ]
  },
  {
   "cell_type": "code",
   "execution_count": 16,
   "metadata": {},
   "outputs": [
    {
     "name": "stdout",
     "output_type": "stream",
     "text": [
      "Evals shape (160,)\n",
      "Evals mean : 1.00\n",
      "Evals max : 3.74\n",
      "Evals min : 0.09\n"
     ]
    }
   ],
   "source": [
    "evals, evecs = np.linalg.eigh(Gij)\n",
    "print(\"Evals shape {}\".format(evals.shape))\n",
    "print(\"Evals mean : {0:.2f}\".format(evals.mean()))\n",
    "print(\"Evals max : {0:.2f}\".format(evals.max()))\n",
    "print(\"Evals min : {0:.2f}\".format(evals.min()))"
   ]
  },
  {
   "cell_type": "code",
   "execution_count": 17,
   "metadata": {
    "scrolled": true
   },
   "outputs": [
    {
     "data": {
      "image/png": "[encoded data removed]",
      "text/plain": [
       "<Figure size 1080x216 with 1 Axes>"
      ]
     },
     "metadata": {
      "needs_background": "light"
     },
     "output_type": "display_data"
    }
   ],
   "source": [
    "plt.figure(figsize=(15, 3))\n",
    "plt.yscale('log')\n",
    "plt.xscale('log')\n",
    "plt.ylabel(\"frequency\")\n",
    "plt.xlabel(\"Eigenvalues ($\\lambda$)\")\n",
    "_, bins = np.histogram(np.log10(evals), bins=50)\n",
    "_ = plt.hist(evals, bins=10**bins)"
   ]
  },
  {
   "cell_type": "markdown",
   "metadata": {},
   "source": [
    "### Hopfield-Potts model <a id=\"HopfieldPotts\"></a>\n",
    "\n",
    "This model is a dimension reduction of the Maximum Entropy model. We  call a *pattern* an $L\\times q$ matrix $\\boldsymbol\\xi = \\{ \\xi_i(a) \\}$ where $i = 1, \\ldots, L$ being the site indices and $a=1, \\ldots, q$ being the amino acids. It is sometimes helpful to think of the pattern as rolled out as a long vector in the same way the double index covariance matrix is converted to a single index covariance matrix. As we will see later, these patterns look very similar to eigenvectors. \n",
    "\n",
    "For each pattern we can define a *log-score* of a sequence $(a_1, \\ldots, a_L)$ as $$S(a_1, \\ldots, a_L | \\boldsymbol\\xi) = \\bigg[ \\sum_{i=1}^L \\xi_i(a_i) \\bigg]^2.$$\n",
    "\n",
    "Although $S$ has no log in its definition, it is probably called a *log-score* because it is in the exponential part of the probabilty model. We re-write the probability of an amino-acid sequence $(a_1, \\ldots, a_L)$ in terms of the log score of the patterns as  $$P(a_1, \\ldots, a_L) = \\frac{1}{Z} \\exp \\bigg\\{ \\frac{1}{2L} \\sum_{\\mu=1}^{p_+} S(a_1, \\ldots, a_L | \\xi^{+,\\mu}) - \\frac{1}{2L} \\sum_{\\nu=1}^{p_-} S(a_1, \\ldots, a_L | \\xi^{-,\\nu}) + \\sum_{i=1}^L h_i(a_i)  \\bigg\\}$$\n",
    "\n",
    "This form for the probability distribution corresponds to the following choice of couplings \n",
    "$$e_{ij}(a,b) = \\frac{1}{L} \\sum_{\\mu = 1}^{p_+} \\xi_i^{+,\\mu}(a)\\xi_j^{+,\\mu}(b) - \\frac{1}{L} \\sum_{\\mu = 1}^{p_-} \\xi_i^{-,\\nu}(a)\\xi_j^{-,\\nu}(b) $$\n",
    "\n",
    "This form of the coupling matrix has rank $p = p_{+} + p_{-}$ and if we choose $p = L(q-1)$ then the coupling matrix has full rank. However, we want to reduce the dimension of the coupling matrix and so we choose $p$ well below that. \n",
    "\n",
    "The patterns are determined by Maximum Likelihood inference using Statistical Physics methods but they have an easy to understand relationship with the eigenvalues and eigenvectors of the correlation matrix $\\Gamma$. Basically the attractive patterns correspond to the $p_+$ largest eigenvalues $(\\lambda_1 \\geq \\lambda_2 \\geq \\ldots \\geq \\lambda_{p_+} \\geq 1)$ and the repulsive patterns correspond to the $p_-$ smallest eigenvalues $(\\lambda_{L(q-1)} \\leq \\lambda_{L(q-1) - 1} \\leq \\ldots \\leq \\lambda_{L(q-1) + 1 - p} \\leq 1)$. If we pick a pattern $\\xi$ and its corresponding eigenvalue $\\lambda$ and eigenvector $\\nu$. Then we have $$\\xi_i(a) = \\mid 1 - 1/\\lambda \\mid^{1/2} \\tilde{\\nu}_{ia}$$ where $$\\tilde{\\nu}_{ia} = \\sum_{b=1}^{q-1} (D_i)^{-1}(a,b) \\nu_{jb}$$\n",
    "\n",
    "We can see that the prefactor $\\mid 1 - 1/\\lambda \\mid^{1/2}$ vanishes for $\\lambda = 1$ which is the mean of the eigenvalues. \n",
    "\n",
    "Also, from the ML inference we get the contribution of a pattern $\\xi$ to the model's log likelihood is a function of its associated eigenvalue $\\lambda$ only, $$\\Delta \\mathcal{L}(\\lambda) = \\frac{1}{2}(\\lambda -1 - \\log\\lambda).$$"
   ]
  },
  {
   "cell_type": "code",
   "execution_count": 18,
   "metadata": {},
   "outputs": [],
   "source": [
    "def get_pattern(idx):\n",
    "    prefactor = np.sqrt(np.abs(1 - 1. / evals[idx]))\n",
    "    pattern = prefactor * (D_ii_inv @ evecs[:, idx])\n",
    "    return (pattern)\n",
    "\n",
    "def expand_pattern_into_three_lines(pattern):\n",
    "    \"\"\" Pattern is a 1-D numpy array of size N\"\"\"\n",
    "    # x is just [0,0,0, 1,1,1, 2,2,2 ... N,N,N ]\n",
    "    x = np.repeat(np.arange(pattern.shape[0]), 3)\n",
    "\n",
    "    # for y we are going to interleave [0, p[0], 0, 0, p[1], 0, .... 0, p[N-1], 0]\n",
    "    expand_pattern = np.column_stack((np.zeros_like(pattern), pattern, np.zeros_like(pattern)))\n",
    "    y = expand_pattern.flatten()\n",
    "\n",
    "    # now x and y are such that it will plot vertical lines from 0 to p for each index\n",
    "    # the lines go from the x-axis to the pattern and then back to the x-axis\n",
    "    return (x, y)\n",
    "\n",
    "def plot_pattern(idx, ax, signif_label_digits=2):\n",
    "    pattern = get_pattern(idx)\n",
    "    px, py = expand_pattern_into_three_lines(pattern)\n",
    "    ax.plot(px/(q-1), py, marker='o', markevery=(1, 3), markersize=2, linewidth=0.3, \n",
    "         label=(\"index={0:}, $\\lambda$= {1:.\" + str(signif_label_digits) + \"f}\").format(idx, evals[idx]))\n",
    "    ax.set_xlabel(\"$i + a/(q-1)$\")\n",
    "    ax.set_ylabel(\"$\\\\xi$\")\n",
    "    ax.legend()\n",
    "    ax.grid(True, axis='x', linestyle='--', alpha=0.4)"
   ]
  },
  {
   "cell_type": "code",
   "execution_count": 19,
   "metadata": {},
   "outputs": [
    {
     "data": {
      "image/png": "[encoded data removed]",
      "text/plain": [
       "<Figure size 1080x648 with 4 Axes>"
      ]
     },
     "metadata": {
      "needs_background": "light"
     },
     "output_type": "display_data"
    }
   ],
   "source": [
    "# Repulsive patterns\n",
    "# plot pattern corresponding to the smallest eigenvalues\n",
    "fig, (ax0, ax1, ax2, ax3) = plt.subplots(4, 1, sharex=True, figsize=(15, 9))\n",
    "plot_pattern(0, ax0, signif_label_digits=4)\n",
    "plot_pattern(1, ax1, signif_label_digits=4)\n",
    "plot_pattern(5, ax2, signif_label_digits=4)\n",
    "plot_pattern(10, ax3, signif_label_digits=4)"
   ]
  },
  {
   "cell_type": "code",
   "execution_count": 20,
   "metadata": {},
   "outputs": [
    {
     "data": {
      "image/png": "[encoded data removed]",
      "text/plain": [
       "<Figure size 1080x648 with 3 Axes>"
      ]
     },
     "metadata": {
      "needs_background": "light"
     },
     "output_type": "display_data"
    }
   ],
   "source": [
    "# Attractive patterns\n",
    "# plot pattern corresponding to the largest eigenvalue\n",
    "fig, (ax0, ax1, ax2) = plt.subplots(3, 1, sharex=True, figsize=(15, 9))\n",
    "plot_pattern(-1, ax0, signif_label_digits=2)\n",
    "plot_pattern(-2, ax1, signif_label_digits=2)\n",
    "plot_pattern(-3, ax2, signif_label_digits=2)"
   ]
  }
 ],
 "metadata": {
  "kernelspec": {
   "display_name": "Python 3",
   "language": "python",
   "name": "python3"
  },
  "language_info": {
   "codemirror_mode": {
    "name": "ipython",
    "version": 3
   },
   "file_extension": ".py",
   "mimetype": "text/x-python",
   "name": "python",
   "nbconvert_exporter": "python",
   "pygments_lexer": "ipython3",
   "version": "3.7.4"
  },
  "widgets": {
   "state": {},
   "version": "1.1.2"
  }
 },
 "nbformat": 4,
 "nbformat_minor": 2
}
