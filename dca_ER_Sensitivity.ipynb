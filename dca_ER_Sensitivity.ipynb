{
 "cells": [
  {
   "cell_type": "code",
   "execution_count": 1,
   "metadata": {},
   "outputs": [
    {
     "data": {
      "text/html": [
       "\n",
       "        <script>\n",
       "            function code_toggle_6657252074431109920() {\n",
       "                $('div.cell.code_cell.rendered.selected').find('div.input').toggle();\n",
       "            }\n",
       "\n",
       "            \n",
       "        </script>\n",
       "\n",
       "        <a href=\"javascript:code_toggle_6657252074431109920()\">Toggle show/hide</a>\n",
       "    "
      ],
      "text/plain": [
       "<IPython.core.display.HTML object>"
      ]
     },
     "execution_count": 1,
     "metadata": {},
     "output_type": "execute_result"
    }
   ],
   "source": [
    "import ecc_tools as tools\n",
    "import numpy as np\n",
    "import pandas as pd\n",
    "from scipy import linalg\n",
    "from sklearn.preprocessing import OneHotEncoder\n",
    "#import emachine as EM\n",
    "from direct_info import direct_info\n",
    "\n",
    "from data_processing import data_processing\n",
    "import Bio.PDB, warnings\n",
    "pdb_list = Bio.PDB.PDBList()\n",
    "pdb_parser = Bio.PDB.PDBParser()\n",
    "from scipy.spatial import distance_matrix\n",
    "from Bio import BiopythonWarning\n",
    "warnings.simplefilter('ignore', BiopythonWarning)\n",
    "\n",
    "from scipy.sparse import csr_matrix\n",
    "from joblib import Parallel, delayed\n",
    "import timeit\n",
    "\n",
    "import matplotlib.pyplot as plt\n",
    "%matplotlib inline\n",
    "\n",
    "import sys\n",
    "import numpy as np\n",
    "from scipy import linalg\n",
    "from sklearn.preprocessing import OneHotEncoder\n",
    "import expectation_reflection as ER\n",
    "from direct_info import direct_info\n",
    "from joblib import Parallel, delayed\n",
    "\n",
    "tools.hide_toggle()"
   ]
  },
  {
   "cell_type": "markdown",
   "metadata": {},
   "source": [
    "# Compare DCA and ER Sensitivity\n",
    "* ER does better than traditional methods with small sample size\n",
    "* Want to analyse a Protein family with large number of sequences to test sensitivity\n",
    "    * DCA paper uses PF00071 and PF04542"
   ]
  },
  {
   "cell_type": "markdown",
   "metadata": {},
   "source": [
    "## PF04542"
   ]
  },
  {
   "cell_type": "markdown",
   "metadata": {},
   "source": [
    "#### Read In Protein Structure"
   ]
  },
  {
   "cell_type": "code",
   "execution_count": 2,
   "metadata": {},
   "outputs": [
    {
     "name": "stdout",
     "output_type": "stream",
     "text": [
      "number of pdb structures: 163\n",
      "[['PF04542' '893' 'RPOE_ECOLI' ... 'A' '25' '92']\n",
      " ['PF04542' '13722' 'RPOE_RHOS4' ... 'C' '29' '97']\n",
      " ['PF04542' '13722' 'RPOE_RHOS4' ... 'G' '29' '97']\n",
      " ...\n",
      " ['PF04542' '100994' 'O67268_AQUAE' ... 'A' '14' '86']\n",
      " ['PF04542' '100994' 'O67268_AQUAE' ... 'A' '14' '86']\n",
      " ['PF04542' '100994' 'O67268_AQUAE' ... 'G' '14' '86']]\n",
      "['PF04542' '893' 'RPOE_ECOLI' '25' '92' '1OR7' 'A' '25' '92']\n"
     ]
    },
    {
     "data": {
      "text/html": [
       "\n",
       "        <script>\n",
       "            function code_toggle_12115739030424681418() {\n",
       "                $('div.cell.code_cell.rendered.selected').find('div.input').toggle();\n",
       "            }\n",
       "\n",
       "            \n",
       "        </script>\n",
       "\n",
       "        <a href=\"javascript:code_toggle_12115739030424681418()\">Toggle show/hide</a>\n",
       "    "
      ],
      "text/plain": [
       "<IPython.core.display.HTML object>"
      ]
     },
     "execution_count": 2,
     "metadata": {},
     "output_type": "execute_result"
    }
   ],
   "source": [
    "# Read in Protein structure\n",
    "data_path = '../protein/Pfam-A.full'\n",
    "pfam_id = 'PF00186'\n",
    "pfam_id = 'PF04542'\n",
    "pdb = np.load('%s/%s/pdb_refs.npy'%(data_path,pfam_id))\n",
    "\n",
    "# Pre-Process Structure Data\n",
    "# delete 'b' in front of letters (python 2 --> python 3)\n",
    "pdb = np.array([pdb[t,i].decode('UTF-8') for t in range(pdb.shape[0]) \\\n",
    "         for i in range(pdb.shape[1])]).reshape(pdb.shape[0],pdb.shape[1])\n",
    "\n",
    "# Print number of pdb structures in Protein ID folder\n",
    "npdb = pdb.shape[0]\n",
    "print('number of pdb structures:',npdb)\n",
    "\n",
    "# Print PDB array \n",
    "print(pdb)\n",
    "print(pdb[0])\n",
    "\n",
    "# Create pandas dataframe for protein structure\n",
    "df = pd.DataFrame(pdb,columns = ['PF','seq','id','uniprot_start','uniprot_start',\\\n",
    "                                 'pdb_id','chain','pdb_start','pdb_end'])\n",
    "df.head()\n",
    "tools.hide_toggle()"
   ]
  },
  {
   "cell_type": "markdown",
   "metadata": {},
   "source": [
    "#### Process Protein Data\n",
    "* Want to implement some changes to original code\n",
    "    * Enforce AA distance requirement &rightarrow; |i-j|>5"
   ]
  },
  {
   "cell_type": "code",
   "execution_count": 3,
   "metadata": {
    "scrolled": true
   },
   "outputs": [
    {
     "name": "stdout",
     "output_type": "stream",
     "text": [
      "seq: 893\n"
     ]
    },
    {
     "data": {
      "text/html": [
       "\n",
       "        <script>\n",
       "            function code_toggle_10447783784285927066() {\n",
       "                $('div.cell.code_cell.rendered.selected').find('div.input').toggle();\n",
       "            }\n",
       "\n",
       "            \n",
       "        </script>\n",
       "\n",
       "        <a href=\"javascript:code_toggle_10447783784285927066()\">Toggle show/hide</a>\n",
       "    "
      ],
      "text/plain": [
       "<IPython.core.display.HTML object>"
      ]
     },
     "execution_count": 3,
     "metadata": {},
     "output_type": "execute_result"
    }
   ],
   "source": [
    "ipdb = 0\n",
    "print('seq:',int(pdb[ipdb,1]))\n",
    "\n",
    "# data processing\n",
    "s0,cols_removed = data_processing(data_path,pfam_id,ipdb,\\\n",
    "                gap_seqs=0.2,gap_cols=0.2,prob_low=0.004,conserved_cols=0.9)\n",
    "\n",
    "tools.hide_toggle()"
   ]
  },
  {
   "cell_type": "code",
   "execution_count": 4,
   "metadata": {},
   "outputs": [
    {
     "name": "stdout",
     "output_type": "stream",
     "text": [
      "Number of residue positions: 63\n",
      "Number of different amino acids at each position [16 18 17 18 15 20  7 20 16 16 10 18 17 16 18 18 18 20 19 16 13  2  9 12\n",
      "  9 11  8 13 12 14 12 15 16 19 20 15 15 11 16 18 19 17 16 10 18 13  4  9\n",
      " 18 17 11  9 17 11 16 15 16 13 19 17 14 13 16]\n",
      "(Sanity Check) Column indices of first and ( [ 0 16] ) and last ( [905 921] ) positions\n",
      "(Sanity Check) Column indices of second and ( [16 34] ) and second to last ( [892 905] ) positions\n",
      "Total number of variables 921\n"
     ]
    },
    {
     "data": {
      "text/html": [
       "\n",
       "        <script>\n",
       "            function code_toggle_16992430382188372639() {\n",
       "                $('div.cell.code_cell.rendered.selected').find('div.input').toggle();\n",
       "            }\n",
       "\n",
       "            \n",
       "        </script>\n",
       "\n",
       "        <a href=\"javascript:code_toggle_16992430382188372639()\">Toggle show/hide</a>\n",
       "    "
      ],
      "text/plain": [
       "<IPython.core.display.HTML object>"
      ]
     },
     "execution_count": 4,
     "metadata": {},
     "output_type": "execute_result"
    }
   ],
   "source": [
    "# number of positions\n",
    "n_var = s0.shape[1]\n",
    "print(\"Number of residue positions:\",n_var)\n",
    "\n",
    "# number of aminoacids at each position\n",
    "mx = np.array([len(np.unique(s0[:,i])) for i in range(n_var)])\n",
    "#mx = np.array([m for i in range(n_var)])\n",
    "print(\"Number of different amino acids at each position\",mx)\n",
    "\n",
    "mx_cumsum = np.insert(mx.cumsum(),0,0)\n",
    "i1i2 = np.stack([mx_cumsum[:-1],mx_cumsum[1:]]).T \n",
    "print(\"(Sanity Check) Column indices of first and (\",i1i2[0],\") and last (\",i1i2[-1],\") positions\")\n",
    "print(\"(Sanity Check) Column indices of second and (\",i1i2[1],\") and second to last (\",i1i2[-2],\") positions\")\n",
    "\n",
    "\n",
    "# number of variables\n",
    "mx_sum = mx.sum()\n",
    "print(\"Total number of variables\",mx_sum)\n",
    "\n",
    "# number of bias term\n",
    "n_linear = mx_sum - n_var\n",
    "\n",
    "tools.hide_toggle()"
   ]
  },
  {
   "cell_type": "markdown",
   "metadata": {},
   "source": [
    "#### Generate OneHot Encoded Sequence (s0 &rightarrow; s)"
   ]
  },
  {
   "cell_type": "code",
   "execution_count": 5,
   "metadata": {},
   "outputs": [
    {
     "data": {
      "text/html": [
       "\n",
       "        <script>\n",
       "            function code_toggle_6440791282022738985() {\n",
       "                $('div.cell.code_cell.rendered.selected').find('div.input').toggle();\n",
       "            }\n",
       "\n",
       "            \n",
       "        </script>\n",
       "\n",
       "        <a href=\"javascript:code_toggle_6440791282022738985()\">Toggle show/hide</a>\n",
       "    "
      ],
      "text/plain": [
       "<IPython.core.display.HTML object>"
      ]
     },
     "execution_count": 5,
     "metadata": {},
     "output_type": "execute_result"
    }
   ],
   "source": [
    "onehot_encoder = OneHotEncoder(sparse=False,categories='auto')\n",
    "# s is OneHot encoder format, s0 is original sequnce matrix\n",
    "s = onehot_encoder.fit_transform(s0)\n",
    "#print(\"Amino Acid sequence Matrix\\n\",s0)\n",
    "#print(\"OneHot sequence Matrix\\n\",s)\n",
    "#print(\"An individual element of the OneHot sequence Matrix (size:\",\n",
    "#      s.shape,\") --> \",s[0], \" has length \",s[0].shape)\n",
    "\n",
    "tools.hide_toggle()"
   ]
  },
  {
   "cell_type": "markdown",
   "metadata": {},
   "source": [
    "#### Use Expectation Reflection to infer w, and H\n",
    "* I want to start saving these files to read in (save on computation time)"
   ]
  },
  {
   "cell_type": "code",
   "execution_count": 8,
   "metadata": {},
   "outputs": [
    {
     "ename": "KeyboardInterrupt",
     "evalue": "",
     "output_type": "error",
     "traceback": [
      "\u001b[0;31m---------------------------------------------------------------------------\u001b[0m",
      "\u001b[0;31mKeyboardInterrupt\u001b[0m                         Traceback (most recent call last)",
      "\u001b[0;32m<ipython-input-8-479c99929164>\u001b[0m in \u001b[0;36m<module>\u001b[0;34m\u001b[0m\n\u001b[1;32m     24\u001b[0m \u001b[0;31m#res = Parallel(n_jobs = 32)(delayed(predict_w)\\\u001b[0m\u001b[0;34m\u001b[0m\u001b[0;34m\u001b[0m\u001b[0;34m\u001b[0m\u001b[0m\n\u001b[1;32m     25\u001b[0m         \u001b[0;34m(\u001b[0m\u001b[0ms\u001b[0m\u001b[0;34m,\u001b[0m\u001b[0mi0\u001b[0m\u001b[0;34m,\u001b[0m\u001b[0mi1i2\u001b[0m\u001b[0;34m,\u001b[0m\u001b[0mniter_max\u001b[0m\u001b[0;34m=\u001b[0m\u001b[0;36m10\u001b[0m\u001b[0;34m,\u001b[0m\u001b[0ml2\u001b[0m\u001b[0;34m=\u001b[0m\u001b[0;36m100.0\u001b[0m\u001b[0;34m)\u001b[0m\u001b[0;31m\\\u001b[0m\u001b[0;34m\u001b[0m\u001b[0;34m\u001b[0m\u001b[0m\n\u001b[0;32m---> 26\u001b[0;31m         for i0 in range(n_var))\n\u001b[0m\u001b[1;32m     27\u001b[0m \u001b[0;34m\u001b[0m\u001b[0m\n\u001b[1;32m     28\u001b[0m \u001b[0mrun_time\u001b[0m \u001b[0;34m=\u001b[0m \u001b[0mtimeit\u001b[0m\u001b[0;34m.\u001b[0m\u001b[0mdefault_timer\u001b[0m\u001b[0;34m(\u001b[0m\u001b[0;34m)\u001b[0m \u001b[0;34m-\u001b[0m \u001b[0mstart_time\u001b[0m\u001b[0;34m\u001b[0m\u001b[0;34m\u001b[0m\u001b[0m\n",
      "\u001b[0;32m~/anaconda3/lib/python3.7/site-packages/joblib/parallel.py\u001b[0m in \u001b[0;36m__call__\u001b[0;34m(self, iterable)\u001b[0m\n\u001b[1;32m    932\u001b[0m \u001b[0;34m\u001b[0m\u001b[0m\n\u001b[1;32m    933\u001b[0m             \u001b[0;32mwith\u001b[0m \u001b[0mself\u001b[0m\u001b[0;34m.\u001b[0m\u001b[0m_backend\u001b[0m\u001b[0;34m.\u001b[0m\u001b[0mretrieval_context\u001b[0m\u001b[0;34m(\u001b[0m\u001b[0;34m)\u001b[0m\u001b[0;34m:\u001b[0m\u001b[0;34m\u001b[0m\u001b[0;34m\u001b[0m\u001b[0m\n\u001b[0;32m--> 934\u001b[0;31m                 \u001b[0mself\u001b[0m\u001b[0;34m.\u001b[0m\u001b[0mretrieve\u001b[0m\u001b[0;34m(\u001b[0m\u001b[0;34m)\u001b[0m\u001b[0;34m\u001b[0m\u001b[0;34m\u001b[0m\u001b[0m\n\u001b[0m\u001b[1;32m    935\u001b[0m             \u001b[0;31m# Make sure that we get a last message telling us we are done\u001b[0m\u001b[0;34m\u001b[0m\u001b[0;34m\u001b[0m\u001b[0;34m\u001b[0m\u001b[0m\n\u001b[1;32m    936\u001b[0m             \u001b[0melapsed_time\u001b[0m \u001b[0;34m=\u001b[0m \u001b[0mtime\u001b[0m\u001b[0;34m.\u001b[0m\u001b[0mtime\u001b[0m\u001b[0;34m(\u001b[0m\u001b[0;34m)\u001b[0m \u001b[0;34m-\u001b[0m \u001b[0mself\u001b[0m\u001b[0;34m.\u001b[0m\u001b[0m_start_time\u001b[0m\u001b[0;34m\u001b[0m\u001b[0;34m\u001b[0m\u001b[0m\n",
      "\u001b[0;32m~/anaconda3/lib/python3.7/site-packages/joblib/parallel.py\u001b[0m in \u001b[0;36mretrieve\u001b[0;34m(self)\u001b[0m\n\u001b[1;32m    831\u001b[0m             \u001b[0;32mtry\u001b[0m\u001b[0;34m:\u001b[0m\u001b[0;34m\u001b[0m\u001b[0;34m\u001b[0m\u001b[0m\n\u001b[1;32m    832\u001b[0m                 \u001b[0;32mif\u001b[0m \u001b[0mgetattr\u001b[0m\u001b[0;34m(\u001b[0m\u001b[0mself\u001b[0m\u001b[0;34m.\u001b[0m\u001b[0m_backend\u001b[0m\u001b[0;34m,\u001b[0m \u001b[0;34m'supports_timeout'\u001b[0m\u001b[0;34m,\u001b[0m \u001b[0;32mFalse\u001b[0m\u001b[0;34m)\u001b[0m\u001b[0;34m:\u001b[0m\u001b[0;34m\u001b[0m\u001b[0;34m\u001b[0m\u001b[0m\n\u001b[0;32m--> 833\u001b[0;31m                     \u001b[0mself\u001b[0m\u001b[0;34m.\u001b[0m\u001b[0m_output\u001b[0m\u001b[0;34m.\u001b[0m\u001b[0mextend\u001b[0m\u001b[0;34m(\u001b[0m\u001b[0mjob\u001b[0m\u001b[0;34m.\u001b[0m\u001b[0mget\u001b[0m\u001b[0;34m(\u001b[0m\u001b[0mtimeout\u001b[0m\u001b[0;34m=\u001b[0m\u001b[0mself\u001b[0m\u001b[0;34m.\u001b[0m\u001b[0mtimeout\u001b[0m\u001b[0;34m)\u001b[0m\u001b[0;34m)\u001b[0m\u001b[0;34m\u001b[0m\u001b[0;34m\u001b[0m\u001b[0m\n\u001b[0m\u001b[1;32m    834\u001b[0m                 \u001b[0;32melse\u001b[0m\u001b[0;34m:\u001b[0m\u001b[0;34m\u001b[0m\u001b[0;34m\u001b[0m\u001b[0m\n\u001b[1;32m    835\u001b[0m                     \u001b[0mself\u001b[0m\u001b[0;34m.\u001b[0m\u001b[0m_output\u001b[0m\u001b[0;34m.\u001b[0m\u001b[0mextend\u001b[0m\u001b[0;34m(\u001b[0m\u001b[0mjob\u001b[0m\u001b[0;34m.\u001b[0m\u001b[0mget\u001b[0m\u001b[0;34m(\u001b[0m\u001b[0;34m)\u001b[0m\u001b[0;34m)\u001b[0m\u001b[0;34m\u001b[0m\u001b[0;34m\u001b[0m\u001b[0m\n",
      "\u001b[0;32m~/anaconda3/lib/python3.7/site-packages/joblib/_parallel_backends.py\u001b[0m in \u001b[0;36mwrap_future_result\u001b[0;34m(future, timeout)\u001b[0m\n\u001b[1;32m    519\u001b[0m         AsyncResults.get from multiprocessing.\"\"\"\n\u001b[1;32m    520\u001b[0m         \u001b[0;32mtry\u001b[0m\u001b[0;34m:\u001b[0m\u001b[0;34m\u001b[0m\u001b[0;34m\u001b[0m\u001b[0m\n\u001b[0;32m--> 521\u001b[0;31m             \u001b[0;32mreturn\u001b[0m \u001b[0mfuture\u001b[0m\u001b[0;34m.\u001b[0m\u001b[0mresult\u001b[0m\u001b[0;34m(\u001b[0m\u001b[0mtimeout\u001b[0m\u001b[0;34m=\u001b[0m\u001b[0mtimeout\u001b[0m\u001b[0;34m)\u001b[0m\u001b[0;34m\u001b[0m\u001b[0;34m\u001b[0m\u001b[0m\n\u001b[0m\u001b[1;32m    522\u001b[0m         \u001b[0;32mexcept\u001b[0m \u001b[0mLokyTimeoutError\u001b[0m\u001b[0;34m:\u001b[0m\u001b[0;34m\u001b[0m\u001b[0;34m\u001b[0m\u001b[0m\n\u001b[1;32m    523\u001b[0m             \u001b[0;32mraise\u001b[0m \u001b[0mTimeoutError\u001b[0m\u001b[0;34m(\u001b[0m\u001b[0;34m)\u001b[0m\u001b[0;34m\u001b[0m\u001b[0;34m\u001b[0m\u001b[0m\n",
      "\u001b[0;32m~/anaconda3/lib/python3.7/concurrent/futures/_base.py\u001b[0m in \u001b[0;36mresult\u001b[0;34m(self, timeout)\u001b[0m\n\u001b[1;32m    428\u001b[0m                 \u001b[0;32mreturn\u001b[0m \u001b[0mself\u001b[0m\u001b[0;34m.\u001b[0m\u001b[0m__get_result\u001b[0m\u001b[0;34m(\u001b[0m\u001b[0;34m)\u001b[0m\u001b[0;34m\u001b[0m\u001b[0;34m\u001b[0m\u001b[0m\n\u001b[1;32m    429\u001b[0m \u001b[0;34m\u001b[0m\u001b[0m\n\u001b[0;32m--> 430\u001b[0;31m             \u001b[0mself\u001b[0m\u001b[0;34m.\u001b[0m\u001b[0m_condition\u001b[0m\u001b[0;34m.\u001b[0m\u001b[0mwait\u001b[0m\u001b[0;34m(\u001b[0m\u001b[0mtimeout\u001b[0m\u001b[0;34m)\u001b[0m\u001b[0;34m\u001b[0m\u001b[0;34m\u001b[0m\u001b[0m\n\u001b[0m\u001b[1;32m    431\u001b[0m \u001b[0;34m\u001b[0m\u001b[0m\n\u001b[1;32m    432\u001b[0m             \u001b[0;32mif\u001b[0m \u001b[0mself\u001b[0m\u001b[0;34m.\u001b[0m\u001b[0m_state\u001b[0m \u001b[0;32min\u001b[0m \u001b[0;34m[\u001b[0m\u001b[0mCANCELLED\u001b[0m\u001b[0;34m,\u001b[0m \u001b[0mCANCELLED_AND_NOTIFIED\u001b[0m\u001b[0;34m]\u001b[0m\u001b[0;34m:\u001b[0m\u001b[0;34m\u001b[0m\u001b[0;34m\u001b[0m\u001b[0m\n",
      "\u001b[0;32m~/anaconda3/lib/python3.7/threading.py\u001b[0m in \u001b[0;36mwait\u001b[0;34m(self, timeout)\u001b[0m\n\u001b[1;32m    294\u001b[0m         \u001b[0;32mtry\u001b[0m\u001b[0;34m:\u001b[0m    \u001b[0;31m# restore state no matter what (e.g., KeyboardInterrupt)\u001b[0m\u001b[0;34m\u001b[0m\u001b[0;34m\u001b[0m\u001b[0m\n\u001b[1;32m    295\u001b[0m             \u001b[0;32mif\u001b[0m \u001b[0mtimeout\u001b[0m \u001b[0;32mis\u001b[0m \u001b[0;32mNone\u001b[0m\u001b[0;34m:\u001b[0m\u001b[0;34m\u001b[0m\u001b[0;34m\u001b[0m\u001b[0m\n\u001b[0;32m--> 296\u001b[0;31m                 \u001b[0mwaiter\u001b[0m\u001b[0;34m.\u001b[0m\u001b[0macquire\u001b[0m\u001b[0;34m(\u001b[0m\u001b[0;34m)\u001b[0m\u001b[0;34m\u001b[0m\u001b[0;34m\u001b[0m\u001b[0m\n\u001b[0m\u001b[1;32m    297\u001b[0m                 \u001b[0mgotit\u001b[0m \u001b[0;34m=\u001b[0m \u001b[0;32mTrue\u001b[0m\u001b[0;34m\u001b[0m\u001b[0;34m\u001b[0m\u001b[0m\n\u001b[1;32m    298\u001b[0m             \u001b[0;32melse\u001b[0m\u001b[0;34m:\u001b[0m\u001b[0;34m\u001b[0m\u001b[0;34m\u001b[0m\u001b[0m\n",
      "\u001b[0;31mKeyboardInterrupt\u001b[0m: "
     ]
    }
   ],
   "source": [
    "# Define wight matrix with variable for each possible amino acid at each sequence position\n",
    "w = np.zeros((mx.sum(),mx.sum())) \n",
    "h0 = np.zeros(mx.sum())\n",
    "\n",
    "# Expectation Reflection\n",
    "# Expectation Reflection\n",
    "#=========================================================================================\n",
    "def predict_w(s,i0,i1i2,niter_max,l2):\n",
    "    #print('i0:',i0)\n",
    "    i1,i2 = i1i2[i0,0],i1i2[i0,1]\n",
    "\n",
    "    x = np.hstack([s[:,:i1],s[:,i2:]])\n",
    "    y = s[:,i1:i2]\n",
    "\n",
    "    h01,w1 = ER.fit(x,y,niter_max,l2)\n",
    "\n",
    "    return h01,w1\n",
    "\n",
    "#-------------------------------\n",
    "# parallel\n",
    "start_time = timeit.default_timer()\n",
    "#res = Parallel(n_jobs = 4)(delayed(predict_w)\\\n",
    "res = Parallel(n_jobs = 8)(delayed(predict_w)\\\n",
    "#res = Parallel(n_jobs = 32)(delayed(predict_w)\\\n",
    "        (s,i0,i1i2,niter_max=10,l2=100.0)\\\n",
    "        for i0 in range(n_var))\n",
    "\n",
    "run_time = timeit.default_timer() - start_time\n",
    "print('run time:',run_time)\n",
    "#----------------niter_max,l2)\n",
    "for i0 in range(n_var):\n",
    "    i1,i2 = i1i2[i0,0],i1i2[i0,1]\n",
    "\n",
    "    h01 = res[i0][0]\n",
    "    w1 = res[i0][1]\n",
    "\n",
    "    h0[i1:i2] = h01\n",
    "    w[:i1,i1:i2] = w1[:i1,:]\n",
    "    w[i2:,i1:i2] = w1[i1:,:]\n",
    "\n",
    "# make w symmetric\n",
    "w = (w + w.T)/2.\n",
    "\n",
    "# Calculate Direct Information from infered weights and Original Sequence Data\n",
    "di = direct_info(s0,w)\n",
    "\n",
    "# Save w and di for future use\n",
    "np.save('ER_w.npy',w)\n",
    "np.save('ER_DI.npy',di)\n",
    "\n",
    "tools.hide_toggle()"
   ]
  },
  {
   "cell_type": "markdown",
   "metadata": {},
   "source": [
    "#### Calculate Direct Information and Plot against Contact Map"
   ]
  },
  {
   "cell_type": "code",
   "execution_count": null,
   "metadata": {},
   "outputs": [],
   "source": [
    "ct = tools.contact_map(pdb,ipdb,cols_removed)\n",
    "\n",
    "# Calculate Direct Information from infered weights and Original Sequence Data\n",
    "di = direct_info(s0,w)\n",
    "\n",
    "# Plot Contact Map and Direct Information \n",
    "plt.subplot2grid((1,2),(0,0))\n",
    "plt.title('Contact Map')\n",
    "plt.imshow(ct,cmap='rainbow_r',origin='lower')\n",
    "plt.xlabel('i')\n",
    "plt.ylabel('j')\n",
    "plt.colorbar(fraction=0.045,pad=0.05)\n",
    "\n",
    "plt.subplot2grid((1,2),(0,1))\n",
    "plt.title('Direct Information')\n",
    "plt.imshow(di,cmap='rainbow',origin='lower')\n",
    "plt.xlabel('i')\n",
    "plt.ylabel('j')\n",
    "plt.clim(0,0.01)\n",
    "plt.colorbar(fraction=0.045, pad=0.05)\n",
    "\n",
    "plt.tight_layout(h_pad=1, w_pad=1.5)\n",
    "plt.show()\n",
    "\n",
    "tools.hide_toggle()"
   ]
  },
  {
   "cell_type": "code",
   "execution_count": null,
   "metadata": {},
   "outputs": [],
   "source": []
  }
 ],
 "metadata": {
  "kernelspec": {
   "display_name": "Python 3",
   "language": "python",
   "name": "python3"
  },
  "language_info": {
   "codemirror_mode": {
    "name": "ipython",
    "version": 3
   },
   "file_extension": ".py",
   "mimetype": "text/x-python",
   "name": "python",
   "nbconvert_exporter": "python",
   "pygments_lexer": "ipython3",
   "version": "3.7.4"
  }
 },
 "nbformat": 4,
 "nbformat_minor": 2
}
