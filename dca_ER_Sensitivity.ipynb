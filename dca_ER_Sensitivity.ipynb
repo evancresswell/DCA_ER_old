{
 "cells": [
  {
   "cell_type": "code",
   "execution_count": 5,
   "metadata": {},
   "outputs": [
    {
     "data": {
      "text/html": [
       "\n",
       "        <script>\n",
       "            function code_toggle_5795510617914795169() {\n",
       "                $('div.cell.code_cell.rendered.selected').find('div.input').toggle();\n",
       "            }\n",
       "\n",
       "            \n",
       "        </script>\n",
       "\n",
       "        <a href=\"javascript:code_toggle_5795510617914795169()\">Toggle show/hide</a>\n",
       "    "
      ],
      "text/plain": [
       "<IPython.core.display.HTML object>"
      ]
     },
     "execution_count": 5,
     "metadata": {},
     "output_type": "execute_result"
    }
   ],
   "source": [
    "import ecc_tools as tools\n",
    "import numpy as np\n",
    "import pandas as pd\n",
    "from scipy import linalg\n",
    "from sklearn.preprocessing import OneHotEncoder\n",
    "#import emachine as EM\n",
    "from direct_info import direct_info\n",
    "\n",
    "from data_processing import data_processing\n",
    "import Bio.PDB, warnings\n",
    "pdb_list = Bio.PDB.PDBList()\n",
    "pdb_parser = Bio.PDB.PDBParser()\n",
    "from scipy.spatial import distance_matrix\n",
    "from Bio import BiopythonWarning\n",
    "warnings.simplefilter('ignore', BiopythonWarning)\n",
    "\n",
    "from scipy.sparse import csr_matrix\n",
    "from joblib import Parallel, delayed\n",
    "import timeit\n",
    "\n",
    "import matplotlib.pyplot as plt\n",
    "%matplotlib inline\n",
    "tools.hide_toggle()"
   ]
  },
  {
   "cell_type": "markdown",
   "metadata": {},
   "source": [
    "# Compare DCA and ER Sensitivity\n",
    "* ER does better than traditional methods with small sample size\n",
    "* Want to analyse a Protein family with large number of sequences to test sensitivity\n",
    "    * DCA paper uses PF00071 and PF04542"
   ]
  },
  {
   "cell_type": "markdown",
   "metadata": {},
   "source": [
    "## PF04542"
   ]
  },
  {
   "cell_type": "markdown",
   "metadata": {},
   "source": [
    "#### Read In Protein Structure"
   ]
  },
  {
   "cell_type": "code",
   "execution_count": 3,
   "metadata": {},
   "outputs": [
    {
     "name": "stdout",
     "output_type": "stream",
     "text": [
      "number of pdb structures: 372\n",
      "[['PF00186' '69' 'Q5KZ26_GEOKA' ... 'B' '1' '160']\n",
      " ['PF00186' '69' 'Q5KZ26_GEOKA' ... 'A' '1' '160']\n",
      " ['PF00186' '83' 'Q81R22_BACAN' ... 'B' '2' '160']\n",
      " ...\n",
      " ['PF00186' '6952' 'DYR_MYCTU' ... 'A' '1' '158']\n",
      " ['PF00186' '7457' 'Q834R2_ENTFA' ... 'A' '1' '161']\n",
      " ['PF00186' '7457' 'Q834R2_ENTFA' ... 'A' '1' '161']]\n",
      "['PF00186' '69' 'Q5KZ26_GEOKA' '1' '160' '1ZDR' 'B' '1' '160']\n"
     ]
    },
    {
     "data": {
      "text/html": [
       "\n",
       "        <script>\n",
       "            function code_toggle_4297244684965988102() {\n",
       "                $('div.cell.code_cell.rendered.selected').find('div.input').toggle();\n",
       "            }\n",
       "\n",
       "            \n",
       "        </script>\n",
       "\n",
       "        <a href=\"javascript:code_toggle_4297244684965988102()\">Toggle show/hide</a>\n",
       "    "
      ],
      "text/plain": [
       "<IPython.core.display.HTML object>"
      ]
     },
     "execution_count": 3,
     "metadata": {},
     "output_type": "execute_result"
    }
   ],
   "source": [
    "# Read in Protein structure\n",
    "data_path = '../protein/Pfam-A.full'\n",
    "pfam_id = 'PF00186'\n",
    "pdb = np.load('%s/%s/pdb_refs.npy'%(data_path,pfam_id))\n",
    "\n",
    "# Pre-Process Structure Data\n",
    "# delete 'b' in front of letters (python 2 --> python 3)\n",
    "pdb = np.array([pdb[t,i].decode('UTF-8') for t in range(pdb.shape[0]) \\\n",
    "         for i in range(pdb.shape[1])]).reshape(pdb.shape[0],pdb.shape[1])\n",
    "\n",
    "# Print number of pdb structures in Protein ID folder\n",
    "npdb = pdb.shape[0]\n",
    "print('number of pdb structures:',npdb)\n",
    "\n",
    "# Print PDB array \n",
    "print(pdb)\n",
    "print(pdb[0])\n",
    "\n",
    "# Create pandas dataframe for protein structure\n",
    "df = pd.DataFrame(pdb,columns = ['PF','seq','id','uniprot_start','uniprot_start',\\\n",
    "                                 'pdb_id','chain','pdb_start','pdb_end'])\n",
    "df.head()\n",
    "tools.hide_toggle()"
   ]
  },
  {
   "cell_type": "markdown",
   "metadata": {},
   "source": [
    "#### Process Protein Data\n",
    "* Want to implement some changes to original code\n",
    "    * Enforce AA distance requirement &rightarrow; |i-j|>5"
   ]
  },
  {
   "cell_type": "code",
   "execution_count": null,
   "metadata": {},
   "outputs": [],
   "source": [
    "ipdb = 0\n",
    "print('seq:',int(pdb[ipdb,1]))\n",
    "\n",
    "# data processing\n",
    "s0,cols_removed = data_processing(data_path,pfam_id,ipdb,\\\n",
    "                gap_seqs=0.2,gap_cols=0.2,prob_low=0.004,conserved_cols=0.9)"
   ]
  }
 ],
 "metadata": {
  "kernelspec": {
   "display_name": "Python 3",
   "language": "python",
   "name": "python3"
  },
  "language_info": {
   "codemirror_mode": {
    "name": "ipython",
    "version": 3
   },
   "file_extension": ".py",
   "mimetype": "text/x-python",
   "name": "python",
   "nbconvert_exporter": "python",
   "pygments_lexer": "ipython3",
   "version": "3.7.4"
  }
 },
 "nbformat": 4,
 "nbformat_minor": 2
}
