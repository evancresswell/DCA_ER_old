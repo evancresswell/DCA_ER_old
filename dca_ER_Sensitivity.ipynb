{
 "cells": [
  {
   "cell_type": "code",
   "execution_count": 1,
   "metadata": {},
   "outputs": [
    {
     "data": {
      "text/html": [
       "\n",
       "        <script>\n",
       "            function code_toggle_9894730322036421588() {\n",
       "                $('div.cell.code_cell.rendered.selected').find('div.input').toggle();\n",
       "            }\n",
       "\n",
       "            \n",
       "        </script>\n",
       "\n",
       "        <a href=\"javascript:code_toggle_9894730322036421588()\">Toggle show/hide</a>\n",
       "    "
      ],
      "text/plain": [
       "<IPython.core.display.HTML object>"
      ]
     },
     "execution_count": 1,
     "metadata": {},
     "output_type": "execute_result"
    }
   ],
   "source": [
    "import ecc_tools as tools\n",
    "import numpy as np\n",
    "import pandas as pd\n",
    "from scipy import linalg\n",
    "from sklearn.preprocessing import OneHotEncoder\n",
    "#import emachine as EM\n",
    "from direct_info import direct_info\n",
    "\n",
    "import Bio.PDB, warnings\n",
    "pdb_list = Bio.PDB.PDBList()\n",
    "pdb_parser = Bio.PDB.PDBParser()\n",
    "from scipy.spatial import distance_matrix\n",
    "from Bio import BiopythonWarning\n",
    "warnings.simplefilter('ignore', BiopythonWarning)\n",
    "\n",
    "from scipy.sparse import csr_matrix\n",
    "from joblib import Parallel, delayed\n",
    "import timeit\n",
    "\n",
    "import matplotlib.pyplot as plt\n",
    "%matplotlib inline\n",
    "\n",
    "import sys\n",
    "import numpy as np\n",
    "from scipy import linalg\n",
    "from sklearn.preprocessing import OneHotEncoder\n",
    "import expectation_reflection as ER\n",
    "from direct_info import direct_info\n",
    "from joblib import Parallel, delayed\n",
    "\n",
    "tools.hide_toggle()"
   ]
  },
  {
   "cell_type": "markdown",
   "metadata": {},
   "source": [
    "# Compare DCA and ER Sensitivity\n",
    "* ER does better than traditional methods with small sample size\n",
    "* Want to analyse a Protein family with large number of sequences to test sensitivity\n",
    "    * DCA paper uses PF00071 and PF04542"
   ]
  },
  {
   "cell_type": "markdown",
   "metadata": {},
   "source": [
    "## PF04542"
   ]
  },
  {
   "cell_type": "markdown",
   "metadata": {},
   "source": [
    "#### Read In Protein Structure"
   ]
  },
  {
   "cell_type": "code",
   "execution_count": 2,
   "metadata": {},
   "outputs": [
    {
     "name": "stdout",
     "output_type": "stream",
     "text": [
      "number of pdb structures: 372\n",
      "[['PF00186' '69' 'Q5KZ26_GEOKA' ... 'B' '1' '160']\n",
      " ['PF00186' '69' 'Q5KZ26_GEOKA' ... 'A' '1' '160']\n",
      " ['PF00186' '83' 'Q81R22_BACAN' ... 'B' '2' '160']\n",
      " ...\n",
      " ['PF00186' '6952' 'DYR_MYCTU' ... 'A' '1' '158']\n",
      " ['PF00186' '7457' 'Q834R2_ENTFA' ... 'A' '1' '161']\n",
      " ['PF00186' '7457' 'Q834R2_ENTFA' ... 'A' '1' '161']]\n",
      "['PF00186' '69' 'Q5KZ26_GEOKA' '1' '160' '1ZDR' 'B' '1' '160']\n",
      "seq: 69\n",
      "shape of s (import from msa.npy):\n",
      " (7750, 918)\n",
      "shape of s (after UTF-8 decode):\n",
      " (7750, 918)\n",
      "pdb:\n",
      " [[b'PF00186' b'69' b'Q5KZ26_GEOKA' ... b'B' b'1' b'160']\n",
      " [b'PF00186' b'69' b'Q5KZ26_GEOKA' ... b'A' b'1' b'160']\n",
      " [b'PF00186' b'83' b'Q81R22_BACAN' ... b'B' b'2' b'160']\n",
      " ...\n",
      " [b'PF00186' b'6952' b'DYR_MYCTU' ... b'A' b'1' b'158']\n",
      " [b'PF00186' b'7457' b'Q834R2_ENTFA' ... b'A' b'1' b'161']\n",
      " [b'PF00186' b'7457' b'Q834R2_ENTFA' ... b'A' b'1' b'161']]\n",
      "pdb (after UTF-8 decode, removing 'b'):\n",
      " [['PF00186' '69' 'Q5KZ26_GEOKA' ... 'B' '1' '160']\n",
      " ['PF00186' '69' 'Q5KZ26_GEOKA' ... 'A' '1' '160']\n",
      " ['PF00186' '83' 'Q81R22_BACAN' ... 'B' '2' '160']\n",
      " ...\n",
      " ['PF00186' '6952' 'DYR_MYCTU' ... 'A' '1' '158']\n",
      " ['PF00186' '7457' 'Q834R2_ENTFA' ... 'A' '1' '161']\n",
      " ['PF00186' '7457' 'Q834R2_ENTFA' ... 'A' '1' '161']]\n",
      "sequence:  69\n",
      "Removed columns:  [  0   6  13  14 144 145  21  89  30 158 159  96  34  97  41  42  43  45\n",
      " 114  53  56 123 127]\n"
     ]
    },
    {
     "data": {
      "text/html": [
       "\n",
       "        <script>\n",
       "            function code_toggle_9367759613749079529() {\n",
       "                $('div.cell.code_cell.rendered.selected').find('div.input').toggle();\n",
       "            }\n",
       "\n",
       "            \n",
       "        </script>\n",
       "\n",
       "        <a href=\"javascript:code_toggle_9367759613749079529()\">Toggle show/hide</a>\n",
       "    "
      ],
      "text/plain": [
       "<IPython.core.display.HTML object>"
      ]
     },
     "execution_count": 2,
     "metadata": {},
     "output_type": "execute_result"
    }
   ],
   "source": [
    "# Read in Protein structure\n",
    "data_path = '../protein/Pfam-A.full'\n",
    "pfam_id = 'PF04542'\n",
    "pfam_id = 'PF00186'\n",
    "pdb = np.load('%s/%s/pdb_refs.npy'%(data_path,pfam_id))\n",
    "\n",
    "# Pre-Process Structure Data\n",
    "# delete 'b' in front of letters (python 2 --> python 3)\n",
    "pdb = np.array([pdb[t,i].decode('UTF-8') for t in range(pdb.shape[0]) \\\n",
    "         for i in range(pdb.shape[1])]).reshape(pdb.shape[0],pdb.shape[1])\n",
    "\n",
    "# Print number of pdb structures in Protein ID folder\n",
    "npdb = pdb.shape[0]\n",
    "print('number of pdb structures:',npdb)\n",
    "\n",
    "# Print PDB array \n",
    "print(pdb)\n",
    "print(pdb[0])\n",
    "\n",
    "# Create pandas dataframe for protein structure\n",
    "df = pd.DataFrame(pdb,columns = ['PF','seq','id','uniprot_start','uniprot_start',\\\n",
    "                                 'pdb_id','chain','pdb_start','pdb_end'])\n",
    "df.head()\n",
    "\n",
    "ipdb = 0\n",
    "print('seq:',int(pdb[ipdb,1]))\n",
    "\n",
    "from data_processing import data_processing\n",
    "# data processing\n",
    "s0,cols_removed = data_processing(data_path,pfam_id,ipdb,\\\n",
    "                gap_seqs=0.2,gap_cols=0.2,prob_low=0.004,conserved_cols=0.9)\n",
    "\n",
    "print(\"Removed columns: \",cols_removed)\n",
    "\n",
    "tools.hide_toggle()"
   ]
  },
  {
   "cell_type": "markdown",
   "metadata": {},
   "source": [
    "#### Process Protein Data\n",
    "* Want to implement some changes to original code\n",
    "    * Enforce AA distance requirement &rightarrow; |i-j|>5"
   ]
  },
  {
   "cell_type": "code",
   "execution_count": 3,
   "metadata": {
    "scrolled": true
   },
   "outputs": [
    {
     "name": "stdout",
     "output_type": "stream",
     "text": [
      "seq: 69\n",
      "shape of s (import from msa.npy):\n",
      " (7750, 918)\n",
      "shape of s (after UTF-8 decode):\n",
      " (7750, 918)\n",
      "pdb:\n",
      " [[b'PF00186' b'69' b'Q5KZ26_GEOKA' ... b'B' b'1' b'160']\n",
      " [b'PF00186' b'69' b'Q5KZ26_GEOKA' ... b'A' b'1' b'160']\n",
      " [b'PF00186' b'83' b'Q81R22_BACAN' ... b'B' b'2' b'160']\n",
      " ...\n",
      " [b'PF00186' b'6952' b'DYR_MYCTU' ... b'A' b'1' b'158']\n",
      " [b'PF00186' b'7457' b'Q834R2_ENTFA' ... b'A' b'1' b'161']\n",
      " [b'PF00186' b'7457' b'Q834R2_ENTFA' ... b'A' b'1' b'161']]\n",
      "pdb (after UTF-8 decode, removing 'b'):\n",
      " [['PF00186' '69' 'Q5KZ26_GEOKA' ... 'B' '1' '160']\n",
      " ['PF00186' '69' 'Q5KZ26_GEOKA' ... 'A' '1' '160']\n",
      " ['PF00186' '83' 'Q81R22_BACAN' ... 'B' '2' '160']\n",
      " ...\n",
      " ['PF00186' '6952' 'DYR_MYCTU' ... 'A' '1' '158']\n",
      " ['PF00186' '7457' 'Q834R2_ENTFA' ... 'A' '1' '161']\n",
      " ['PF00186' '7457' 'Q834R2_ENTFA' ... 'A' '1' '161']]\n",
      "sequence:  69\n"
     ]
    },
    {
     "data": {
      "text/html": [
       "\n",
       "        <script>\n",
       "            function code_toggle_6537698192999313611() {\n",
       "                $('div.cell.code_cell.rendered.selected').find('div.input').toggle();\n",
       "            }\n",
       "\n",
       "            \n",
       "        </script>\n",
       "\n",
       "        <a href=\"javascript:code_toggle_6537698192999313611()\">Toggle show/hide</a>\n",
       "    "
      ],
      "text/plain": [
       "<IPython.core.display.HTML object>"
      ]
     },
     "execution_count": 3,
     "metadata": {},
     "output_type": "execute_result"
    }
   ],
   "source": [
    "ipdb = 0\n",
    "print('seq:',int(pdb[ipdb,1]))\n",
    "\n",
    "# data processing\n",
    "s0,cols_removed = data_processing(data_path,pfam_id,ipdb,\\\n",
    "                gap_seqs=0.2,gap_cols=0.2,prob_low=0.004,conserved_cols=0.9)\n",
    "\n",
    "tools.hide_toggle()"
   ]
  },
  {
   "cell_type": "code",
   "execution_count": 4,
   "metadata": {},
   "outputs": [
    {
     "name": "stdout",
     "output_type": "stream",
     "text": [
      "Number of residue positions: 137\n",
      "Number of different amino acids at each position [ 6 16 12  7  8 16  8 17 12 14  9 19 11 10 13  5  5 14  9  6 11  2  9 12\n",
      " 11  9 10 16 17 11 12 13  5  4  9  7 11  6  5 10 12 10  9  9 17  8  8  2\n",
      "  5  2 11 11 18 18 20 20 20 14 13 15 16 15 14 14  7 12 15 12  8 15 15 21\n",
      " 19 16 16 20 15 17 13 11  8 10 12 13  4  3 13 15 12 11 13 19  9 11 17  7\n",
      " 14  8 16  3 16 19 15 14 15  7  7 15  7 17 10 16 20 17 18  5 17 16 17 20\n",
      " 19 18 21 21 19 15 17 13 16 13 14 10 14  9 18 14  5]\n",
      "(Sanity Check) Column indices of first and ( [0 6] ) and last ( [1697 1702] ) positions\n",
      "(Sanity Check) Column indices of second and ( [ 6 22] ) and second to last ( [1683 1697] ) positions\n",
      "Total number of variables 1702\n"
     ]
    },
    {
     "data": {
      "text/html": [
       "\n",
       "        <script>\n",
       "            function code_toggle_14396145811923780329() {\n",
       "                $('div.cell.code_cell.rendered.selected').find('div.input').toggle();\n",
       "            }\n",
       "\n",
       "            \n",
       "        </script>\n",
       "\n",
       "        <a href=\"javascript:code_toggle_14396145811923780329()\">Toggle show/hide</a>\n",
       "    "
      ],
      "text/plain": [
       "<IPython.core.display.HTML object>"
      ]
     },
     "execution_count": 4,
     "metadata": {},
     "output_type": "execute_result"
    }
   ],
   "source": [
    "# number of positions\n",
    "n_var = s0.shape[1]\n",
    "print(\"Number of residue positions:\",n_var)\n",
    "\n",
    "# number of aminoacids at each position\n",
    "mx = np.array([len(np.unique(s0[:,i])) for i in range(n_var)])\n",
    "#mx = np.array([m for i in range(n_var)])\n",
    "print(\"Number of different amino acids at each position\",mx)\n",
    "\n",
    "mx_cumsum = np.insert(mx.cumsum(),0,0)\n",
    "i1i2 = np.stack([mx_cumsum[:-1],mx_cumsum[1:]]).T \n",
    "print(\"(Sanity Check) Column indices of first and (\",i1i2[0],\") and last (\",i1i2[-1],\") positions\")\n",
    "print(\"(Sanity Check) Column indices of second and (\",i1i2[1],\") and second to last (\",i1i2[-2],\") positions\")\n",
    "\n",
    "\n",
    "# number of variables\n",
    "mx_sum = mx.sum()\n",
    "print(\"Total number of variables\",mx_sum)\n",
    "\n",
    "# number of bias term\n",
    "n_linear = mx_sum - n_var\n",
    "\n",
    "tools.hide_toggle()"
   ]
  },
  {
   "cell_type": "markdown",
   "metadata": {},
   "source": [
    "#### Generate OneHot Encoded Sequence (s0 &rightarrow; s)"
   ]
  },
  {
   "cell_type": "code",
   "execution_count": 5,
   "metadata": {},
   "outputs": [
    {
     "data": {
      "text/html": [
       "\n",
       "        <script>\n",
       "            function code_toggle_5366640969919552604() {\n",
       "                $('div.cell.code_cell.rendered.selected').find('div.input').toggle();\n",
       "            }\n",
       "\n",
       "            \n",
       "        </script>\n",
       "\n",
       "        <a href=\"javascript:code_toggle_5366640969919552604()\">Toggle show/hide</a>\n",
       "    "
      ],
      "text/plain": [
       "<IPython.core.display.HTML object>"
      ]
     },
     "execution_count": 5,
     "metadata": {},
     "output_type": "execute_result"
    }
   ],
   "source": [
    "onehot_encoder = OneHotEncoder(sparse=False,categories='auto')\n",
    "# s is OneHot encoder format, s0 is original sequnce matrix\n",
    "s = onehot_encoder.fit_transform(s0)\n",
    "#print(\"Amino Acid sequence Matrix\\n\",s0)\n",
    "#print(\"OneHot sequence Matrix\\n\",s)\n",
    "#print(\"An individual element of the OneHot sequence Matrix (size:\",\n",
    "#      s.shape,\") --> \",s[0], \" has length \",s[0].shape)\n",
    "\n",
    "tools.hide_toggle()"
   ]
  },
  {
   "cell_type": "markdown",
   "metadata": {},
   "source": [
    "#### Use Expectation Reflection to infer w, and H\n",
    "* I want to start saving these files to read in (save on computation time)"
   ]
  },
  {
   "cell_type": "code",
   "execution_count": 6,
   "metadata": {},
   "outputs": [
    {
     "ename": "AssertionError",
     "evalue": "",
     "output_type": "error",
     "traceback": [
      "\u001b[0;31m---------------------------------------------------------------------------\u001b[0m",
      "\u001b[0;31mAssertionError\u001b[0m                            Traceback (most recent call last)",
      "\u001b[0;32m<ipython-input-6-9f11e5a963c4>\u001b[0m in \u001b[0;36m<module>\u001b[0;34m\u001b[0m\n\u001b[1;32m      1\u001b[0m \u001b[0;31m# Stop long code run\u001b[0m\u001b[0;34m\u001b[0m\u001b[0;34m\u001b[0m\u001b[0;34m\u001b[0m\u001b[0m\n\u001b[0;32m----> 2\u001b[0;31m \u001b[0;32massert\u001b[0m \u001b[0;32mFalse\u001b[0m\u001b[0;34m\u001b[0m\u001b[0;34m\u001b[0m\u001b[0m\n\u001b[0m\u001b[1;32m      3\u001b[0m \u001b[0;34m\u001b[0m\u001b[0m\n\u001b[1;32m      4\u001b[0m \u001b[0;31m# Define wight matrix with variable for each possible amino acid at each sequence position\u001b[0m\u001b[0;34m\u001b[0m\u001b[0;34m\u001b[0m\u001b[0;34m\u001b[0m\u001b[0m\n\u001b[1;32m      5\u001b[0m \u001b[0mw\u001b[0m \u001b[0;34m=\u001b[0m \u001b[0mnp\u001b[0m\u001b[0;34m.\u001b[0m\u001b[0mzeros\u001b[0m\u001b[0;34m(\u001b[0m\u001b[0;34m(\u001b[0m\u001b[0mmx\u001b[0m\u001b[0;34m.\u001b[0m\u001b[0msum\u001b[0m\u001b[0;34m(\u001b[0m\u001b[0;34m)\u001b[0m\u001b[0;34m,\u001b[0m\u001b[0mmx\u001b[0m\u001b[0;34m.\u001b[0m\u001b[0msum\u001b[0m\u001b[0;34m(\u001b[0m\u001b[0;34m)\u001b[0m\u001b[0;34m)\u001b[0m\u001b[0;34m)\u001b[0m\u001b[0;34m\u001b[0m\u001b[0;34m\u001b[0m\u001b[0m\n",
      "\u001b[0;31mAssertionError\u001b[0m: "
     ]
    }
   ],
   "source": [
    "# Stop long code run\n",
    "assert False\n",
    "\n",
    "# Define wight matrix with variable for each possible amino acid at each sequence position\n",
    "w = np.zeros((mx.sum(),mx.sum())) \n",
    "h0 = np.zeros(mx.sum())\n",
    "\n",
    "# Expectation Reflection\n",
    "# Expectation Reflection\n",
    "#=========================================================================================\n",
    "def predict_w(s,i0,i1i2,niter_max,l2):\n",
    "    #print('i0:',i0)\n",
    "    i1,i2 = i1i2[i0,0],i1i2[i0,1]\n",
    "\n",
    "    x = np.hstack([s[:,:i1],s[:,i2:]])\n",
    "    y = s[:,i1:i2]\n",
    "\n",
    "    h01,w1 = ER.fit(x,y,niter_max,l2)\n",
    "\n",
    "    return h01,w1\n",
    "\n",
    "#-------------------------------\n",
    "# parallel\n",
    "start_time = timeit.default_timer()\n",
    "#res = Parallel(n_jobs = 4)(delayed(predict_w)\\\n",
    "res = Parallel(n_jobs = 8)(delayed(predict_w)\\\n",
    "#res = Parallel(n_jobs = 32)(delayed(predict_w)\\\n",
    "        (s,i0,i1i2,niter_max=10,l2=100.0)\\\n",
    "        for i0 in range(n_var))\n",
    "\n",
    "run_time = timeit.default_timer() - start_time\n",
    "print('run time:',run_time)\n",
    "#----------------niter_max,l2)\n",
    "for i0 in range(n_var):\n",
    "    i1,i2 = i1i2[i0,0],i1i2[i0,1]\n",
    "\n",
    "    h01 = res[i0][0]\n",
    "    w1 = res[i0][1]\n",
    "\n",
    "    h0[i1:i2] = h01\n",
    "    w[:i1,i1:i2] = w1[:i1,:]\n",
    "    w[i2:,i1:i2] = w1[i1:,:]\n",
    "\n",
    "# make w symmetric\n",
    "w = (w + w.T)/2.\n",
    "\n",
    "# Calculate Direct Information from infered weights and Original Sequence Data\n",
    "di = direct_info(s0,w)\n",
    "\n",
    "# Save w and di for future use\n",
    "np.save('ER_w.npy',w)\n",
    "np.save('ER_DI.npy',di)\n",
    "\n",
    "tools.hide_toggle()"
   ]
  },
  {
   "cell_type": "markdown",
   "metadata": {},
   "source": [
    "#### Calculate Direct Information and Plot against Contact Map"
   ]
  },
  {
   "cell_type": "code",
   "execution_count": null,
   "metadata": {},
   "outputs": [],
   "source": [
    "ct = tools.contact_map(pdb,ipdb,cols_removed)\n",
    "\n",
    "# Calculate Direct Information from infered weights and Original Sequence Data\n",
    "di = direct_info(s0,w)\n",
    "\n",
    "# Plot Contact Map and Direct Information \n",
    "plt.subplot2grid((1,2),(0,0))\n",
    "plt.title('Contact Map')\n",
    "plt.imshow(ct,cmap='rainbow_r',origin='lower')\n",
    "plt.xlabel('i')\n",
    "plt.ylabel('j')\n",
    "plt.colorbar(fraction=0.045,pad=0.05)\n",
    "\n",
    "plt.subplot2grid((1,2),(0,1))\n",
    "plt.title('Direct Information')\n",
    "plt.imshow(di,cmap='rainbow',origin='lower')\n",
    "plt.xlabel('i')\n",
    "plt.ylabel('j')\n",
    "plt.clim(0,0.01)\n",
    "plt.colorbar(fraction=0.045, pad=0.05)\n",
    "\n",
    "plt.tight_layout(h_pad=1, w_pad=1.5)\n",
    "plt.show()\n",
    "\n",
    "tools.hide_toggle()"
   ]
  },
  {
   "cell_type": "code",
   "execution_count": null,
   "metadata": {},
   "outputs": [],
   "source": []
  }
 ],
 "metadata": {
  "kernelspec": {
   "display_name": "Python 3",
   "language": "python",
   "name": "python3"
  },
  "language_info": {
   "codemirror_mode": {
    "name": "ipython",
    "version": 3
   },
   "file_extension": ".py",
   "mimetype": "text/x-python",
   "name": "python",
   "nbconvert_exporter": "python",
   "pygments_lexer": "ipython3",
   "version": "3.7.4"
  }
 },
 "nbformat": 4,
 "nbformat_minor": 2
}
