{
 "cells": [
  {
   "cell_type": "code",
   "execution_count": 1,
   "metadata": {},
   "outputs": [
    {
     "data": {
      "text/html": [
       "\n",
       "        <script>\n",
       "            function code_toggle_3672765091862938058() {\n",
       "                $('div.cell.code_cell.rendered.selected').find('div.input').toggle();\n",
       "            }\n",
       "\n",
       "            \n",
       "        </script>\n",
       "\n",
       "        <a href=\"javascript:code_toggle_3672765091862938058()\">Toggle show/hide</a>\n",
       "    "
      ],
      "text/plain": [
       "<IPython.core.display.HTML object>"
      ]
     },
     "execution_count": 1,
     "metadata": {},
     "output_type": "execute_result"
    }
   ],
   "source": [
    "import ecc_tools as tools\n",
    "import numpy as np\n",
    "import pandas as pd\n",
    "from scipy import linalg\n",
    "from sklearn.preprocessing import OneHotEncoder\n",
    "#import emachine as EM\n",
    "from direct_info import direct_info\n",
    "from ecc_tools import distance_restr\n",
    "\n",
    "import Bio.PDB, warnings\n",
    "pdb_list = Bio.PDB.PDBList()\n",
    "pdb_parser = Bio.PDB.PDBParser()\n",
    "from scipy.spatial import distance_matrix\n",
    "from Bio import BiopythonWarning\n",
    "warnings.simplefilter('ignore', BiopythonWarning)\n",
    "\n",
    "from scipy.sparse import csr_matrix\n",
    "from joblib import Parallel, delayed\n",
    "import timeit\n",
    "\n",
    "import matplotlib.pyplot as plt\n",
    "%matplotlib inline\n",
    "\n",
    "import sys\n",
    "import numpy as np\n",
    "from scipy import linalg\n",
    "from sklearn.preprocessing import OneHotEncoder\n",
    "import expectation_reflection as ER\n",
    "from direct_info import direct_info\n",
    "from joblib import Parallel, delayed\n",
    "\n",
    "# import pydca for plmDCA\n",
    "from pydca.plmdca import plmdca\n",
    "from pydca.meanfield_dca import meanfield_dca\n",
    "from pydca.sequence_backmapper import sequence_backmapper\n",
    "from pydca.msa_trimmer import msa_trimmer\n",
    "from pydca.contact_visualizer import contact_visualizer\n",
    "from pydca.dca_utilities import dca_utilities\n",
    "\n",
    "tools.hide_toggle()"
   ]
  },
  {
   "cell_type": "markdown",
   "metadata": {},
   "source": [
    "## Using comprehensive software package for DCA\n",
    "#### Author: Mehari B. Zerihun\n",
    "article: https://academic.oup.com/bioinformatics/advance-article/doi/10.1093/bioinformatics/btz892/5645176\n",
    "github: https://github.com/KIT-MBS/pydca\n",
    "* mean field and pseudoliklihood methos\n",
    "* several utility functions\n",
    "    * MSA triming functions\n",
    "    * Contact Map Plotting Functions"
   ]
  },
  {
   "cell_type": "code",
   "execution_count": 2,
   "metadata": {},
   "outputs": [
    {
     "name": "stdout",
     "output_type": "stream",
     "text": [
      "number of pdb structures:  372\n",
      "pdb ids:\n",
      " 0      Q5KZ26_GEOKA\n",
      "1      Q5KZ26_GEOKA\n",
      "2      Q81R22_BACAN\n",
      "3      Q81R22_BACAN\n",
      "4      Q81R22_BACAN\n",
      "           ...     \n",
      "367       DYR_MYCTU\n",
      "368       DYR_MYCTU\n",
      "369       DYR_MYCTU\n",
      "370    Q834R2_ENTFA\n",
      "371    Q834R2_ENTFA\n",
      "Name: id, Length: 372, dtype: object\n",
      "        PF seq            id uniprot_start uniprot_start pdb_id chain  \\\n",
      "0  PF00186  69  Q5KZ26_GEOKA             1           160   1ZDR     B   \n",
      "1  PF00186  69  Q5KZ26_GEOKA             1           160   1ZDR     A   \n",
      "2  PF00186  83  Q81R22_BACAN             2           160   3JWK     B   \n",
      "3  PF00186  83  Q81R22_BACAN             2           160   3S9U     B   \n",
      "4  PF00186  83  Q81R22_BACAN             2           160   3FL9     H   \n",
      "\n",
      "  pdb_start pdb_end  \n",
      "0         1     160  \n",
      "1         1     160  \n",
      "2         2     160  \n",
      "3         2     160  \n",
      "4         2     160  \n",
      "seq: 69\n",
      "(6734, 137)\n",
      "Reference Sequence number:  69\n",
      "Reference Sequence:\n",
      " ['-' '-' 'L' 'I' 'V' 'Y' 'A' 'A' 'N' 'R' 'V' 'R' 'D' 'N' 'T' 'L' 'P' 'R'\n",
      " 'L' 'P' 'G' 'D' 'L' 'A' 'H' 'K' 'R' 'S' 'L' 'G' 'H' 'P' 'V' 'I' 'N' 'W'\n",
      " 'E' 'S' 'L' 'G' 'R' 'P' 'P' 'G' 'L' 'N' 'I' 'V' 'I' 'S' 'R' 'N' 'S' 'E'\n",
      " 'Y' 'E' 'A' 'A' 'G' 'A' 'S' 'V' 'Y' 'P' 'S' 'L' 'E' 'A' 'A' 'L' 'A' 'A'\n",
      " 'C' 'T' 'A' 'E' 'A' 'S' 'P' 'Y' 'I' 'I' 'A' 'Q' 'I' 'Y' 'R' 'L' 'A' 'L'\n",
      " 'P' 'L' 'A' 'R' 'R' 'V' 'V' 'A' 'E' 'V' 'H' 'A' 'S' 'I' 'E' 'G' 'A' 'Y'\n",
      " 'F' 'Q' 'L' 'P' 'G' 'D' 'E' 'W' 'M' 'E' 'T' 'S' 'R' 'S' 'E' 'R' 'Q' 'T'\n",
      " 'E' 'N' 'G' 'Y' 'E' 'Y' 'D' 'F' 'V' 'V' 'Y']\n",
      "Writing processed MSA to FASTA files:\n",
      " [['I' 'S' 'F' ... 'E' '-' 'W']\n",
      " ['L' 'A' 'L' ... 'V' 'V' 'Y']\n",
      " ['-' '-' 'V' ... '-' '-' '-']\n",
      " ...\n",
      " ['V' 'S' 'L' ... 'N' 'V' 'Y']\n",
      " ['V' 'S' 'A' ... 'K' 'V' 'Y']\n",
      " ['F' 'S' 'I' ... 'I' 'I' 'Y']]\n"
     ]
    },
    {
     "data": {
      "text/html": [
       "\n",
       "        <script>\n",
       "            function code_toggle_12957057007588310480() {\n",
       "                $('div.cell.code_cell.rendered.selected').find('div.input').toggle();\n",
       "            }\n",
       "\n",
       "            \n",
       "        </script>\n",
       "\n",
       "        <a href=\"javascript:code_toggle_12957057007588310480()\">Toggle show/hide</a>\n",
       "    "
      ],
      "text/plain": [
       "<IPython.core.display.HTML object>"
      ]
     },
     "execution_count": 2,
     "metadata": {},
     "output_type": "execute_result"
    }
   ],
   "source": [
    "# Read in Protein structure\n",
    "data_path = '../Pfam-A.full'\n",
    "pfam_id = 'PF00186'\n",
    "pdb = np.load('%s/%s/pdb_refs.npy'%(data_path,pfam_id))\n",
    "\n",
    "# Pre-Process Structure Data\n",
    "# delete 'b' in front of letters (python 2 --> python 3)\n",
    "pdb = np.array([pdb[t,i].decode('UTF-8') for t in range(pdb.shape[0]) \\\n",
    "         for i in range(pdb.shape[1])]).reshape(pdb.shape[0],pdb.shape[1])\n",
    "\n",
    "# Print number of pdb structures in Protein ID folder\n",
    "npdb = pdb.shape[0]\n",
    "print('number of pdb structures: ',npdb)\n",
    "\n",
    "# Print PDB array \n",
    "#print(pdb)\n",
    "#print(pdb[0])\n",
    "\n",
    "# Create pandas dataframe for protein structure\n",
    "df = pd.DataFrame(pdb,columns = ['PF','seq','id','uniprot_start','uniprot_start',\\\n",
    "                                 'pdb_id','chain','pdb_start','pdb_end'])\n",
    "print(\"pdb ids:\\n\",df['id'])\n",
    "print(df.head())\n",
    "\n",
    "ipdb = 0\n",
    "print('seq:',int(pdb[ipdb,1]))\n",
    "\n",
    "from data_processing import data_processing\n",
    "from data_processing import write_FASTA\n",
    "\n",
    "# data processing\n",
    "s0,cols_removed,s_index = data_processing(data_path,pfam_id,ipdb,\\\n",
    "                gap_seqs=0.2,gap_cols=0.2,prob_low=0.004,conserved_cols=0.9)\n",
    "print(s0.shape)\n",
    "#print(\"Removed columns: \",cols_removed)\n",
    "\n",
    "\n",
    "FASTA_data_outfile, FASTA_ref_outfile = write_FASTA(s0,pfam_id,pdb,ipdb)\n",
    "\n",
    "#print(np.array(trimmed_data).shape)\n",
    "#print(len(trimmed_data[0][1]))\n",
    "#print(len(trimmed_data[5][1]))\n",
    "tools.hide_toggle()"
   ]
  },
  {
   "cell_type": "markdown",
   "metadata": {},
   "source": [
    "We import pydca. We Import and process MSA file and write the processed MSA data to an output file MSA_PF00186.fa in FASTA format. Next we carry out DCA computations using the processed MSA saved in MSA_PF00186.fa\n",
    "\n",
    "### DCA Computation Using Pseudolikelihood Maximization Algorithm (plmDCA)"
   ]
  },
  {
   "cell_type": "code",
   "execution_count": 3,
   "metadata": {},
   "outputs": [
    {
     "name": "stdout",
     "output_type": "stream",
     "text": [
      "sorted_DI (list) has shape:  (9316, 2) \n",
      "Rows: all combinations of sequence postitions ie sequence len choose 2 \n",
      "num sequences = 1 , sequences len = 137\n",
      "\n",
      "\n",
      "Print top 10 pairs\n",
      "(35, 62) 1.860295978989739e-05\n",
      "(35, 85) 1.860295978989739e-05\n",
      "(62, 85) 1.8602948379799547e-05\n",
      "(35, 96) 1.8602948240792008e-05\n",
      "(35, 107) 1.8602948240792008e-05\n",
      "(35, 129) 1.8602948240792008e-05\n",
      "(35, 136) 1.8602948240792008e-05\n",
      "(35, 47) 1.860294026470782e-05\n",
      "(35, 59) 1.860294026470782e-05\n",
      "(35, 68) 1.860294026470782e-05\n"
     ]
    },
    {
     "data": {
      "text/html": [
       "\n",
       "        <script>\n",
       "            function code_toggle_9204552495559756974() {\n",
       "                $('div.cell.code_cell.rendered.selected').find('div.input').toggle();\n",
       "            }\n",
       "\n",
       "            \n",
       "        </script>\n",
       "\n",
       "        <a href=\"javascript:code_toggle_9204552495559756974()\">Toggle show/hide</a>\n",
       "    "
      ],
      "text/plain": [
       "<IPython.core.display.HTML object>"
      ]
     },
     "execution_count": 3,
     "metadata": {},
     "output_type": "execute_result"
    }
   ],
   "source": [
    "# Compute DCA scores using Pseudolikelihood maximization algorithm\n",
    "\n",
    "plmdca_inst = plmdca.PlmDCA(\n",
    "    FASTA_data_outfile,\n",
    "    'protein',\n",
    "    seqid = 0.8,\n",
    "    lambda_h = 1.0,\n",
    "    lambda_J = 20.0,\n",
    "    num_threads = 10,\n",
    "    max_iterations = 500,\n",
    ")\n",
    "#print(\"properties of plmDCA object: \\n\",dir(plmdca_inst),\"\\n\\n\")\n",
    "\n",
    "sorted_DI = plmdca_inst.compute_sorted_DI()\n",
    "\n",
    "N = plmdca_inst.sequences_len\n",
    "B = plmdca_inst.num_sequences\n",
    "print(\"sorted_DI (list) has shape: \",np.array(sorted_DI).shape,\"\\nRows: all combinations of sequence postitions ie sequence len choose 2 \")\n",
    "print(\"num sequences = %d , sequences len = %d\\n\\n\"%(B,N))\n",
    "\n",
    "print(\"Print top 10 pairs\")\n",
    "for site_pair, score in sorted_DI[:10]:\n",
    "    print(site_pair, score)\n",
    "\n",
    "\n",
    "# compute DCA scores summarized by Frobenius norm and average product corrected\n",
    "plmdca_FN_APC = plmdca_inst.compute_sorted_FN_APC()\n",
    "tools.hide_toggle()"
   ]
  },
  {
   "cell_type": "markdown",
   "metadata": {},
   "source": [
    "## PlmDCA for Protein PF00186. \n",
    "* we used the data processed sequence alignment (our version) and not the trimmed MSA data from pydca\n",
    "* We also set the values of optional parameters. \n",
    "* pydca can also be used to compute DCA scores from the Frobenius norm of the couplings by calling the compute_sorted_FN_APC() method on plmdca_inst\n",
    "    * This action returns the average product corrected (APC) DCA scores. Let us print the top five site pairs and their DCA scores."
   ]
  },
  {
   "cell_type": "code",
   "execution_count": 4,
   "metadata": {},
   "outputs": [
    {
     "name": "stdout",
     "output_type": "stream",
     "text": [
      "Calculated DI: (shape, matrix)\n",
      " (137, 137) \n",
      " [[0.00000000e+00 1.86024055e-05 1.86021369e-05 ... 1.86021399e-05\n",
      "  1.86021399e-05 1.86024800e-05]\n",
      " [0.00000000e+00 0.00000000e+00 1.86025300e-05 ... 1.86025302e-05\n",
      "  1.86025302e-05 1.86028591e-05]\n",
      " [0.00000000e+00 0.00000000e+00 0.00000000e+00 ... 1.86022729e-05\n",
      "  1.86022729e-05 1.86026046e-05]\n",
      " ...\n",
      " [0.00000000e+00 0.00000000e+00 0.00000000e+00 ... 0.00000000e+00\n",
      "  1.86022758e-05 1.86026075e-05]\n",
      " [0.00000000e+00 0.00000000e+00 0.00000000e+00 ... 0.00000000e+00\n",
      "  0.00000000e+00 1.86026075e-05]\n",
      " [0.00000000e+00 0.00000000e+00 0.00000000e+00 ... 0.00000000e+00\n",
      "  0.00000000e+00 0.00000000e+00]]\n"
     ]
    },
    {
     "data": {
      "text/html": [
       "\n",
       "        <script>\n",
       "            function code_toggle_13891551721340584969() {\n",
       "                $('div.cell.code_cell.rendered.selected').find('div.input').toggle();\n",
       "            }\n",
       "\n",
       "            \n",
       "        </script>\n",
       "\n",
       "        <a href=\"javascript:code_toggle_13891551721340584969()\">Toggle show/hide</a>\n",
       "    "
      ],
      "text/plain": [
       "<IPython.core.display.HTML object>"
      ]
     },
     "execution_count": 4,
     "metadata": {},
     "output_type": "execute_result"
    }
   ],
   "source": [
    "# Generate Direct Information matrix\n",
    "DI = np.zeros((N,N))\n",
    "DI_ver= np.array(sorted_DI)\n",
    "for coupling in sorted_DI:\n",
    "    DI[coupling[0][0],coupling[0][1]] = coupling[1]\n",
    "print(\"Calculated DI: (shape, matrix)\\n\",DI.shape,\"\\n\",DI)\n",
    "np.save(\"plmDCA_DI_%s.npy\"%(pfam_id),DI)\n",
    "\n",
    "tools.hide_toggle()"
   ]
  },
  {
   "cell_type": "markdown",
   "metadata": {},
   "source": [
    "## Visualization in pydca\n",
    "* Need Reference Sequence to contain no gaps\n",
    "    * This is an option in data_processing (ie find and replace all '-')\n",
    "    * Have not tested accurace of methods with randomized replace ment of gaps"
   ]
  },
  {
   "cell_type": "code",
   "execution_count": 5,
   "metadata": {},
   "outputs": [
    {
     "name": "stderr",
     "output_type": "stream",
     "text": [
      "\n",
      "\tThe sequence --LIVYAANRVRDNTLPRLPGDLAHKRSLGHPVINWESLGRPPGLNIVISRNSEYEAAGASVYPSLEAALAACTAEASPYIIAQIYRLALPLARRVVAEVHASIEGAYFQLPGDEWMETSRSERQTENGYEYDFVVY\n",
      "\tis neither protein nor RNA. Does it contain non-standared residues?\n",
      "\tPlease note that reference sequences are assumed to contain\n",
      "\tonly standared residues.\n"
     ]
    },
    {
     "ename": "RefSeqContentException",
     "evalue": "",
     "output_type": "error",
     "traceback": [
      "\u001b[0;31m---------------------------------------------------------------------------\u001b[0m",
      "\u001b[0;31mRefSeqContentException\u001b[0m                    Traceback (most recent call last)",
      "\u001b[0;32m<ipython-input-5-125dd17ed7cb>\u001b[0m in \u001b[0;36m<module>\u001b[0;34m\u001b[0m\n\u001b[1;32m      6\u001b[0m     \u001b[0msorted_dca_scores\u001b[0m \u001b[0;34m=\u001b[0m \u001b[0mplmdca_FN_APC\u001b[0m\u001b[0;34m,\u001b[0m\u001b[0;34m\u001b[0m\u001b[0;34m\u001b[0m\u001b[0m\n\u001b[1;32m      7\u001b[0m     \u001b[0mlinear_dist\u001b[0m \u001b[0;34m=\u001b[0m \u001b[0;36m4\u001b[0m\u001b[0;34m,\u001b[0m\u001b[0;34m\u001b[0m\u001b[0;34m\u001b[0m\u001b[0m\n\u001b[0;32m----> 8\u001b[0;31m     \u001b[0mcontact_dist\u001b[0m \u001b[0;34m=\u001b[0m \u001b[0;36m8.0\u001b[0m\u001b[0;34m,\u001b[0m\u001b[0;34m\u001b[0m\u001b[0;34m\u001b[0m\u001b[0m\n\u001b[0m\u001b[1;32m      9\u001b[0m )\n\u001b[1;32m     10\u001b[0m \u001b[0;34m\u001b[0m\u001b[0m\n",
      "\u001b[0;32m~/anaconda3/lib/python3.7/site-packages/pydca-1.22-py3.7-linux-x86_64.egg/pydca/contact_visualizer/contact_visualizer.py\u001b[0m in \u001b[0;36m__init__\u001b[0;34m(self, biomolecule, pdb_chain_id, pdb_file, refseq_file, dca_file, sorted_dca_scores, rna_secstruct_file, linear_dist, contact_dist, num_dca_contacts, wc_neighbor_dist, pdb_id)\u001b[0m\n\u001b[1;32m    994\u001b[0m         \u001b[0;32mif\u001b[0m \u001b[0mrefseq_file\u001b[0m \u001b[0;32mis\u001b[0m \u001b[0;32mnot\u001b[0m \u001b[0;32mNone\u001b[0m\u001b[0;34m:\u001b[0m\u001b[0;34m\u001b[0m\u001b[0;34m\u001b[0m\u001b[0m\n\u001b[1;32m    995\u001b[0m             self.__refseq_content = RefSeqContent(refseq_file,\n\u001b[0;32m--> 996\u001b[0;31m                 \u001b[0mbiomolecule\u001b[0m \u001b[0;34m=\u001b[0m \u001b[0mself\u001b[0m\u001b[0;34m.\u001b[0m\u001b[0m__biomolecule\u001b[0m\u001b[0;34m,\u001b[0m\u001b[0;34m\u001b[0m\u001b[0;34m\u001b[0m\u001b[0m\n\u001b[0m\u001b[1;32m    997\u001b[0m             )\n\u001b[1;32m    998\u001b[0m         \u001b[0;32melse\u001b[0m\u001b[0;34m:\u001b[0m\u001b[0;34m\u001b[0m\u001b[0;34m\u001b[0m\u001b[0m\n",
      "\u001b[0;32m~/anaconda3/lib/python3.7/site-packages/pydca-1.22-py3.7-linux-x86_64.egg/pydca/contact_visualizer/contact_visualizer.py\u001b[0m in \u001b[0;36m__init__\u001b[0;34m(self, refseq_file, biomolecule)\u001b[0m\n\u001b[1;32m    472\u001b[0m                 )\n\u001b[1;32m    473\u001b[0m                 \u001b[0;32mraise\u001b[0m \u001b[0mRefSeqContentException\u001b[0m\u001b[0;34m\u001b[0m\u001b[0;34m\u001b[0m\u001b[0m\n\u001b[0;32m--> 474\u001b[0;31m         \u001b[0mself\u001b[0m\u001b[0;34m.\u001b[0m\u001b[0m__sequences\u001b[0m \u001b[0;34m=\u001b[0m \u001b[0mself\u001b[0m\u001b[0;34m.\u001b[0m\u001b[0mget_ref_seqs_from_fasta_file\u001b[0m\u001b[0;34m(\u001b[0m\u001b[0;34m)\u001b[0m\u001b[0;34m\u001b[0m\u001b[0;34m\u001b[0m\u001b[0m\n\u001b[0m\u001b[1;32m    475\u001b[0m         \u001b[0;32mreturn\u001b[0m \u001b[0;32mNone\u001b[0m\u001b[0;34m\u001b[0m\u001b[0;34m\u001b[0m\u001b[0m\n\u001b[1;32m    476\u001b[0m \u001b[0;34m\u001b[0m\u001b[0m\n",
      "\u001b[0;32m~/anaconda3/lib/python3.7/site-packages/pydca-1.22-py3.7-linux-x86_64.egg/pydca/contact_visualizer/contact_visualizer.py\u001b[0m in \u001b[0;36mget_ref_seqs_from_fasta_file\u001b[0;34m(self)\u001b[0m\n\u001b[1;32m    508\u001b[0m             \u001b[0msequence\u001b[0m \u001b[0;34m=\u001b[0m \u001b[0mrecord\u001b[0m\u001b[0;34m.\u001b[0m\u001b[0mseq\u001b[0m\u001b[0;34m.\u001b[0m\u001b[0mupper\u001b[0m\u001b[0;34m(\u001b[0m\u001b[0;34m)\u001b[0m\u001b[0;34m\u001b[0m\u001b[0;34m\u001b[0m\u001b[0m\n\u001b[1;32m    509\u001b[0m             \u001b[0;32mif\u001b[0m \u001b[0msequence\u001b[0m\u001b[0;34m:\u001b[0m\u001b[0;34m\u001b[0m\u001b[0;34m\u001b[0m\u001b[0m\n\u001b[0;32m--> 510\u001b[0;31m                 \u001b[0mseq_type\u001b[0m \u001b[0;34m=\u001b[0m \u001b[0mself\u001b[0m\u001b[0;34m.\u001b[0m\u001b[0midentify_seq_type\u001b[0m\u001b[0;34m(\u001b[0m\u001b[0msequence\u001b[0m\u001b[0;34m)\u001b[0m\u001b[0;34m\u001b[0m\u001b[0;34m\u001b[0m\u001b[0m\n\u001b[0m\u001b[1;32m    511\u001b[0m                 \u001b[0mseq_str\u001b[0m \u001b[0;34m=\u001b[0m  \u001b[0;34m''\u001b[0m\u001b[0;34m.\u001b[0m\u001b[0mjoin\u001b[0m\u001b[0;34m(\u001b[0m\u001b[0mlist\u001b[0m\u001b[0;34m(\u001b[0m\u001b[0msequence\u001b[0m\u001b[0;34m)\u001b[0m\u001b[0;34m)\u001b[0m\u001b[0;34m\u001b[0m\u001b[0;34m\u001b[0m\u001b[0m\n\u001b[1;32m    512\u001b[0m                 \u001b[0mref_sequences\u001b[0m\u001b[0;34m[\u001b[0m\u001b[0mk\u001b[0m\u001b[0;34m]\u001b[0m\u001b[0;34m=\u001b[0m \u001b[0;34m(\u001b[0m\u001b[0mseq_type\u001b[0m\u001b[0;34m,\u001b[0m \u001b[0mseq_str\u001b[0m\u001b[0;34m)\u001b[0m\u001b[0;34m\u001b[0m\u001b[0;34m\u001b[0m\u001b[0m\n",
      "\u001b[0;32m~/anaconda3/lib/python3.7/site-packages/pydca-1.22-py3.7-linux-x86_64.egg/pydca/contact_visualizer/contact_visualizer.py\u001b[0m in \u001b[0;36midentify_seq_type\u001b[0;34m(the_sequence)\u001b[0m\n\u001b[1;32m    570\u001b[0m                 \u001b[0;34m'\\n\\tonly standared residues.'\u001b[0m\u001b[0;34m.\u001b[0m\u001b[0mformat\u001b[0m\u001b[0;34m(\u001b[0m\u001b[0mthe_sequence\u001b[0m\u001b[0;34m)\u001b[0m\u001b[0;34m\u001b[0m\u001b[0;34m\u001b[0m\u001b[0m\n\u001b[1;32m    571\u001b[0m             )\n\u001b[0;32m--> 572\u001b[0;31m             \u001b[0;32mraise\u001b[0m \u001b[0mRefSeqContentException\u001b[0m\u001b[0;34m\u001b[0m\u001b[0;34m\u001b[0m\u001b[0m\n\u001b[0m\u001b[1;32m    573\u001b[0m \u001b[0;34m\u001b[0m\u001b[0m\n\u001b[1;32m    574\u001b[0m         \u001b[0;32mreturn\u001b[0m \u001b[0mseq_type\u001b[0m\u001b[0;34m\u001b[0m\u001b[0;34m\u001b[0m\u001b[0m\n",
      "\u001b[0;31mRefSeqContentException\u001b[0m: "
     ]
    }
   ],
   "source": [
    "# compute DCA scores summarized by Frobenius norm and average product corrected\n",
    "plmdca_FN_APC = plmdca_inst.compute_sorted_FN_APC()\n",
    "\n",
    "plmdca_visualizer = contact_visualizer.DCAVisualizer('protein', pdb[ipdb,6], pdb[ipdb,5],\n",
    "    refseq_file = FASTA_ref_outfile,\n",
    "    sorted_dca_scores = plmdca_FN_APC,\n",
    "    linear_dist = 4,\n",
    "    contact_dist = 8.0,\n",
    ")\n",
    "\n",
    "contact_map_data = plmdca_visualizer.plot_contact_map()\n",
    "tp_rate_data = plmdca_visualizer.plot_true_positive_rates()"
   ]
  },
  {
   "cell_type": "code",
   "execution_count": null,
   "metadata": {},
   "outputs": [],
   "source": []
  }
 ],
 "metadata": {
  "kernelspec": {
   "display_name": "Python 3",
   "language": "python",
   "name": "python3"
  },
  "language_info": {
   "codemirror_mode": {
    "name": "ipython",
    "version": 3
   },
   "file_extension": ".py",
   "mimetype": "text/x-python",
   "name": "python",
   "nbconvert_exporter": "python",
   "pygments_lexer": "ipython3",
   "version": "3.7.4"
  }
 },
 "nbformat": 4,
 "nbformat_minor": 2
}
