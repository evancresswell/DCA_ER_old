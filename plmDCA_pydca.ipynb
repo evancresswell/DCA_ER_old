{
 "cells": [
  {
   "cell_type": "code",
   "execution_count": 1,
   "metadata": {},
   "outputs": [
    {
     "data": {
      "text/html": [
       "\n",
       "        <script>\n",
       "            function code_toggle_18297494938895377301() {\n",
       "                $('div.cell.code_cell.rendered.selected').find('div.input').toggle();\n",
       "            }\n",
       "\n",
       "            \n",
       "        </script>\n",
       "\n",
       "        <a href=\"javascript:code_toggle_18297494938895377301()\">Toggle show/hide</a>\n",
       "    "
      ],
      "text/plain": [
       "<IPython.core.display.HTML object>"
      ]
     },
     "execution_count": 1,
     "metadata": {},
     "output_type": "execute_result"
    }
   ],
   "source": [
    "import ecc_tools as tools\n",
    "import numpy as np\n",
    "import pandas as pd\n",
    "from scipy import linalg\n",
    "from sklearn.preprocessing import OneHotEncoder\n",
    "#import emachine as EM\n",
    "from direct_info import direct_info\n",
    "from ecc_tools import distance_restr\n",
    "\n",
    "import Bio.PDB, warnings\n",
    "pdb_list = Bio.PDB.PDBList()\n",
    "pdb_parser = Bio.PDB.PDBParser()\n",
    "from scipy.spatial import distance_matrix\n",
    "from Bio import BiopythonWarning\n",
    "warnings.simplefilter('ignore', BiopythonWarning)\n",
    "\n",
    "from scipy.sparse import csr_matrix\n",
    "from joblib import Parallel, delayed\n",
    "import timeit\n",
    "\n",
    "import matplotlib.pyplot as plt\n",
    "%matplotlib inline\n",
    "\n",
    "import sys\n",
    "import numpy as np\n",
    "from scipy import linalg\n",
    "from sklearn.preprocessing import OneHotEncoder\n",
    "import expectation_reflection as ER\n",
    "from direct_info import direct_info\n",
    "from joblib import Parallel, delayed\n",
    "\n",
    "# import pydca for plmDCA\n",
    "from pydca.plmdca import plmdca\n",
    "from pydca.meanfield_dca import meanfield_dca\n",
    "from pydca.sequence_backmapper import sequence_backmapper\n",
    "from pydca.msa_trimmer import msa_trimmer\n",
    "from pydca.contact_visualizer import contact_visualizer\n",
    "from pydca.dca_utilities import dca_utilities\n",
    "\n",
    "tools.hide_toggle()"
   ]
  },
  {
   "cell_type": "markdown",
   "metadata": {},
   "source": [
    "## Using comprehensive software package for DCA\n",
    "#### Author: Mehari B. Zerihun\n",
    "article: https://academic.oup.com/bioinformatics/advance-article/doi/10.1093/bioinformatics/btz892/5645176\n",
    "github: https://github.com/KIT-MBS/pydca\n",
    "* mean field and pseudoliklihood methos\n",
    "* several utility functions\n",
    "    * MSA triming functions\n",
    "    * Contact Map Plotting Functions"
   ]
  },
  {
   "cell_type": "code",
   "execution_count": 2,
   "metadata": {},
   "outputs": [
    {
     "name": "stdout",
     "output_type": "stream",
     "text": [
      "number of pdb structures:  372\n",
      "Referene Seq:  69\n",
      "tpdb is now  56\n",
      "(6734, 137)\n",
      "Reference Sequence (shape= (137,) ): \n",
      " [ 7 15  6  7 17 10  2  3 11 14 17  8  2 11 14  9 12  6  9 12  0  2  9  0\n",
      " 19  8 14 17 10  5  6  0  7 17  8  4  3  0  7  5 14 12 12  5  2 11 17 17\n",
      " 17 16 14 11 14 15  4 14 12  3  5  1  9 17  9  6 15  9  3  3 17  8 13 18\n",
      "  7  0 15 14  2  3 17  4  7  7  0  3  9  4 14  0 16 10 12  7 17  2 14  9\n",
      " 19 17  8  7  4  0 15  4 12  5 16  4 19 12  7 15  2  2  3 18  3  7 17 15\n",
      " 19 16 12  5  5  3  8 11 12 19  3  6  0  4  7  7 19]\n",
      "Reference Sequence number:  56\n",
      "Reference Sequence (shape= (137,) ):\n",
      " ['I' 'S' 'H' 'I' 'V' 'M' 'D' 'E' 'N' 'R' 'V' 'K' 'D' 'N' 'R' 'L' 'P' 'H'\n",
      " 'L' 'P' 'A' 'D' 'L' 'A' 'Y' 'K' 'R' 'V' 'M' 'G' 'H' 'A' 'I' 'V' 'K' 'F'\n",
      " 'E' 'A' 'I' 'G' 'R' 'P' 'P' 'G' 'D' 'N' 'V' 'V' 'V' 'T' 'R' 'N' 'R' 'S'\n",
      " 'F' 'R' 'P' 'E' 'G' 'C' 'L' 'V' 'L' 'H' 'S' 'L' 'E' 'E' 'V' 'K' 'Q' 'W'\n",
      " 'I' 'A' 'S' 'R' 'D' 'E' 'V' 'F' 'I' 'I' 'A' 'E' 'L' 'F' 'R' 'A' 'T' 'M'\n",
      " 'P' 'I' 'V' 'D' 'R' 'L' 'Y' 'V' 'K' 'I' 'F' 'A' 'S' 'F' 'P' 'G' 'T' 'F'\n",
      " 'Y' 'P' 'I' 'S' 'D' 'D' 'E' 'W' 'E' 'I' 'V' 'S' 'Y' 'T' 'P' 'G' 'G' 'E'\n",
      " 'K' 'N' 'P' 'Y' 'E' 'H' 'A' 'F' 'I' 'I' 'Y']\n",
      "Writing processed MSA (shape= (6734, 137) ) to FASTA files:\n",
      " [['I' 'S' 'F' ... 'E' '-' 'W']\n",
      " ['L' 'A' 'L' ... 'V' 'V' 'Y']\n",
      " ['-' '-' 'V' ... '-' '-' '-']\n",
      " ...\n",
      " ['V' 'S' 'L' ... 'N' 'V' 'Y']\n",
      " ['V' 'S' 'A' ... 'K' 'V' 'Y']\n",
      " ['F' 'S' 'I' ... 'I' 'I' 'Y']]\n"
     ]
    },
    {
     "data": {
      "text/html": [
       "\n",
       "        <script>\n",
       "            function code_toggle_16041933693955846619() {\n",
       "                $('div.cell.code_cell.rendered.selected').find('div.input').toggle();\n",
       "            }\n",
       "\n",
       "            \n",
       "        </script>\n",
       "\n",
       "        <a href=\"javascript:code_toggle_16041933693955846619()\">Toggle show/hide</a>\n",
       "    "
      ],
      "text/plain": [
       "<IPython.core.display.HTML object>"
      ]
     },
     "execution_count": 2,
     "metadata": {},
     "output_type": "execute_result"
    }
   ],
   "source": [
    "# Read in Protein structure\n",
    "data_path = '../Pfam-A.full'\n",
    "pfam_id = 'PF00186'\n",
    "pdb = np.load('%s/%s/pdb_refs.npy'%(data_path,pfam_id))\n",
    "\n",
    "# Pre-Process Structure Data\n",
    "# delete 'b' in front of letters (python 2 --> python 3)\n",
    "pdb = np.array([pdb[t,i].decode('UTF-8') for t in range(pdb.shape[0]) \\\n",
    "         for i in range(pdb.shape[1])]).reshape(pdb.shape[0],pdb.shape[1])\n",
    "\n",
    "# Print number of pdb structures in Protein ID folder\n",
    "npdb = pdb.shape[0]\n",
    "print('number of pdb structures: ',npdb)\n",
    "\n",
    "# Print PDB array \n",
    "#print(pdb)\n",
    "#print(pdb[0])\n",
    "\n",
    "# Create pandas dataframe for protein structure\n",
    "df = pd.DataFrame(pdb,columns = ['PF','seq','id','uniprot_start','uniprot_start',\\\n",
    "                                 'pdb_id','chain','pdb_start','pdb_end'])\n",
    "#print(\"pdb ids:\\n\",df['id'])\n",
    "#print(df.head())\n",
    "\n",
    "ipdb = 0\n",
    "print('Referene Seq: ',int(pdb[ipdb,1]))\n",
    "\n",
    "from data_processing import data_processing\n",
    "from data_processing import write_FASTA\n",
    "\n",
    "#------------- Data Processing ------------------#\n",
    "s0,cols_removed,s_index,s_ipdb = data_processing(data_path,pfam_id,ipdb,\\\n",
    "                gap_seqs=0.2,gap_cols=0.2,prob_low=0.004,conserved_cols=0.9)\n",
    "# s_index - key for original indices after column removal during processing\n",
    "# s_ipdb - new index for ipdb after bad sequence removal\n",
    "#------------------------------------------------#\n",
    "\n",
    "print(s0.shape)\n",
    "print(\"Reference Sequence (shape=\",s0[s_ipdb].shape,\"): \\n\",s0[s_ipdb])\n",
    "#print(\"Removed columns: \",cols_removed)\n",
    "\n",
    "\n",
    "FASTA_data_outfile, FASTA_ref_outfile = write_FASTA(s0,pfam_id,s_ipdb)\n",
    "\n",
    "#print(np.array(trimmed_data).shape)\n",
    "#print(len(trimmed_data[0][1]))\n",
    "#print(len(trimmed_data[5][1]))\n",
    "tools.hide_toggle()"
   ]
  },
  {
   "cell_type": "markdown",
   "metadata": {},
   "source": [
    "We import pydca. We Import and process MSA file and write the processed MSA data to an output file MSA_PF00186.fa in FASTA format. Next we carry out DCA computations using the processed MSA saved in MSA_PF00186.fa\n",
    "\n",
    "### DCA Computation Using Pseudolikelihood Maximization Algorithm (plmDCA)"
   ]
  },
  {
   "cell_type": "code",
   "execution_count": 3,
   "metadata": {},
   "outputs": [
    {
     "name": "stdout",
     "output_type": "stream",
     "text": [
      "sorted_DI (list) has shape:  (9316, 2) \n",
      "Rows: all combinations of sequence postitions ie sequence len choose 2 \n",
      "num sequences = 1 , sequences len = 137\n",
      "\n",
      "\n",
      "Print top 10 pairs\n",
      "(1, 62) 1.860289049061863e-05\n",
      "(37, 62) 1.860289049061863e-05\n",
      "(49, 62) 1.860289049061863e-05\n",
      "(62, 66) 1.8602890134851593e-05\n",
      "(27, 62) 1.8602890134706798e-05\n",
      "(32, 62) 1.8602890134706798e-05\n",
      "(47, 62) 1.8602890134706798e-05\n",
      "(59, 62) 1.8602890134706798e-05\n",
      "(52, 62) 1.860289013468144e-05\n",
      "(62, 68) 1.86028901346096e-05\n"
     ]
    },
    {
     "data": {
      "text/html": [
       "\n",
       "        <script>\n",
       "            function code_toggle_12015229943256702150() {\n",
       "                $('div.cell.code_cell.rendered.selected').find('div.input').toggle();\n",
       "            }\n",
       "\n",
       "            \n",
       "        </script>\n",
       "\n",
       "        <a href=\"javascript:code_toggle_12015229943256702150()\">Toggle show/hide</a>\n",
       "    "
      ],
      "text/plain": [
       "<IPython.core.display.HTML object>"
      ]
     },
     "execution_count": 3,
     "metadata": {},
     "output_type": "execute_result"
    }
   ],
   "source": [
    "# Compute DCA scores using Pseudolikelihood maximization algorithm\n",
    "\n",
    "plmdca_inst = plmdca.PlmDCA(\n",
    "    FASTA_data_outfile,\n",
    "    'protein',\n",
    "    seqid = 0.8,\n",
    "    lambda_h = 1.0,\n",
    "    lambda_J = 20.0,\n",
    "    num_threads = 10,\n",
    "    max_iterations = 500,\n",
    ")\n",
    "#print(\"properties of plmDCA object: \\n\",dir(plmdca_inst),\"\\n\\n\")\n",
    "\n",
    "sorted_DI = plmdca_inst.compute_sorted_DI()\n",
    "\n",
    "N = plmdca_inst.sequences_len\n",
    "B = plmdca_inst.num_sequences\n",
    "print(\"sorted_DI (list) has shape: \",np.array(sorted_DI).shape,\"\\nRows: all combinations of sequence postitions ie sequence len choose 2 \")\n",
    "print(\"num sequences = %d , sequences len = %d\\n\\n\"%(B,N))\n",
    "\n",
    "print(\"Print top 10 pairs\")\n",
    "for site_pair, score in sorted_DI[:10]:\n",
    "    print(site_pair, score)\n",
    "\n",
    "\n",
    "# compute DCA scores summarized by Frobenius norm and average product corrected\n",
    "plmdca_FN_APC = plmdca_inst.compute_sorted_FN_APC()\n",
    "tools.hide_toggle()"
   ]
  },
  {
   "cell_type": "markdown",
   "metadata": {},
   "source": [
    "## PlmDCA for Protein PF00186. \n",
    "* we used the data processed sequence alignment (our version) and not the trimmed MSA data from pydca\n",
    "* We also set the values of optional parameters. \n",
    "* pydca can also be used to compute DCA scores from the Frobenius norm of the couplings by calling the compute_sorted_FN_APC() method on plmdca_inst\n",
    "    * This action returns the average product corrected (APC) DCA scores. Let us print the top five site pairs and their DCA scores."
   ]
  },
  {
   "cell_type": "code",
   "execution_count": 4,
   "metadata": {},
   "outputs": [
    {
     "name": "stdout",
     "output_type": "stream",
     "text": [
      "Calculated DI: (shape, matrix)\n",
      " (137, 137) \n",
      " [[0.00000000e+00 1.86024787e-05 1.86021317e-05 ... 1.86021319e-05\n",
      "  1.86021319e-05 1.86024726e-05]\n",
      " [0.00000000e+00 0.00000000e+00 1.86025326e-05 ... 1.86025328e-05\n",
      "  1.86025328e-05 1.86028819e-05]\n",
      " [0.00000000e+00 0.00000000e+00 0.00000000e+00 ... 1.86021635e-05\n",
      "  1.86021635e-05 1.86025209e-05]\n",
      " ...\n",
      " [0.00000000e+00 0.00000000e+00 0.00000000e+00 ... 0.00000000e+00\n",
      "  1.86021637e-05 1.86025212e-05]\n",
      " [0.00000000e+00 0.00000000e+00 0.00000000e+00 ... 0.00000000e+00\n",
      "  0.00000000e+00 1.86025212e-05]\n",
      " [0.00000000e+00 0.00000000e+00 0.00000000e+00 ... 0.00000000e+00\n",
      "  0.00000000e+00 0.00000000e+00]]\n"
     ]
    },
    {
     "data": {
      "text/html": [
       "\n",
       "        <script>\n",
       "            function code_toggle_3364686170651005928() {\n",
       "                $('div.cell.code_cell.rendered.selected').find('div.input').toggle();\n",
       "            }\n",
       "\n",
       "            \n",
       "        </script>\n",
       "\n",
       "        <a href=\"javascript:code_toggle_3364686170651005928()\">Toggle show/hide</a>\n",
       "    "
      ],
      "text/plain": [
       "<IPython.core.display.HTML object>"
      ]
     },
     "execution_count": 4,
     "metadata": {},
     "output_type": "execute_result"
    }
   ],
   "source": [
    "# Generate Direct Information matrix\n",
    "DI = np.zeros((N,N))\n",
    "DI_ver= np.array(sorted_DI)\n",
    "for coupling in sorted_DI:\n",
    "    DI[coupling[0][0],coupling[0][1]] = coupling[1]\n",
    "print(\"Calculated DI: (shape, matrix)\\n\",DI.shape,\"\\n\",DI)\n",
    "np.save(\"plmDCA_DI_%s.npy\"%(pfam_id),DI)\n",
    "\n",
    "tools.hide_toggle()"
   ]
  },
  {
   "cell_type": "markdown",
   "metadata": {},
   "source": [
    "## Visualization in pydca\n",
    "* Need Reference Sequence to contain no gaps\n",
    "    * This is an option in data_processing (ie find and replace all '-')\n",
    "    * Have not tested accurace of methods with randomized replace ment of gaps"
   ]
  },
  {
   "cell_type": "code",
   "execution_count": 5,
   "metadata": {},
   "outputs": [
    {
     "name": "stderr",
     "output_type": "stream",
     "text": [
      "\n",
      "\tThe reference sequence contains less number of residues compared to PDB chain sequence. \n",
      "\tMake sure that you have provided correct input data.\n"
     ]
    },
    {
     "data": {
      "image/png": "[encoded data removed]",
      "text/plain": [
       "<Figure size 360x360 with 1 Axes>"
      ]
     },
     "metadata": {
      "needs_background": "light"
     },
     "output_type": "display_data"
    },
    {
     "name": "stderr",
     "output_type": "stream",
     "text": [
      "\n",
      "\tThe reference sequence contains less number of residues compared to PDB chain sequence. \n",
      "\tMake sure that you have provided correct input data.\n"
     ]
    },
    {
     "data": {
      "image/png": "[encoded data removed]",
      "text/plain": [
       "<Figure size 360x360 with 1 Axes>"
      ]
     },
     "metadata": {
      "needs_background": "light"
     },
     "output_type": "display_data"
    }
   ],
   "source": [
    "# compute DCA scores summarized by Frobenius norm and average product corrected\n",
    "plmdca_FN_APC = plmdca_inst.compute_sorted_FN_APC()\n",
    "\n",
    "plmdca_visualizer = contact_visualizer.DCAVisualizer('protein', pdb[ipdb,6], pdb[ipdb,5],\n",
    "    refseq_file = FASTA_ref_outfile,\n",
    "    sorted_dca_scores = plmdca_FN_APC,\n",
    "    linear_dist = 4,\n",
    "    contact_dist = 8.0,\n",
    ")\n",
    "\n",
    "contact_map_data = plmdca_visualizer.plot_contact_map()\n",
    "tp_rate_data = plmdca_visualizer.plot_true_positive_rates()"
   ]
  },
  {
   "cell_type": "code",
   "execution_count": null,
   "metadata": {},
   "outputs": [],
   "source": []
  }
 ],
 "metadata": {
  "kernelspec": {
   "display_name": "Python 3",
   "language": "python",
   "name": "python3"
  },
  "language_info": {
   "codemirror_mode": {
    "name": "ipython",
    "version": 3
   },
   "file_extension": ".py",
   "mimetype": "text/x-python",
   "name": "python",
   "nbconvert_exporter": "python",
   "pygments_lexer": "ipython3",
   "version": "3.7.4"
  }
 },
 "nbformat": 4,
 "nbformat_minor": 2
}
