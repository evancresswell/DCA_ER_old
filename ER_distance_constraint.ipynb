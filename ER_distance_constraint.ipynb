{
 "cells": [
  {
   "cell_type": "markdown",
   "metadata": {},
   "source": [
    "# Implementing distance constraint in ER\n",
    "* We will not compare sequences i and j if |i-j| < 5"
   ]
  },
  {
   "cell_type": "code",
   "execution_count": 2,
   "metadata": {
    "scrolled": true
   },
   "outputs": [
    {
     "data": {
      "text/html": [
       "\n",
       "        <script>\n",
       "            function code_toggle_13923600572889140455() {\n",
       "                $('div.cell.code_cell.rendered.selected').find('div.input').toggle();\n",
       "            }\n",
       "\n",
       "            \n",
       "        </script>\n",
       "\n",
       "        <a href=\"javascript:code_toggle_13923600572889140455()\">Toggle show/hide</a>\n",
       "    "
      ],
      "text/plain": [
       "<IPython.core.display.HTML object>"
      ]
     },
     "execution_count": 2,
     "metadata": {},
     "output_type": "execute_result"
    }
   ],
   "source": [
    "import ecc_tools as tools\n",
    "import numpy as np\n",
    "import pandas as pd\n",
    "from scipy import linalg\n",
    "from sklearn.preprocessing import OneHotEncoder\n",
    "#import emachine as EM\n",
    "from direct_info import direct_info\n",
    "\n",
    "import Bio.PDB, warnings\n",
    "pdb_list = Bio.PDB.PDBList()\n",
    "pdb_parser = Bio.PDB.PDBParser()\n",
    "from scipy.spatial import distance_matrix\n",
    "from Bio import BiopythonWarning\n",
    "warnings.simplefilter('ignore', BiopythonWarning)\n",
    "\n",
    "from scipy.sparse import csr_matrix\n",
    "from joblib import Parallel, delayed\n",
    "import timeit\n",
    "\n",
    "import matplotlib.pyplot as plt\n",
    "%matplotlib inline\n",
    "\n",
    "import sys\n",
    "import numpy as np\n",
    "from scipy import linalg\n",
    "from sklearn.preprocessing import OneHotEncoder\n",
    "import expectation_reflection as ER\n",
    "from direct_info import direct_info\n",
    "from joblib import Parallel, delayed\n",
    "\n",
    "tools.hide_toggle()"
   ]
  },
  {
   "cell_type": "markdown",
   "metadata": {},
   "source": [
    "### Read in Data"
   ]
  },
  {
   "cell_type": "code",
   "execution_count": 4,
   "metadata": {
    "scrolled": true
   },
   "outputs": [
    {
     "name": "stdout",
     "output_type": "stream",
     "text": [
      "number of pdb structures: 372\n",
      "[['PF00186' '69' 'Q5KZ26_GEOKA' ... 'B' '1' '160']\n",
      " ['PF00186' '69' 'Q5KZ26_GEOKA' ... 'A' '1' '160']\n",
      " ['PF00186' '83' 'Q81R22_BACAN' ... 'B' '2' '160']\n",
      " ...\n",
      " ['PF00186' '6952' 'DYR_MYCTU' ... 'A' '1' '158']\n",
      " ['PF00186' '7457' 'Q834R2_ENTFA' ... 'A' '1' '161']\n",
      " ['PF00186' '7457' 'Q834R2_ENTFA' ... 'A' '1' '161']]\n",
      "['PF00186' '69' 'Q5KZ26_GEOKA' '1' '160' '1ZDR' 'B' '1' '160']\n",
      "seq: 69\n",
      "shape of s (import from msa.npy):\n",
      " (7750, 918)\n",
      "shape of s (after UTF-8 decode):\n",
      " (7750, 918)\n",
      "pdb:\n",
      " [[b'PF00186' b'69' b'Q5KZ26_GEOKA' ... b'B' b'1' b'160']\n",
      " [b'PF00186' b'69' b'Q5KZ26_GEOKA' ... b'A' b'1' b'160']\n",
      " [b'PF00186' b'83' b'Q81R22_BACAN' ... b'B' b'2' b'160']\n",
      " ...\n",
      " [b'PF00186' b'6952' b'DYR_MYCTU' ... b'A' b'1' b'158']\n",
      " [b'PF00186' b'7457' b'Q834R2_ENTFA' ... b'A' b'1' b'161']\n",
      " [b'PF00186' b'7457' b'Q834R2_ENTFA' ... b'A' b'1' b'161']]\n",
      "pdb (after UTF-8 decode, removing 'b'):\n",
      " [['PF00186' '69' 'Q5KZ26_GEOKA' ... 'B' '1' '160']\n",
      " ['PF00186' '69' 'Q5KZ26_GEOKA' ... 'A' '1' '160']\n",
      " ['PF00186' '83' 'Q81R22_BACAN' ... 'B' '2' '160']\n",
      " ...\n",
      " ['PF00186' '6952' 'DYR_MYCTU' ... 'A' '1' '158']\n",
      " ['PF00186' '7457' 'Q834R2_ENTFA' ... 'A' '1' '161']\n",
      " ['PF00186' '7457' 'Q834R2_ENTFA' ... 'A' '1' '161']]\n",
      "#\n",
      "\n",
      "-------------------------Remove Gaps--------------------------#\n",
      "s[tpdb] shape is  (918,)\n",
      "s = \n",
      " [['-' '-' '-' ... '-' '-' '-']\n",
      " ['-' '-' '-' ... '-' '-' '-']\n",
      " ['-' '-' '-' ... '-' '-' '-']\n",
      " ...\n",
      " ['-' '-' '-' ... '-' '-' '-']\n",
      " ['-' '-' '-' ... '-' '-' '-']\n",
      " ['-' '-' '-' ... '-' '-' '-']]\n",
      "removing gaps...\n",
      "s[tpdb] shape is  (160,)\n",
      "s = \n",
      " [['-' '-' '-' ... 'Y' 'E' 'K']\n",
      " ['M' 'I' 'S' ... 'W' 'E' 'R']\n",
      " ['-' 'L' 'A' ... 'Y' 'E' 'R']\n",
      " ...\n",
      " ['-' '-' '-' ... '-' '-' '-']\n",
      " ['-' 'V' 'S' ... 'Y' 'E' 'R']\n",
      " ['-' 'F' 'S' ... 'Y' 'E' 'K']]\n",
      "though s still has gaps, s[69] does not:\n",
      " ['M' 'I' 'S' 'H' 'I' 'V' 'A' 'M' 'D' 'E' 'N' 'R' 'V' 'I' 'G' 'K' 'D' 'N'\n",
      " 'R' 'L' 'P' 'W' 'H' 'L' 'P' 'A' 'D' 'L' 'A' 'Y' 'F' 'K' 'R' 'V' 'T' 'M'\n",
      " 'G' 'H' 'A' 'I' 'V' 'M' 'G' 'R' 'K' 'T' 'F' 'E' 'A' 'I' 'G' 'R' 'P' 'L'\n",
      " 'P' 'G' 'R' 'D' 'N' 'V' 'V' 'V' 'T' 'R' 'N' 'R' 'S' 'F' 'R' 'P' 'E' 'G'\n",
      " 'C' 'L' 'V' 'L' 'H' 'S' 'L' 'E' 'E' 'V' 'K' 'Q' 'W' 'I' 'A' 'S' 'R' 'A'\n",
      " 'D' 'E' 'V' 'F' 'I' 'I' 'G' 'G' 'A' 'E' 'L' 'F' 'R' 'A' 'T' 'M' 'P' 'I'\n",
      " 'V' 'D' 'R' 'L' 'Y' 'V' 'T' 'K' 'I' 'F' 'A' 'S' 'F' 'P' 'G' 'D' 'T' 'F'\n",
      " 'Y' 'P' 'P' 'I' 'S' 'D' 'D' 'E' 'W' 'E' 'I' 'V' 'S' 'Y' 'T' 'P' 'G' 'G'\n",
      " 'K' 'D' 'E' 'K' 'N' 'P' 'Y' 'E' 'H' 'A' 'F' 'I' 'I' 'Y' 'E' 'R']\n",
      "s shape is  (7750, 160)\n",
      "Saving indices of reference sequence s[69](length=160):\n",
      " [  0   1   2   3   4   5   6   7   8   9  10  11  12  13  14  15  16  17\n",
      "  18  19  20  21  22  23  24  25  26  27  28  29  30  31  32  33  34  35\n",
      "  36  37  38  39  40  41  42  43  44  45  46  47  48  49  50  51  52  53\n",
      "  54  55  56  57  58  59  60  61  62  63  64  65  66  67  68  69  70  71\n",
      "  72  73  74  75  76  77  78  79  80  81  82  83  84  85  86  87  88  89\n",
      "  90  91  92  93  94  95  96  97  98  99 100 101 102 103 104 105 106 107\n",
      " 108 109 110 111 112 113 114 115 116 117 118 119 120 121 122 123 124 125\n",
      " 126 127 128 129 130 131 132 133 134 135 136 137 138 139 140 141 142 143\n",
      " 144 145 146 147 148 149 150 151 152 153 154 155 156 157 158 159]\n",
      "#--------------------------------------------------------------#\n",
      "\n",
      "\n",
      "(7750, 160)\n",
      "remove sequences containing too many gaps\n",
      "(6734, 160)\n",
      "found bad columns := [  0  89 144 145 158 159]\n",
      "found conserved columns (80% repetition):\n",
      " [  6  13  14  21  30  34  41  42  43  45  53  56  96  97 114 123 127]\n",
      "We remove conserved and bad columns with, at the following indices:\n",
      " [  0   6  13  14 144 145  21  89  30 158 159  96  34  97  41  42  43  45\n",
      " 114  53  56 123 127]\n",
      "Removed Columns...\n",
      "s now has shape:  (6734, 137)\n",
      "s_index (length=137) = \n",
      " [  1   2   3   4   5   7   8   9  10  11  12  15  16  17  18  19  20  22\n",
      "  23  24  25  26  27  28  29  31  32  33  35  36  37  38  39  40  44  46\n",
      "  47  48  49  50  51  52  54  55  57  58  59  60  61  62  63  64  65  66\n",
      "  67  68  69  70  71  72  73  74  75  76  77  78  79  80  81  82  83  84\n",
      "  85  86  87  88  90  91  92  93  94  95  98  99 100 101 102 103 104 105\n",
      " 106 107 108 109 110 111 112 113 115 116 117 118 119 120 121 122 124 125\n",
      " 126 128 129 130 131 132 133 134 135 136 137 138 139 140 141 142 143 146\n",
      " 147 148 149 150 151 152 153 154 155 156 157]\n",
      "Removed columns:  [  0   6  13  14 144 145  21  89  30 158 159  96  34  97  41  42  43  45\n",
      " 114  53  56 123 127]\n"
     ]
    },
    {
     "data": {
      "text/html": [
       "\n",
       "        <script>\n",
       "            function code_toggle_2646252800536456571() {\n",
       "                $('div.cell.code_cell.rendered.selected').find('div.input').toggle();\n",
       "            }\n",
       "\n",
       "            \n",
       "        </script>\n",
       "\n",
       "        <a href=\"javascript:code_toggle_2646252800536456571()\">Toggle show/hide</a>\n",
       "    "
      ],
      "text/plain": [
       "<IPython.core.display.HTML object>"
      ]
     },
     "execution_count": 4,
     "metadata": {},
     "output_type": "execute_result"
    }
   ],
   "source": [
    "# Read in Protein structure\n",
    "data_path = '../Pfam-A.full'\n",
    "pfam_id = 'PF04542'\n",
    "pfam_id = 'PF00186'\n",
    "pdb = np.load('%s/%s/pdb_refs.npy'%(data_path,pfam_id))\n",
    "\n",
    "# Pre-Process Structure Data\n",
    "# delete 'b' in front of letters (python 2 --> python 3)\n",
    "pdb = np.array([pdb[t,i].decode('UTF-8') for t in range(pdb.shape[0]) \\\n",
    "         for i in range(pdb.shape[1])]).reshape(pdb.shape[0],pdb.shape[1])\n",
    "\n",
    "# Print number of pdb structures in Protein ID folder\n",
    "npdb = pdb.shape[0]\n",
    "print('number of pdb structures:',npdb)\n",
    "\n",
    "# Print PDB array \n",
    "print(pdb)\n",
    "print(pdb[0])\n",
    "\n",
    "# Create pandas dataframe for protein structure\n",
    "df = pd.DataFrame(pdb,columns = ['PF','seq','id','uniprot_start','uniprot_start',\\\n",
    "                                 'pdb_id','chain','pdb_start','pdb_end'])\n",
    "df.head()\n",
    "\n",
    "ipdb = 0\n",
    "print('seq:',int(pdb[ipdb,1]))\n",
    "\n",
    "from data_processing import data_processing\n",
    "# data processing\n",
    "s0,cols_removed, s_index = data_processing(data_path,pfam_id,ipdb,\\\n",
    "                gap_seqs=0.2,gap_cols=0.2,prob_low=0.004,conserved_cols=0.9)\n",
    "\n",
    "print(\"Removed columns: \",cols_removed)\n",
    "\n",
    "tools.hide_toggle()"
   ]
  },
  {
   "cell_type": "code",
   "execution_count": 5,
   "metadata": {},
   "outputs": [
    {
     "name": "stdout",
     "output_type": "stream",
     "text": [
      "Number of residue positions: 137\n",
      "Number of different amino acids at each position [ 6 16 12  7  8 16  8 17 12 14  9 19 11 10 13  5  5 14  9  6 11  2  9 12\n",
      " 11  9 10 16 17 11 12 13  5  4  9  7 11  6  5 10 12 10  9  9 17  8  8  2\n",
      "  5  2 11 11 18 18 20 20 20 14 13 15 16 15 14 14  7 12 15 12  8 15 15 21\n",
      " 19 16 16 20 15 17 13 11  8 10 12 13  4  3 13 15 12 11 13 19  9 11 17  7\n",
      " 14  8 16  3 16 19 15 14 15  7  7 15  7 17 10 16 20 17 18  5 17 16 17 20\n",
      " 19 18 21 21 19 15 17 13 16 13 14 10 14  9 18 14  5]\n",
      "(Sanity Check) Column indices of first and ( [0 6] ) and last ( [1697 1702] ) positions\n",
      "(Sanity Check) Column indices of second and ( [ 6 22] ) and second to last ( [1683 1697] ) positions\n",
      "Total number of variables 1702\n"
     ]
    },
    {
     "data": {
      "text/html": [
       "\n",
       "        <script>\n",
       "            function code_toggle_2897328838924876300() {\n",
       "                $('div.cell.code_cell.rendered.selected').find('div.input').toggle();\n",
       "            }\n",
       "\n",
       "            \n",
       "        </script>\n",
       "\n",
       "        <a href=\"javascript:code_toggle_2897328838924876300()\">Toggle show/hide</a>\n",
       "    "
      ],
      "text/plain": [
       "<IPython.core.display.HTML object>"
      ]
     },
     "execution_count": 5,
     "metadata": {},
     "output_type": "execute_result"
    }
   ],
   "source": [
    "# number of positions\n",
    "n_var = s0.shape[1]\n",
    "print(\"Number of residue positions:\",n_var)\n",
    "\n",
    "# number of aminoacids at each position\n",
    "mx = np.array([len(np.unique(s0[:,i])) for i in range(n_var)])\n",
    "#mx = np.array([m for i in range(n_var)])\n",
    "print(\"Number of different amino acids at each position\",mx)\n",
    "\n",
    "mx_cumsum = np.insert(mx.cumsum(),0,0)\n",
    "i1i2 = np.stack([mx_cumsum[:-1],mx_cumsum[1:]]).T \n",
    "print(\"(Sanity Check) Column indices of first and (\",i1i2[0],\") and last (\",i1i2[-1],\") positions\")\n",
    "print(\"(Sanity Check) Column indices of second and (\",i1i2[1],\") and second to last (\",i1i2[-2],\") positions\")\n",
    "\n",
    "\n",
    "# number of variables\n",
    "mx_sum = mx.sum()\n",
    "print(\"Total number of variables\",mx_sum)\n",
    "\n",
    "# number of bias term\n",
    "n_linear = mx_sum - n_var\n",
    "\n",
    "tools.hide_toggle()"
   ]
  },
  {
   "cell_type": "code",
   "execution_count": 6,
   "metadata": {},
   "outputs": [
    {
     "data": {
      "text/html": [
       "\n",
       "        <script>\n",
       "            function code_toggle_2172132573141041643() {\n",
       "                $('div.cell.code_cell.rendered.selected').find('div.input').toggle();\n",
       "            }\n",
       "\n",
       "            \n",
       "        </script>\n",
       "\n",
       "        <a href=\"javascript:code_toggle_2172132573141041643()\">Toggle show/hide</a>\n",
       "    "
      ],
      "text/plain": [
       "<IPython.core.display.HTML object>"
      ]
     },
     "execution_count": 6,
     "metadata": {},
     "output_type": "execute_result"
    }
   ],
   "source": [
    "onehot_encoder = OneHotEncoder(sparse=False,categories='auto')\n",
    "# s is OneHot encoder format, s0 is original sequnce matrix\n",
    "s = onehot_encoder.fit_transform(s0)\n",
    "#print(\"Amino Acid sequence Matrix\\n\",s0)\n",
    "#print(\"OneHot sequence Matrix\\n\",s)\n",
    "#print(\"An individual element of the OneHot sequence Matrix (size:\",\n",
    "#      s.shape,\") --> \",s[0], \" has length \",s[0].shape)\n",
    "\n",
    "tools.hide_toggle()"
   ]
  },
  {
   "cell_type": "markdown",
   "metadata": {},
   "source": [
    "### First lets consider no distance constraint.\n",
    "* Note: We have added a new output to data_processing: s_index \n",
    "    * Original index of processed referenece sequence data"
   ]
  },
  {
   "cell_type": "code",
   "execution_count": 23,
   "metadata": {},
   "outputs": [
    {
     "name": "stderr",
     "output_type": "stream",
     "text": [
      "/Users/cresswellclayec/anaconda3/lib/python3.7/site-packages/joblib/externals/loky/process_executor.py:706: UserWarning: A worker stopped while some jobs were given to the executor. This can be caused by a too short worker timeout or by a memory leak.\n",
      "  \"timeout or by a memory leak.\", UserWarning\n"
     ]
    },
    {
     "name": "stdout",
     "output_type": "stream",
     "text": [
      "run time: 320.95470380200004\n"
     ]
    },
    {
     "data": {
      "text/html": [
       "\n",
       "        <script>\n",
       "            function code_toggle_9424532229581528162() {\n",
       "                $('div.cell.code_cell.rendered.selected').find('div.input').toggle();\n",
       "            }\n",
       "\n",
       "            \n",
       "        </script>\n",
       "\n",
       "        <a href=\"javascript:code_toggle_9424532229581528162()\">Toggle show/hide</a>\n",
       "    "
      ],
      "text/plain": [
       "<IPython.core.display.HTML object>"
      ]
     },
     "execution_count": 23,
     "metadata": {},
     "output_type": "execute_result"
    }
   ],
   "source": [
    "# Define wight matrix with variable for each possible amino acid at each sequence position\n",
    "w = np.zeros((mx.sum(),mx.sum())) \n",
    "h0 = np.zeros(mx.sum())\n",
    "\n",
    "# Expectation Reflection\n",
    "# Expectation Reflection\n",
    "#=========================================================================================\n",
    "def predict_w(s,i0,i1i2,niter_max,l2):\n",
    "    #print('i0:',i0)\n",
    "    i1,i2 = i1i2[i0,0],i1i2[i0,1]\n",
    "\n",
    "    x = np.hstack([s[:,:i1],s[:,i2:]])\n",
    "    y = s[:,i1:i2]\n",
    "\n",
    "    h01,w1 = ER.fit(x,y,niter_max,l2)\n",
    "\n",
    "    return h01,w1\n",
    "\n",
    "#-------------------------------\n",
    "# parallel\n",
    "start_time = timeit.default_timer()\n",
    "#res = Parallel(n_jobs = 4)(delayed(predict_w)\\\n",
    "#res = Parallel(n_jobs = 8)(delayed(predict_w)\\\n",
    "res = Parallel(n_jobs = 32)(delayed(predict_w)\\\n",
    "        (s,i0,i1i2,niter_max=10,l2=100.0)\\\n",
    "        for i0 in range(n_var))\n",
    "\n",
    "run_time = timeit.default_timer() - start_time\n",
    "print('run time:',run_time)\n",
    "#----------------niter_max,l2)\n",
    "for i0 in range(n_var):\n",
    "    i1,i2 = i1i2[i0,0],i1i2[i0,1]\n",
    "\n",
    "    h01 = res[i0][0]\n",
    "    w1 = res[i0][1]\n",
    "\n",
    "    h0[i1:i2] = h01\n",
    "    w[:i1,i1:i2] = w1[:i1,:]\n",
    "    w[i2:,i1:i2] = w1[i1:,:]\n",
    "\n",
    "# make w symmetric\n",
    "w = (w + w.T)/2.\n",
    "\n",
    "# Calculate Direct Information from infered weights and Original Sequence Data\n",
    "di = direct_info(s0,w)\n",
    "\n",
    "# Save w and di for future use\n",
    "np.save('ER_w.npy',w)\n",
    "np.save('ER_DI.npy',di)\n",
    "\n",
    "tools.hide_toggle()"
   ]
  },
  {
   "cell_type": "code",
   "execution_count": 24,
   "metadata": {},
   "outputs": [],
   "source": [
    "# Calculate the direct info sans distance restraint\n",
    "di_regular = direct_info(s0,w)"
   ]
  },
  {
   "cell_type": "markdown",
   "metadata": {},
   "source": [
    "### Now constrain |i-j| > 5."
   ]
  },
  {
   "cell_type": "code",
   "execution_count": 42,
   "metadata": {},
   "outputs": [
    {
     "name": "stdout",
     "output_type": "stream",
     "text": [
      "s_index (length=137):\n",
      " [  1   2   3   4   5   7   8   9  10  11  12  15  16  17  18  19  20  22\n",
      "  23  24  25  26  27  28  29  31  32  33  35  36  37  38  39  40  44  46\n",
      "  47  48  49  50  51  52  54  55  57  58  59  60  61  62  63  64  65  66\n",
      "  67  68  69  70  71  72  73  74  75  76  77  78  79  80  81  82  83  84\n",
      "  85  86  87  88  90  91  92  93  94  95  98  99 100 101 102 103 104 105\n",
      " 106 107 108 109 110 111 112 113 115 116 117 118 119 120 121 122 124 125\n",
      " 126 128 129 130 131 132 133 134 135 136 137 138 139 140 141 142 143 146\n",
      " 147 148 149 150 151 152 153 154 155 156 157]\n",
      "Left and Right bounds:  [  0   0   0   0   0   0   1   2   3   4   4   7   8   9  10  10  10  12\n",
      "  13  14  15  16  16  17  18  20  21  22  24  24  25  26  27  27  31  33\n",
      "  33  33  33  34  34  35  37  38  40  41  41  42  43  43  44  45  46  47\n",
      "  48  49  50  51  52  53  54  55  56  57  58  59  60  61  62  63  64  65\n",
      "  66  67  68  69  71  72  73  74  75  75  78  79  80  81  81  81  82  83\n",
      "  84  85  86  87  88  89  90  91  93  94  95  96  97  97  98  99 101 102\n",
      " 103 105 105 106 107 108 108 109 110 111 112 113 114 115 116 117 118 121\n",
      " 122 123 124 124 124 125 126 127 128 129 130] [  5   6   7   8   9  11  11  11  12  13  14  17  17  18  19  20  21  23\n",
      "  24  25  25  26  27  28  28  30  31  32  34  34  34  34  35  35  39  41\n",
      "  42  42  43  44  44  45  47  48  50  51  52  53  54  55  56  57  58  59\n",
      "  60  61  62  63  64  65  66  67  68  69  70  71  72  73  74  75  76  76\n",
      "  77  78  79  80  82  82  82  83  84  85  88  89  90  91  92  93  94  95\n",
      "  96  97  98  98  99 100 101 102 104 105 106 106 107 108 109 109 111 112\n",
      " 113 115 116 117 118 119 120 121 122 123 124 125 125 125 126 127 128 131\n",
      " 132 133 134 135 136   0   0   0   0   0   0]\n"
     ]
    },
    {
     "ename": "TypeError",
     "evalue": "only integer scalar arrays can be converted to a scalar index",
     "output_type": "error",
     "traceback": [
      "\u001b[0;31m---------------------------------------------------------------------------\u001b[0m",
      "\u001b[0;31m_RemoteTraceback\u001b[0m                          Traceback (most recent call last)",
      "\u001b[0;31m_RemoteTraceback\u001b[0m: \n\"\"\"\nTraceback (most recent call last):\n  File \"/Users/cresswellclayec/anaconda3/lib/python3.7/site-packages/joblib/externals/loky/process_executor.py\", line 418, in _process_worker\n    r = call_item()\n  File \"/Users/cresswellclayec/anaconda3/lib/python3.7/site-packages/joblib/externals/loky/process_executor.py\", line 272, in __call__\n    return self.fn(*self.args, **self.kwargs)\n  File \"/Users/cresswellclayec/anaconda3/lib/python3.7/site-packages/joblib/_parallel_backends.py\", line 567, in __call__\n    return self.func(*args, **kwargs)\n  File \"/Users/cresswellclayec/anaconda3/lib/python3.7/site-packages/joblib/parallel.py\", line 225, in __call__\n    for func, args, kwargs in self.items]\n  File \"/Users/cresswellclayec/anaconda3/lib/python3.7/site-packages/joblib/parallel.py\", line 225, in <listcomp>\n    for func, args, kwargs in self.items]\n  File \"<ipython-input-42-b9d961bb5476>\", line 37, in predict_w\n  File \"/Users/cresswellclayec/anaconda3/lib/python3.7/site-packages/numpy/core/memmap.py\", line 331, in __getitem__\n    res = super(memmap, self).__getitem__(index)\nTypeError: only integer scalar arrays can be converted to a scalar index\n\"\"\"",
      "\nThe above exception was the direct cause of the following exception:\n",
      "\u001b[0;31mTypeError\u001b[0m                                 Traceback (most recent call last)",
      "\u001b[0;32m<ipython-input-42-b9d961bb5476>\u001b[0m in \u001b[0;36m<module>\u001b[0;34m\u001b[0m\n\u001b[1;32m     49\u001b[0m res = Parallel(n_jobs = 32)(delayed(predict_w)\\\n\u001b[1;32m     50\u001b[0m         \u001b[0;34m(\u001b[0m\u001b[0ms\u001b[0m\u001b[0;34m,\u001b[0m\u001b[0mi0_restr\u001b[0m\u001b[0;34m,\u001b[0m\u001b[0miL\u001b[0m\u001b[0;34m,\u001b[0m\u001b[0miR\u001b[0m\u001b[0;34m,\u001b[0m\u001b[0mi1i2\u001b[0m\u001b[0;34m,\u001b[0m\u001b[0mniter_max\u001b[0m\u001b[0;34m=\u001b[0m\u001b[0;36m10\u001b[0m\u001b[0;34m,\u001b[0m\u001b[0ml2\u001b[0m\u001b[0;34m=\u001b[0m\u001b[0;36m100.0\u001b[0m\u001b[0;34m)\u001b[0m\u001b[0;31m\\\u001b[0m\u001b[0;34m\u001b[0m\u001b[0;34m\u001b[0m\u001b[0m\n\u001b[0;32m---> 51\u001b[0;31m         for i0_restr in range(n_var))\n\u001b[0m\u001b[1;32m     52\u001b[0m \u001b[0;34m\u001b[0m\u001b[0m\n\u001b[1;32m     53\u001b[0m \u001b[0mrun_time\u001b[0m \u001b[0;34m=\u001b[0m \u001b[0mtimeit\u001b[0m\u001b[0;34m.\u001b[0m\u001b[0mdefault_timer\u001b[0m\u001b[0;34m(\u001b[0m\u001b[0;34m)\u001b[0m \u001b[0;34m-\u001b[0m \u001b[0mstart_time\u001b[0m\u001b[0;34m\u001b[0m\u001b[0;34m\u001b[0m\u001b[0m\n",
      "\u001b[0;32m~/anaconda3/lib/python3.7/site-packages/joblib/parallel.py\u001b[0m in \u001b[0;36m__call__\u001b[0;34m(self, iterable)\u001b[0m\n\u001b[1;32m    932\u001b[0m \u001b[0;34m\u001b[0m\u001b[0m\n\u001b[1;32m    933\u001b[0m             \u001b[0;32mwith\u001b[0m \u001b[0mself\u001b[0m\u001b[0;34m.\u001b[0m\u001b[0m_backend\u001b[0m\u001b[0;34m.\u001b[0m\u001b[0mretrieval_context\u001b[0m\u001b[0;34m(\u001b[0m\u001b[0;34m)\u001b[0m\u001b[0;34m:\u001b[0m\u001b[0;34m\u001b[0m\u001b[0;34m\u001b[0m\u001b[0m\n\u001b[0;32m--> 934\u001b[0;31m                 \u001b[0mself\u001b[0m\u001b[0;34m.\u001b[0m\u001b[0mretrieve\u001b[0m\u001b[0;34m(\u001b[0m\u001b[0;34m)\u001b[0m\u001b[0;34m\u001b[0m\u001b[0;34m\u001b[0m\u001b[0m\n\u001b[0m\u001b[1;32m    935\u001b[0m             \u001b[0;31m# Make sure that we get a last message telling us we are done\u001b[0m\u001b[0;34m\u001b[0m\u001b[0;34m\u001b[0m\u001b[0;34m\u001b[0m\u001b[0m\n\u001b[1;32m    936\u001b[0m             \u001b[0melapsed_time\u001b[0m \u001b[0;34m=\u001b[0m \u001b[0mtime\u001b[0m\u001b[0;34m.\u001b[0m\u001b[0mtime\u001b[0m\u001b[0;34m(\u001b[0m\u001b[0;34m)\u001b[0m \u001b[0;34m-\u001b[0m \u001b[0mself\u001b[0m\u001b[0;34m.\u001b[0m\u001b[0m_start_time\u001b[0m\u001b[0;34m\u001b[0m\u001b[0;34m\u001b[0m\u001b[0m\n",
      "\u001b[0;32m~/anaconda3/lib/python3.7/site-packages/joblib/parallel.py\u001b[0m in \u001b[0;36mretrieve\u001b[0;34m(self)\u001b[0m\n\u001b[1;32m    831\u001b[0m             \u001b[0;32mtry\u001b[0m\u001b[0;34m:\u001b[0m\u001b[0;34m\u001b[0m\u001b[0;34m\u001b[0m\u001b[0m\n\u001b[1;32m    832\u001b[0m                 \u001b[0;32mif\u001b[0m \u001b[0mgetattr\u001b[0m\u001b[0;34m(\u001b[0m\u001b[0mself\u001b[0m\u001b[0;34m.\u001b[0m\u001b[0m_backend\u001b[0m\u001b[0;34m,\u001b[0m \u001b[0;34m'supports_timeout'\u001b[0m\u001b[0;34m,\u001b[0m \u001b[0;32mFalse\u001b[0m\u001b[0;34m)\u001b[0m\u001b[0;34m:\u001b[0m\u001b[0;34m\u001b[0m\u001b[0;34m\u001b[0m\u001b[0m\n\u001b[0;32m--> 833\u001b[0;31m                     \u001b[0mself\u001b[0m\u001b[0;34m.\u001b[0m\u001b[0m_output\u001b[0m\u001b[0;34m.\u001b[0m\u001b[0mextend\u001b[0m\u001b[0;34m(\u001b[0m\u001b[0mjob\u001b[0m\u001b[0;34m.\u001b[0m\u001b[0mget\u001b[0m\u001b[0;34m(\u001b[0m\u001b[0mtimeout\u001b[0m\u001b[0;34m=\u001b[0m\u001b[0mself\u001b[0m\u001b[0;34m.\u001b[0m\u001b[0mtimeout\u001b[0m\u001b[0;34m)\u001b[0m\u001b[0;34m)\u001b[0m\u001b[0;34m\u001b[0m\u001b[0;34m\u001b[0m\u001b[0m\n\u001b[0m\u001b[1;32m    834\u001b[0m                 \u001b[0;32melse\u001b[0m\u001b[0;34m:\u001b[0m\u001b[0;34m\u001b[0m\u001b[0;34m\u001b[0m\u001b[0m\n\u001b[1;32m    835\u001b[0m                     \u001b[0mself\u001b[0m\u001b[0;34m.\u001b[0m\u001b[0m_output\u001b[0m\u001b[0;34m.\u001b[0m\u001b[0mextend\u001b[0m\u001b[0;34m(\u001b[0m\u001b[0mjob\u001b[0m\u001b[0;34m.\u001b[0m\u001b[0mget\u001b[0m\u001b[0;34m(\u001b[0m\u001b[0;34m)\u001b[0m\u001b[0;34m)\u001b[0m\u001b[0;34m\u001b[0m\u001b[0;34m\u001b[0m\u001b[0m\n",
      "\u001b[0;32m~/anaconda3/lib/python3.7/site-packages/joblib/_parallel_backends.py\u001b[0m in \u001b[0;36mwrap_future_result\u001b[0;34m(future, timeout)\u001b[0m\n\u001b[1;32m    519\u001b[0m         AsyncResults.get from multiprocessing.\"\"\"\n\u001b[1;32m    520\u001b[0m         \u001b[0;32mtry\u001b[0m\u001b[0;34m:\u001b[0m\u001b[0;34m\u001b[0m\u001b[0;34m\u001b[0m\u001b[0m\n\u001b[0;32m--> 521\u001b[0;31m             \u001b[0;32mreturn\u001b[0m \u001b[0mfuture\u001b[0m\u001b[0;34m.\u001b[0m\u001b[0mresult\u001b[0m\u001b[0;34m(\u001b[0m\u001b[0mtimeout\u001b[0m\u001b[0;34m=\u001b[0m\u001b[0mtimeout\u001b[0m\u001b[0;34m)\u001b[0m\u001b[0;34m\u001b[0m\u001b[0;34m\u001b[0m\u001b[0m\n\u001b[0m\u001b[1;32m    522\u001b[0m         \u001b[0;32mexcept\u001b[0m \u001b[0mLokyTimeoutError\u001b[0m\u001b[0;34m:\u001b[0m\u001b[0;34m\u001b[0m\u001b[0;34m\u001b[0m\u001b[0m\n\u001b[1;32m    523\u001b[0m             \u001b[0;32mraise\u001b[0m \u001b[0mTimeoutError\u001b[0m\u001b[0;34m(\u001b[0m\u001b[0;34m)\u001b[0m\u001b[0;34m\u001b[0m\u001b[0;34m\u001b[0m\u001b[0m\n",
      "\u001b[0;32m~/anaconda3/lib/python3.7/concurrent/futures/_base.py\u001b[0m in \u001b[0;36mresult\u001b[0;34m(self, timeout)\u001b[0m\n\u001b[1;32m    433\u001b[0m                 \u001b[0;32mraise\u001b[0m \u001b[0mCancelledError\u001b[0m\u001b[0;34m(\u001b[0m\u001b[0;34m)\u001b[0m\u001b[0;34m\u001b[0m\u001b[0;34m\u001b[0m\u001b[0m\n\u001b[1;32m    434\u001b[0m             \u001b[0;32melif\u001b[0m \u001b[0mself\u001b[0m\u001b[0;34m.\u001b[0m\u001b[0m_state\u001b[0m \u001b[0;34m==\u001b[0m \u001b[0mFINISHED\u001b[0m\u001b[0;34m:\u001b[0m\u001b[0;34m\u001b[0m\u001b[0;34m\u001b[0m\u001b[0m\n\u001b[0;32m--> 435\u001b[0;31m                 \u001b[0;32mreturn\u001b[0m \u001b[0mself\u001b[0m\u001b[0;34m.\u001b[0m\u001b[0m__get_result\u001b[0m\u001b[0;34m(\u001b[0m\u001b[0;34m)\u001b[0m\u001b[0;34m\u001b[0m\u001b[0;34m\u001b[0m\u001b[0m\n\u001b[0m\u001b[1;32m    436\u001b[0m             \u001b[0;32melse\u001b[0m\u001b[0;34m:\u001b[0m\u001b[0;34m\u001b[0m\u001b[0;34m\u001b[0m\u001b[0m\n\u001b[1;32m    437\u001b[0m                 \u001b[0;32mraise\u001b[0m \u001b[0mTimeoutError\u001b[0m\u001b[0;34m(\u001b[0m\u001b[0;34m)\u001b[0m\u001b[0;34m\u001b[0m\u001b[0;34m\u001b[0m\u001b[0m\n",
      "\u001b[0;32m~/anaconda3/lib/python3.7/concurrent/futures/_base.py\u001b[0m in \u001b[0;36m__get_result\u001b[0;34m(self)\u001b[0m\n\u001b[1;32m    382\u001b[0m     \u001b[0;32mdef\u001b[0m \u001b[0m__get_result\u001b[0m\u001b[0;34m(\u001b[0m\u001b[0mself\u001b[0m\u001b[0;34m)\u001b[0m\u001b[0;34m:\u001b[0m\u001b[0;34m\u001b[0m\u001b[0;34m\u001b[0m\u001b[0m\n\u001b[1;32m    383\u001b[0m         \u001b[0;32mif\u001b[0m \u001b[0mself\u001b[0m\u001b[0;34m.\u001b[0m\u001b[0m_exception\u001b[0m\u001b[0;34m:\u001b[0m\u001b[0;34m\u001b[0m\u001b[0;34m\u001b[0m\u001b[0m\n\u001b[0;32m--> 384\u001b[0;31m             \u001b[0;32mraise\u001b[0m \u001b[0mself\u001b[0m\u001b[0;34m.\u001b[0m\u001b[0m_exception\u001b[0m\u001b[0;34m\u001b[0m\u001b[0;34m\u001b[0m\u001b[0m\n\u001b[0m\u001b[1;32m    385\u001b[0m         \u001b[0;32melse\u001b[0m\u001b[0;34m:\u001b[0m\u001b[0;34m\u001b[0m\u001b[0;34m\u001b[0m\u001b[0m\n\u001b[1;32m    386\u001b[0m             \u001b[0;32mreturn\u001b[0m \u001b[0mself\u001b[0m\u001b[0;34m.\u001b[0m\u001b[0m_result\u001b[0m\u001b[0;34m\u001b[0m\u001b[0;34m\u001b[0m\u001b[0m\n",
      "\u001b[0;31mTypeError\u001b[0m: only integer scalar arrays can be converted to a scalar index"
     ]
    }
   ],
   "source": [
    "# Define wight matrix with variable for each possible amino acid at each sequence position\n",
    "w = np.zeros((mx.sum(),mx.sum())) \n",
    "h0 = np.zeros(mx.sum())\n",
    "\n",
    "# Expectation Reflection\n",
    "# Expectation Reflection\n",
    "#=========================================================================================\n",
    "\n",
    "#------------- Define Distance Bounds --------------#\n",
    "iL = np.zeros(s_index.shape,dtype=int)\n",
    "iR = np.zeros(s_index.shape,dtype=int)\n",
    "if s0.shape[1] != s_index.shape[0]:\n",
    "    print(\"Print original index array size does not match sequence array size\")\n",
    "    exit(0);\n",
    "\n",
    "print(\"s_index (length=%d):\\n\"%s_index.shape[0],s_index)\n",
    "for i00, r_index in enumerate(s_index):\n",
    "    #print(\"deining bounds for i0 = %d\"%i0 0)\n",
    "    # find left bound\n",
    "    for ii in range(i00):\n",
    "        #print(\"for %d, |%d - %d| = %d\"%(ii,r_index,s_index[ii],abs(r_index-s_index[ii])))\n",
    "        if abs(r_index - s_index[ii]) > 5:\n",
    "            iL[i00] = ii\n",
    "    # find right bound\n",
    "    for ii in range(s_index.shape[0]-1,i00,-1):\n",
    "        #print(\"for %d, |%d - %d| = %d\"%(ii,r_index,s_index[ii],abs(r_index-s_index[ii])))\n",
    "        if abs(r_index - s_index[ii]) > 5:\n",
    "            iR[i00] = ii\n",
    "print(\"Left and Right bounds: \",iL,iR)\n",
    "#---------------------------------------------------#\n",
    "\n",
    "def predict_w(s,i0,iL,iR,i1i2,niter_max,l2):\n",
    "\n",
    "    iL,iR = i1i2[iL,0],i1i2[iR,1]\n",
    "    i1,i2 = i1i2[i0,0],i1i2[i0,1]\n",
    "    \n",
    "    x = np.hstack([s[:,:iL],s[:,iR:]])\n",
    "    y = s[:,i1:i2]\n",
    "    h01,w1 = ER.fit(x,y,niter_max,l2)\n",
    "\n",
    "    return h01,w1\n",
    "\n",
    "\n",
    "#-------------------------------\n",
    "# parallel\n",
    "start_time = timeit.default_timer()\n",
    "#res = Parallel(n_jobs = 4)(delayed(predict_w)\\\n",
    "#res = Parallel(n_jobs = 8)(delayed(predict_w)\\\n",
    "res = Parallel(n_jobs = 32)(delayed(predict_w)\\\n",
    "        (s,i0_restr,iL,iR,i1i2,niter_max=10,l2=100.0)\\\n",
    "        for i0_restr in range(n_var))\n",
    "\n",
    "run_time = timeit.default_timer() - start_time\n",
    "print('run time:',run_time)\n",
    "#----------------niter_max,l2)\n",
    "for i0 in range(n_var):\n",
    "    i1,i2 = i1i2[i0,0],i1i2[i0,1]\n",
    "\n",
    "    h01 = res[i0][0]\n",
    "    w1 = res[i0][1]\n",
    "\n",
    "    h0[i1:i2] = h01\n",
    "    w[:i1,i1:i2] = w1[:i1,:]\n",
    "    w[i2:,i1:i2] = w1[i1:,:]\n",
    "\n",
    "# make w symmetric\n",
    "w = (w + w.T)/2.\n",
    "\n",
    "# Calculate Direct Information from infered weights and Original Sequence Data\n",
    "di = direct_info(s0,w)\n",
    "\n",
    "# Save w and di for future use\n",
    "np.save('ER_w.npy',w)\n",
    "np.save('ER_DI.npy',di)\n",
    "\n",
    "tools.hide_toggle()"
   ]
  },
  {
   "cell_type": "markdown",
   "metadata": {},
   "source": [
    "## Compare Optimal DCA and ER (ct_thresh = 1.5 and 2. resp.)\n",
    "* Taking the optimal threshold for each gives comparable accuracy\n",
    "* ER Has higher accuracy for lower threshold"
   ]
  },
  {
   "cell_type": "code",
   "execution_count": null,
   "metadata": {},
   "outputs": [],
   "source": [
    "# find optimal threshold of distance for both DCA and ER\n",
    "ct_thres = np.linspace(1.5,10.,18,endpoint=True)\n",
    "n = ct_thres.shape[0]\n",
    "\n",
    "auc_ER_reg = np.zeros(n)\n",
    "auc_ER_restr = np.zeros(n)\n",
    "for i in range(n):\n",
    "    p,tp,fp = tools.roc_curve(ct,di_regular,ct_thres[i])\n",
    "    auc_ER_reg[i] = tp.sum()/tp.shape[0]\n",
    "    \n",
    "    p,tp,fp = tools.roc_curve(ct,di_restr,ct_thres[i])\n",
    "    auc_ER_restr[i] = tp.sum()/tp.shape[0]\n",
    "    \n",
    "i0_reg = np.argmax(auc_ER_reg)\n",
    "i0_restr = np.argmax(auc_ER_restr)\n",
    "\n",
    "print('regular ER auc max:',ct_thres[i0_reg],auc[i0_reg])\n",
    "p0_reg,tp0_reg,fp0_reg = tools.roc_curve(ct,di_regular,ct_thres[i0_reg])\n",
    "print('restrained ER auc max:',ct_thres[i0_restr],auc[i0restr])\n",
    "p0_restr,tp0_restr,fp0_restr = tools.roc_curve(ct,di_restr,ct_thres[i0_restr])\n",
    "\n",
    "tools.hide_toggle()"
   ]
  },
  {
   "cell_type": "code",
   "execution_count": null,
   "metadata": {},
   "outputs": [],
   "source": [
    "# Plot ROC for optimal distally constrained vs versus un-constrained ER\n",
    "plt.subplot2grid((1,3),(0,0))\n",
    "plt.title('ROC at thres (regular ER, restrained ER)\\n = (%3.2f, %3.2f)'%(ct_thres[i0_reg],ct_thres[i0_restr]))\n",
    "plt.plot(fp0_restr,tp0_restr,'b-',label=\"Restrained ER\")\n",
    "plt.plot(fp0_reg,tp0_reg,'r-',label=\"Regular ER\")\n",
    "plt.plot([0,1],[0,1],'k--')\n",
    "plt.xlim([0,1])\n",
    "plt.ylim([0,1])\n",
    "plt.xlabel('False Positive Rate')\n",
    "plt.ylabel('True Positive Rate')\n",
    "plt.legend()\n",
    "\n",
    "# Plot AUC for DCA and ER\n",
    "plt.subplot2grid((1,3),(0,1))\n",
    "plt.title('AUC (regular ER, restrained ER) max\\n = (%3.2f, %3.2f)' %(auc_DCA[i0_reg], auc_ER[i0_restr]))\n",
    "plt.plot([ct_thres.min(),ct_thres.max()],[0.5,0.5],'k--')\n",
    "plt.plot(ct_thres,auc_reg,'b-',label=\"Restrained ER\")\n",
    "plt.plot(ct_thres,auc_restr,'r-',label=\"Regular ER\")\n",
    "plt.xlim([ct_thres.min(),ct_thres.max()])\n",
    "plt.ylim([0,auc.max()+0.1])\n",
    "plt.xlabel('distance threshold')\n",
    "plt.ylabel('AUC')\n",
    "plt.legend()\n",
    "\n",
    "# Plot Precision of optimal DCA and ER\n",
    "plt.subplot2grid((1,3),(0,2))\n",
    "plt.title('Precision at thres \\n(regular ER, restrained ER) = (%3.2f, %3.2f)'%(ct_thres[i0_reg],ct_thres[i0_restr]))\n",
    "plt.plot( p0_reg,tp0_reg / (tp0_reg + fp0_reg),'r-',label='Regular thres = %s'%ct_thres[i0_reg])\n",
    "plt.plot( p0_restr,tp0_restr / (tp0_restr + fp0_restr),'b-',label='Restrained thres = %s'%ct_thres[i0_restr])\n",
    "plt.plot([0,1],[0,1],'k--')\n",
    "plt.xlim([0,1])\n",
    "plt.ylim([0,1])\n",
    "plt.xlabel('False Positive Rate')\n",
    "plt.ylabel('True Positive Rate')\n",
    "plt.legend()\n",
    "\n",
    "plt.tight_layout(h_pad=1, w_pad=1.5)\n",
    "\n",
    "\n",
    "tools.hide_toggle()"
   ]
  }
 ],
 "metadata": {
  "kernelspec": {
   "display_name": "Python 3",
   "language": "python",
   "name": "python3"
  },
  "language_info": {
   "codemirror_mode": {
    "name": "ipython",
    "version": 3
   },
   "file_extension": ".py",
   "mimetype": "text/x-python",
   "name": "python",
   "nbconvert_exporter": "python",
   "pygments_lexer": "ipython3",
   "version": "3.7.4"
  }
 },
 "nbformat": 4,
 "nbformat_minor": 2
}
